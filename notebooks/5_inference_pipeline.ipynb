{
 "cells": [
  {
   "cell_type": "markdown",
   "metadata": {},
   "source": [
    "# 5. Inference pipeline\n",
    "This notebook consists of 3 parts:\n",
    "\n",
    "1. Connecting to the Feature Store and retriving feature views/groups and model\n",
    "3. Predicting if theres a detection or not\n",
    "4. Saving the prediction in a new feature view/group"
   ]
  },
  {
   "cell_type": "code",
   "execution_count": 1,
   "metadata": {},
   "outputs": [],
   "source": [
    "# import libraries\n",
    "import pandas as pd\n",
    "import hopsworks\n",
    "import joblib"
   ]
  },
  {
   "cell_type": "markdown",
   "metadata": {},
   "source": [
    "## 1. Connecting to the Feature Store and retriving feature views/groups and model"
   ]
  },
  {
   "cell_type": "code",
   "execution_count": 2,
   "metadata": {},
   "outputs": [
    {
     "name": "stdout",
     "output_type": "stream",
     "text": [
      "Connected. Call `.close()` to terminate connection gracefully.\n",
      "\n",
      "Multiple projects found. \n",
      "\n",
      "\t (1) annikaij\n",
      "\t (2) miknie20\n",
      "\n",
      "Logged in to project, explore it here https://c.app.hopsworks.ai:443/p/549019\n",
      "Connected. Call `.close()` to terminate connection gracefully.\n"
     ]
    }
   ],
   "source": [
    "project = hopsworks.login()\n",
    "fs = project.get_feature_store()"
   ]
  },
  {
   "cell_type": "code",
   "execution_count": 3,
   "metadata": {},
   "outputs": [
    {
     "name": "stdout",
     "output_type": "stream",
     "text": [
      "Connection closed.\n",
      "Connected. Call `.close()` to terminate connection gracefully.\n",
      "\n",
      "Multiple projects found. \n",
      "\n",
      "\t (1) annikaij\n",
      "\t (2) miknie20\n",
      "Invalid input, should be an integer from the list of projects.\n",
      "\n",
      "Logged in to project, explore it here https://c.app.hopsworks.ai:443/p/549019\n",
      "Connected. Call `.close()` to terminate connection gracefully.\n"
     ]
    }
   ],
   "source": [
    "# connect to the feature store\n",
    "project = hopsworks.login()\n",
    "fs = project.get_feature_store()"
   ]
  },
  {
   "cell_type": "code",
   "execution_count": 5,
   "metadata": {},
   "outputs": [
    {
     "name": "stdout",
     "output_type": "stream",
     "text": [
      "Connected. Call `.close()` to terminate connection gracefully.\n",
      "Downloading model artifact (0 dirs, 10 files)... DONE\r"
     ]
    }
   ],
   "source": [
    "# Get the bike lane model from the model registry\n",
    "mr = project.get_model_registry()\n",
    "bikelane_model = mr.get_model(\"bikelane_hist_model\", version=1)\n",
    "model_dir = bikelane_model.download()\n",
    "bikelane_model = joblib.load(\"/work/Test_MLOps_Project/notebooks/models/bikelane_hist_model.pkl\")"
   ]
  },
  {
   "cell_type": "code",
   "execution_count": 6,
   "metadata": {},
   "outputs": [
    {
     "name": "stdout",
     "output_type": "stream",
     "text": [
      "Downloading model artifact (0 dirs, 10 files)... DONE\r"
     ]
    }
   ],
   "source": [
    "# Get the building model from the model registry\n",
    "building_model = mr.get_model(\"building_hist_model\", version=2)\n",
    "model_dir = building_model.download()\n",
    "building_model = joblib.load(\"/work/Test_MLOps_Project/notebooks/models/building_hist_model.pkl\")"
   ]
  },
  {
   "cell_type": "code",
   "execution_count": 7,
   "metadata": {},
   "outputs": [],
   "source": [
    "# Retrieve the feature views for each parking spot\n",
    "bikelane_feature_view = fs.get_feature_view(name=\"bikelane_new_fv\", version=1)\n",
    "building_feature_view = fs.get_feature_view(name=\"building_new_fv\", version=1)"
   ]
  },
  {
   "cell_type": "code",
   "execution_count": 8,
   "metadata": {},
   "outputs": [
    {
     "name": "stdout",
     "output_type": "stream",
     "text": [
      "Finished: Reading data from Hopsworks, using Hopsworks Feature Query Service (0.70s) \n"
     ]
    }
   ],
   "source": [
    "# Make predictions on the newest bikelane data\n",
    "bikelane_data = bikelane_feature_view.get_batch_data()\n",
    "bikelane_pred = bikelane_model.predict(bikelane_data)"
   ]
  },
  {
   "cell_type": "code",
   "execution_count": 9,
   "metadata": {},
   "outputs": [
    {
     "name": "stdout",
     "output_type": "stream",
     "text": [
      "Finished: Reading data from Hopsworks, using Hopsworks Feature Query Service (0.60s) \n"
     ]
    }
   ],
   "source": [
    "# Make predictions on the newest building data\n",
    "building_data = building_feature_view.get_batch_data()\n",
    "building_pred = building_model.predict(building_data)"
   ]
  },
  {
   "cell_type": "code",
   "execution_count": 10,
   "metadata": {},
   "outputs": [],
   "source": [
    "# Add the predictions to the dataframes\n",
    "bikelane_data['mag_cluster'] = [bikelane_pred[bikelane_pred.size-1]]\n",
    "building_data['mag_cluster'] = [building_pred[building_pred.size-1]]"
   ]
  },
  {
   "cell_type": "code",
   "execution_count": 11,
   "metadata": {},
   "outputs": [],
   "source": [
    "#making a column describing if its data from bikelane or building\n",
    "bikelane_data['data_type'] = ['bikelane']\n",
    "building_data['data_type'] = ['building']"
   ]
  },
  {
   "cell_type": "code",
   "execution_count": 12,
   "metadata": {},
   "outputs": [],
   "source": [
    "#combining the two dataframes\n",
    "data = pd.concat([bikelane_data, building_data])"
   ]
  },
  {
   "cell_type": "code",
   "execution_count": 13,
   "metadata": {},
   "outputs": [
    {
     "name": "stdout",
     "output_type": "stream",
     "text": [
      "Feature Group created successfully, explore it at \n",
      "https://c.app.hopsworks.ai:443/p/549019/fs/544841/fg/792929\n"
     ]
    },
    {
     "data": {
      "application/vnd.jupyter.widget-view+json": {
       "model_id": "9f1abb9e95c24c5d9bf5ff1aef35975a",
       "version_major": 2,
       "version_minor": 0
      },
      "text/plain": [
       "Uploading Dataframe: 0.00% |          | Rows 0/2 | Elapsed Time: 00:00 | Remaining Time: ?"
      ]
     },
     "metadata": {},
     "output_type": "display_data"
    },
    {
     "name": "stdout",
     "output_type": "stream",
     "text": [
      "Launching job: parking_predictions_1_offline_fg_materialization\n",
      "Job started successfully, you can follow the progress at \n",
      "https://c.app.hopsworks.ai/p/549019/jobs/named/parking_predictions_1_offline_fg_materialization/executions\n"
     ]
    },
    {
     "data": {
      "text/plain": [
       "(<hsfs.core.job.Job at 0x7f25ae443e90>, None)"
      ]
     },
     "execution_count": 13,
     "metadata": {},
     "output_type": "execute_result"
    }
   ],
   "source": [
    "# upload the predictions to the feature store as a new feature group\n",
    "latest_pred_fg = fs.get_or_create_feature_group(name=\"parking_predictions\",\n",
    "                                  version=1,\n",
    "                                  primary_key=[\"x\", \"y\", \"z\"],\n",
    "                                  description=\"Predictions for parking spots\",\n",
    "                                  online_enabled=False,\n",
    "                                 )\n",
    "latest_pred_fg.insert(data)"
   ]
  },
  {
   "cell_type": "code",
   "execution_count": null,
   "metadata": {},
   "outputs": [],
   "source": []
  }
 ],
 "metadata": {
  "kernelspec": {
   "display_name": "Python 3",
   "language": "python",
   "name": "python3"
  },
  "language_info": {
   "codemirror_mode": {
    "name": "ipython",
    "version": 3
   },
   "file_extension": ".py",
   "mimetype": "text/x-python",
   "name": "python",
   "nbconvert_exporter": "python",
   "pygments_lexer": "ipython3",
   "version": "3.11.9"
  }
 },
 "nbformat": 4,
 "nbformat_minor": 2
}
