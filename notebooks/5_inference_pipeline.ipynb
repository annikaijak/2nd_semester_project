{
 "cells": [
  {
   "cell_type": "markdown",
   "metadata": {},
   "source": [
    "# 5. Inference pipeline\n",
    "This notebook consists of 3 parts:\n",
    "\n",
    "1. Connecting to the Feature Store and retriving feature views/groups and model\n",
    "3. Predicting if theres a detection or not\n",
    "4. Saving the prediction in a new feature view/group"
   ]
  },
  {
   "cell_type": "code",
   "execution_count": 1,
   "metadata": {},
   "outputs": [],
   "source": [
    "# import libraries\n",
    "import pandas as pd\n",
    "import hopsworks\n",
    "import joblib"
   ]
  },
  {
   "cell_type": "markdown",
   "metadata": {},
   "source": [
    "## 1. Connecting to the Feature Store and retriving feature views/groups and model"
   ]
  },
  {
   "cell_type": "code",
   "execution_count": 2,
   "metadata": {},
   "outputs": [
    {
     "name": "stdout",
     "output_type": "stream",
     "text": [
      "Connected. Call `.close()` to terminate connection gracefully.\n",
      "\n",
      "Logged in to project, explore it here https://c.app.hopsworks.ai:443/p/549019\n",
      "Connected. Call `.close()` to terminate connection gracefully.\n"
     ]
    }
   ],
   "source": [
    "project = hopsworks.login(project=\"annikaij\")\n",
    "fs = project.get_feature_store()"
   ]
  },
  {
   "cell_type": "code",
   "execution_count": 3,
   "metadata": {},
   "outputs": [
    {
     "name": "stdout",
     "output_type": "stream",
     "text": [
      "Connection closed.\n",
      "Connected. Call `.close()` to terminate connection gracefully.\n",
      "\n",
      "Logged in to project, explore it here https://c.app.hopsworks.ai:443/p/549019\n",
      "Connected. Call `.close()` to terminate connection gracefully.\n"
     ]
    }
   ],
   "source": [
    "# connect to the feature store\n",
    "project = hopsworks.login(project=\"annikaij\")\n",
    "fs = project.get_feature_store()"
   ]
  },
  {
   "cell_type": "code",
   "execution_count": 4,
   "metadata": {},
   "outputs": [
    {
     "name": "stdout",
     "output_type": "stream",
     "text": [
      "Connected. Call `.close()` to terminate connection gracefully.\n",
      "Downloading model artifact (0 dirs, 14 files)... DONE\r"
     ]
    }
   ],
   "source": [
    "# Get the magnetic bike lane model from the model registry\n",
    "mr = project.get_model_registry()\n",
    "mag_bikelane_model = mr.get_model(\"bikelane_mag_hist_model\", version=2)\n",
    "model_dir = mag_bikelane_model.download()\n",
    "mag_bikelane_model = joblib.load(\"/workspaces/2nd_semester_project/notebooks/models/bikelane_mag_hist_model.pkl\")"
   ]
  },
  {
   "cell_type": "code",
   "execution_count": 5,
   "metadata": {},
   "outputs": [
    {
     "name": "stdout",
     "output_type": "stream",
     "text": [
      "Downloading model artifact (0 dirs, 12 files)... DONE\r"
     ]
    }
   ],
   "source": [
    "# Get the magnetic building model from the model registry\n",
    "mag_building_model = mr.get_model(\"building_mag_hist_model\", version=2)\n",
    "model_dir = mag_building_model.download()\n",
    "mag_building_model = joblib.load(\"/workspaces/2nd_semester_project/notebooks/models/building_mag_hist_model.pkl\")"
   ]
  },
  {
   "cell_type": "code",
   "execution_count": 6,
   "metadata": {},
   "outputs": [
    {
     "name": "stdout",
     "output_type": "stream",
     "text": [
      "Downloading model artifact (0 dirs, 18 files)... DONE\r"
     ]
    }
   ],
   "source": [
    "# get the radar bikelane model from the model registry\n",
    "radar_bikelane_model = mr.get_model(\"bikelane_rad_hist_model\", version=2)\n",
    "model_dir = radar_bikelane_model.download()\n",
    "radar_bikelane_model = joblib.load(\"/workspaces/2nd_semester_project/notebooks/models/bikelane_rad_hist_model.pkl\")"
   ]
  },
  {
   "cell_type": "code",
   "execution_count": 7,
   "metadata": {},
   "outputs": [
    {
     "name": "stdout",
     "output_type": "stream",
     "text": [
      "Downloading model artifact (0 dirs, 16 files)... DONE\r"
     ]
    }
   ],
   "source": [
    "# get the radar building model from the model registry\n",
    "radar_building_model = mr.get_model(\"building_rad_hist_model\", version=2)\n",
    "model_dir = radar_building_model.download()\n",
    "radar_building_model = joblib.load(\"/workspaces/2nd_semester_project/notebooks/models/building_rad_hist_model.pkl\")"
   ]
  },
  {
   "cell_type": "code",
   "execution_count": 8,
   "metadata": {},
   "outputs": [],
   "source": [
    "# Retrieve the feature views for each parking spot\n",
    "mag_bikelane_feature_view = fs.get_feature_view(name=\"hist_bikelane_mag_fv\", version=1)\n",
    "mag_building_feature_view = fs.get_feature_view(name=\"hist_building_mag_fv\", version=1)\n",
    "rad_bikelane_feature_view = fs.get_feature_view(name=\"hist_bikelane_radar_fv\", version=1)\n",
    "rad_building_feature_view = fs.get_feature_view(name=\"hist_building_radar_fv\", version=1)\n"
   ]
  },
  {
   "cell_type": "code",
   "execution_count": 9,
   "metadata": {},
   "outputs": [
    {
     "name": "stdout",
     "output_type": "stream",
     "text": [
      "Finished: Reading data from Hopsworks, using Hopsworks Feature Query Service (1.87s) \n"
     ]
    }
   ],
   "source": [
    "# Make predictions on the newest magnetic bikelane data\n",
    "mag_bikelane_data = mag_bikelane_feature_view.get_batch_data()\n",
    "mag_bikelane_pred = mag_bikelane_model.predict(mag_bikelane_data)"
   ]
  },
  {
   "cell_type": "code",
   "execution_count": 10,
   "metadata": {},
   "outputs": [
    {
     "name": "stdout",
     "output_type": "stream",
     "text": [
      "Finished: Reading data from Hopsworks, using Hopsworks Feature Query Service (1.74s) \n"
     ]
    }
   ],
   "source": [
    "# Make predictions on the newest magnetic building data\n",
    "mag_building_data = mag_building_feature_view.get_batch_data()\n",
    "mag_building_pred = mag_building_model.predict(mag_building_data)\n"
   ]
  },
  {
   "cell_type": "code",
   "execution_count": 11,
   "metadata": {},
   "outputs": [
    {
     "name": "stdout",
     "output_type": "stream",
     "text": [
      "Finished: Reading data from Hopsworks, using Hopsworks Feature Query Service (1.24s) \n"
     ]
    }
   ],
   "source": [
    "# Make predictions on the newest radar bikelane data\n",
    "rad_bikelane_data = rad_bikelane_feature_view.get_batch_data()\n",
    "rad_bikelane_pred = radar_bikelane_model.predict(rad_bikelane_data)"
   ]
  },
  {
   "cell_type": "code",
   "execution_count": 12,
   "metadata": {},
   "outputs": [
    {
     "name": "stdout",
     "output_type": "stream",
     "text": [
      "Finished: Reading data from Hopsworks, using Hopsworks Feature Query Service (1.11s) \n"
     ]
    }
   ],
   "source": [
    "# Make predictions on the newest radar building data\n",
    "rad_building_data = rad_building_feature_view.get_batch_data()\n",
    "rad_building_pred = radar_building_model.predict(rad_building_data)"
   ]
  },
  {
   "cell_type": "code",
   "execution_count": 14,
   "metadata": {},
   "outputs": [],
   "source": [
    "# Add the predictions to the dataframes\n",
    "mag_bikelane_data['mag_cluster'] = mag_bikelane_pred[mag_bikelane_pred.size-1]\n",
    "mag_building_data['mag_cluster'] = mag_building_pred[mag_building_pred.size-1]\n",
    "rad_bikelane_data['rad_cluster'] = rad_bikelane_pred[rad_bikelane_pred.size-1]\n",
    "rad_building_data['rad_cluster'] = rad_building_pred[rad_building_pred.size-1]\n"
   ]
  },
  {
   "cell_type": "code",
   "execution_count": 17,
   "metadata": {},
   "outputs": [],
   "source": [
    "#making a column describing if its data from bikelane or building\n",
    "mag_bikelane_data['data_type'] = 'bikelane'\n",
    "mag_building_data['data_type'] = 'building'\n",
    "rad_bikelane_data['data_type'] = 'bikelane'\n",
    "rad_building_data['data_type'] = 'building'"
   ]
  },
  {
   "cell_type": "code",
   "execution_count": 19,
   "metadata": {},
   "outputs": [],
   "source": [
    "#combining the two dataframes\n",
    "mag_data = pd.concat([mag_bikelane_data, mag_building_data])\n",
    "rad_data = pd.concat([rad_bikelane_data, rad_building_data])"
   ]
  },
  {
   "cell_type": "code",
   "execution_count": 20,
   "metadata": {},
   "outputs": [
    {
     "name": "stdout",
     "output_type": "stream",
     "text": [
      "Feature Group created successfully, explore it at \n",
      "https://c.app.hopsworks.ai:443/p/549019/fs/544841/fg/849283\n"
     ]
    },
    {
     "data": {
      "application/vnd.jupyter.widget-view+json": {
       "model_id": "58abaad9595a4fecb7cad5c8c4ac45d6",
       "version_major": 2,
       "version_minor": 0
      },
      "text/plain": [
       "Uploading Dataframe: 0.00% |          | Rows 0/15260 | Elapsed Time: 00:00 | Remaining Time: ?"
      ]
     },
     "metadata": {},
     "output_type": "display_data"
    },
    {
     "name": "stdout",
     "output_type": "stream",
     "text": [
      "Launching job: mag_parking_predictions_1_offline_fg_materialization\n",
      "Job started successfully, you can follow the progress at \n",
      "https://c.app.hopsworks.ai/p/549019/jobs/named/mag_parking_predictions_1_offline_fg_materialization/executions\n"
     ]
    },
    {
     "data": {
      "text/plain": [
       "(<hsfs.core.job.Job at 0x7d8e75d67580>, None)"
      ]
     },
     "execution_count": 20,
     "metadata": {},
     "output_type": "execute_result"
    }
   ],
   "source": [
    "# upload the predictions to the feature store as a new feature group\n",
    "latest_pred_fg = fs.get_or_create_feature_group(name=\"mag_parking_predictions\",\n",
    "                                  version=1,\n",
    "                                  primary_key=[\"x\", \"y\", \"z\"],\n",
    "                                  description=\"Predictions for parking spots with magnetic data\",\n",
    "                                  online_enabled=False,\n",
    "                                 )\n",
    "latest_pred_fg.insert(mag_data)"
   ]
  },
  {
   "cell_type": "code",
   "execution_count": 22,
   "metadata": {},
   "outputs": [
    {
     "name": "stdout",
     "output_type": "stream",
     "text": [
      "Feature Group created successfully, explore it at \n",
      "https://c.app.hopsworks.ai:443/p/549019/fs/544841/fg/850277\n"
     ]
    },
    {
     "data": {
      "application/vnd.jupyter.widget-view+json": {
       "model_id": "be2b54f797004b57a85e36c61ad960ae",
       "version_major": 2,
       "version_minor": 0
      },
      "text/plain": [
       "Uploading Dataframe: 0.00% |          | Rows 0/5313 | Elapsed Time: 00:00 | Remaining Time: ?"
      ]
     },
     "metadata": {},
     "output_type": "display_data"
    },
    {
     "name": "stdout",
     "output_type": "stream",
     "text": [
      "Launching job: rad_parking_predictions_1_offline_fg_materialization\n",
      "Job started successfully, you can follow the progress at \n",
      "https://c.app.hopsworks.ai/p/549019/jobs/named/rad_parking_predictions_1_offline_fg_materialization/executions\n"
     ]
    },
    {
     "data": {
      "text/plain": [
       "(<hsfs.core.job.Job at 0x7d8e75dcfd30>, None)"
      ]
     },
     "execution_count": 22,
     "metadata": {},
     "output_type": "execute_result"
    }
   ],
   "source": [
    "# upload the radar predictions to the feature store as a new feature group\n",
    "latest_pred_fg = fs.get_or_create_feature_group(name=\"rad_parking_predictions\",\n",
    "                                  version=1,\n",
    "                                  primary_key=['radar_0', 'radar_1', 'radar_2', 'radar_3', 'radar_4', 'radar_5', 'radar_6', 'radar_7'],\n",
    "                                  description=\"Predictions for parking spots with radar data\",\n",
    "                                  online_enabled=False,\n",
    "                                 )\n",
    "latest_pred_fg.insert(rad_data)"
   ]
  }
 ],
 "metadata": {
  "kernelspec": {
   "display_name": "Python 3",
   "language": "python",
   "name": "python3"
  },
  "language_info": {
   "codemirror_mode": {
    "name": "ipython",
    "version": 3
   },
   "file_extension": ".py",
   "mimetype": "text/x-python",
   "name": "python",
   "nbconvert_exporter": "python",
   "pygments_lexer": "ipython3",
   "version": "3.10.13"
  }
 },
 "nbformat": 4,
 "nbformat_minor": 2
}
