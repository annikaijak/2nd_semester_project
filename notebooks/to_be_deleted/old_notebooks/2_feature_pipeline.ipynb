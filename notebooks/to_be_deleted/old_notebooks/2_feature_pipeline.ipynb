{
 "cells": [
  {
   "cell_type": "markdown",
   "metadata": {},
   "source": [
    "\n",
    "# Feature Pipeline\n",
    "This notebook consists of 5 parts:\n",
    "1. parsing new data from Sensade API\n",
    "2. Inserting the newest data into our feature store"
   ]
  },
  {
   "cell_type": "code",
   "execution_count": 1,
   "metadata": {},
   "outputs": [
    {
     "name": "stderr",
     "output_type": "stream",
     "text": [
      "/home/codespace/.local/lib/python3.10/site-packages/tqdm/auto.py:21: TqdmWarning: IProgress not found. Please update jupyter and ipywidgets. See https://ipywidgets.readthedocs.io/en/stable/user_install.html\n",
      "  from .autonotebook import tqdm as notebook_tqdm\n"
     ]
    }
   ],
   "source": [
    "import random\n",
    "import pandas as pd\n",
    "import hopsworks \n",
    "\n",
    "import uuid\n",
    "from datetime import datetime\n",
    "import pytz\n",
    "\n",
    "BACKFILL=False # is set to false, the script will generate new data"
   ]
  },
  {
   "cell_type": "markdown",
   "metadata": {},
   "source": [
    "## Fake data generation"
   ]
  },
  {
   "cell_type": "code",
   "execution_count": 2,
   "metadata": {},
   "outputs": [],
   "source": [
    "# Create a timezone object for GMT+2\n",
    "timezone = pytz.timezone('Etc/GMT-2')\n",
    "# Get the current time in GMT+2\n",
    "now = datetime.now(timezone).strftime(\"%m/%d/%Y, %H:%M:%S\")"
   ]
  },
  {
   "cell_type": "code",
   "execution_count": 4,
   "metadata": {},
   "outputs": [],
   "source": [
    "# function to generate one fake observation for EL1\n",
    "def generate_magnetic_field_update_el1(name, x_max, x_min, y_max, y_min, z_max, z_min):\n",
    "    \"\"\"\n",
    "    Returns a single magnetic field update as a single row in a DataFrame\n",
    "    \"\"\"\n",
    "    df = pd.DataFrame({\"id\": [str(uuid.uuid4())],\n",
    "                       \"x\": [random.uniform(x_max, x_min)],\n",
    "                       \"y\": [random.uniform(y_max, y_min)],\n",
    "                       \"z\": [random.uniform(z_max, z_min)],\n",
    "                      })\n",
    "\n",
    "    return df\n",
    "\n",
    "def get_random_magnetic_field_update_el1():\n",
    "    \"\"\"\n",
    "    Returns a DataFrame containing one random magnetic field update\n",
    "    \"\"\"\n",
    "    detection_df = generate_magnetic_field_update_el1(\"detection\", 1156, -374, 401, -1275, 603, -1433)\n",
    "    no_detection_df = generate_magnetic_field_update_el1(\"no_detection\", 2041, -860, 905, -897, -133, -4087)\n",
    "\n",
    "    # randomly pick one of these 2 and write it to the featurestore\n",
    "    pick_random = random.uniform(0,2)\n",
    "    if pick_random >= 1:\n",
    "        mag_df_el1 = detection_df\n",
    "    else:\n",
    "        mag_df_el1 = no_detection_df\n",
    "\n",
    "    # Add current date and time to 'time' column\n",
    "    mag_df_el1['time'] = now\n",
    "    mag_df_el1['time'] = pd.to_datetime(mag_df_el1['time'])\n",
    "\n",
    "    # Add a ID for the parking space sensor name EL1\n",
    "    mag_df_el1['psensor'] = 'EL1'\n",
    "\n",
    "    return mag_df_el1"
   ]
  },
  {
   "cell_type": "code",
   "execution_count": 5,
   "metadata": {},
   "outputs": [],
   "source": [
    "# function to generate one fake observation for EL2\n",
    "def generate_magnetic_field_update_el2(name, x_max, x_min, y_max, y_min, z_max, z_min):\n",
    "    \"\"\"\n",
    "    Returns a single magnetic field update as a single row in a DataFrame\n",
    "    \"\"\"\n",
    "    df = pd.DataFrame({\"id\": [str(uuid.uuid4())],\n",
    "                       \"x\": [random.uniform(x_max, x_min)],\n",
    "                       \"y\": [random.uniform(y_max, y_min)],\n",
    "                       \"z\": [random.uniform(z_max, z_min)],\n",
    "                      })\n",
    "\n",
    "    return df\n",
    "\n",
    "def get_random_magnetic_field_update_el2():\n",
    "    \"\"\"\n",
    "    Returns a DataFrame containing one random magnetic field update\n",
    "    \"\"\"\n",
    "    detection_df = generate_magnetic_field_update_el2(\"detection\", 1156, -374, 401, -1275, 603, -1433)\n",
    "    no_detection_df = generate_magnetic_field_update_el2(\"no_detection\", 2041, -860, 905, -897, -133, -4087)\n",
    "\n",
    "    # randomly pick one of these 2 and write it to the featurestore\n",
    "    pick_random = random.uniform(0,2)\n",
    "    if pick_random >= 1:\n",
    "        mag_df_el2 = detection_df\n",
    "    else:\n",
    "        mag_df_el2 = no_detection_df\n",
    "\n",
    "    # Add current date and time to 'time' column\n",
    "    mag_df_el2['time'] = now\n",
    "    mag_df_el2['time'] = pd.to_datetime(mag_df_el2['time'])\n",
    "\n",
    "    # Add a ID for the parking space sensor name EL2\n",
    "    mag_df_el2['psensor'] = 'EL2'\n",
    "\n",
    "    return mag_df_el2"
   ]
  },
  {
   "cell_type": "code",
   "execution_count": 6,
   "metadata": {},
   "outputs": [],
   "source": [
    "# function to generate one fake observation for EL3\n",
    "def generate_magnetic_field_update_el3(name, x_max, x_min, y_max, y_min, z_max, z_min):\n",
    "    \"\"\"\n",
    "    Returns a single magnetic field update as a single row in a DataFrame\n",
    "    \"\"\"\n",
    "    df = pd.DataFrame({\"id\": [str(uuid.uuid4())],\n",
    "                       \"x\": [random.uniform(x_max, x_min)],\n",
    "                       \"y\": [random.uniform(y_max, y_min)],\n",
    "                       \"z\": [random.uniform(z_max, z_min)],\n",
    "                      })\n",
    "\n",
    "    return df\n",
    "\n",
    "def get_random_magnetic_field_update_el3():\n",
    "    \"\"\"\n",
    "    Returns a DataFrame containing one random magnetic field update\n",
    "    \"\"\"\n",
    "    detection_df = generate_magnetic_field_update_el3(\"detection\", 1156, -374, 401, -1275, 603, -1433)\n",
    "    no_detection_df = generate_magnetic_field_update_el3(\"no_detection\", 2041, -860, 905, -897, -133, -4087)\n",
    "\n",
    "    # randomly pick one of these 2 and write it to the featurestore\n",
    "    pick_random = random.uniform(0,2)\n",
    "    if pick_random >= 1:\n",
    "        mag_df_el3 = detection_df\n",
    "    else:\n",
    "        mag_df_el3 = no_detection_df\n",
    "\n",
    "    # Add current date and time to 'time' column\n",
    "    mag_df_el3['time'] = now\n",
    "    mag_df_el3['time'] = pd.to_datetime(mag_df_el3['time'])\n",
    "\n",
    "    # Add a ID for the parking space sensor name EL2\n",
    "    mag_df_el3['psensor'] = 'EL3'\n",
    "\n",
    "    return mag_df_el3"
   ]
  },
  {
   "cell_type": "code",
   "execution_count": 7,
   "metadata": {},
   "outputs": [
    {
     "name": "stdout",
     "output_type": "stream",
     "text": [
      "                                     id           x           y          z  \\\n",
      "0  10e81eab-aef4-4a8e-b000-de9f82acb44e  177.676998  359.081974  43.040308   \n",
      "\n",
      "                 time psensor  \n",
      "0 2024-04-30 11:06:05     EL1                                        id            x         y           z  \\\n",
      "0  7c9762f0-f879-423e-a867-3556fb37933d  1406.731235 -5.650229 -237.923224   \n",
      "\n",
      "                 time psensor  \n",
      "0 2024-04-30 11:06:05     EL2                                        id          x           y           z  \\\n",
      "0  b7a11920-a3e4-4ee8-a44e-9c84f1f2ed91  161.67681 -512.321921  154.182894   \n",
      "\n",
      "                 time psensor  \n",
      "0 2024-04-30 11:06:05     EL3  \n"
     ]
    }
   ],
   "source": [
    "if BACKFILL == True:\n",
    "    raise ValueError(\"No new data to gennerated. BACKFILL is set to False.\")\n",
    "else:\n",
    "    mag_df_el1 = get_random_magnetic_field_update_el1()\n",
    "    mag_df_el2 = get_random_magnetic_field_update_el2()\n",
    "    mag_df_el3 = get_random_magnetic_field_update_el3()\n",
    "    \n",
    "print(mag_df_el1.head(), mag_df_el2.head(), mag_df_el3.head())"
   ]
  },
  {
   "cell_type": "code",
   "execution_count": 8,
   "metadata": {},
   "outputs": [
    {
     "data": {
      "text/html": [
       "<div>\n",
       "<style scoped>\n",
       "    .dataframe tbody tr th:only-of-type {\n",
       "        vertical-align: middle;\n",
       "    }\n",
       "\n",
       "    .dataframe tbody tr th {\n",
       "        vertical-align: top;\n",
       "    }\n",
       "\n",
       "    .dataframe thead th {\n",
       "        text-align: right;\n",
       "    }\n",
       "</style>\n",
       "<table border=\"1\" class=\"dataframe\">\n",
       "  <thead>\n",
       "    <tr style=\"text-align: right;\">\n",
       "      <th></th>\n",
       "      <th>id</th>\n",
       "      <th>x</th>\n",
       "      <th>y</th>\n",
       "      <th>z</th>\n",
       "      <th>time</th>\n",
       "      <th>psensor</th>\n",
       "    </tr>\n",
       "  </thead>\n",
       "  <tbody>\n",
       "    <tr>\n",
       "      <th>0</th>\n",
       "      <td>10e81eab-aef4-4a8e-b000-de9f82acb44e</td>\n",
       "      <td>177.676998</td>\n",
       "      <td>359.081974</td>\n",
       "      <td>43.040308</td>\n",
       "      <td>2024-04-30 11:06:05</td>\n",
       "      <td>EL1</td>\n",
       "    </tr>\n",
       "  </tbody>\n",
       "</table>\n",
       "</div>"
      ],
      "text/plain": [
       "                                     id           x           y          z  \\\n",
       "0  10e81eab-aef4-4a8e-b000-de9f82acb44e  177.676998  359.081974  43.040308   \n",
       "\n",
       "                 time psensor  \n",
       "0 2024-04-30 11:06:05     EL1  "
      ]
     },
     "execution_count": 8,
     "metadata": {},
     "output_type": "execute_result"
    }
   ],
   "source": [
    "mag_df_el1.head()"
   ]
  },
  {
   "cell_type": "code",
   "execution_count": 9,
   "metadata": {},
   "outputs": [
    {
     "name": "stdout",
     "output_type": "stream",
     "text": [
      "<class 'pandas.core.frame.DataFrame'>\n",
      "RangeIndex: 1 entries, 0 to 0\n",
      "Data columns (total 6 columns):\n",
      " #   Column   Non-Null Count  Dtype         \n",
      "---  ------   --------------  -----         \n",
      " 0   id       1 non-null      object        \n",
      " 1   x        1 non-null      float64       \n",
      " 2   y        1 non-null      float64       \n",
      " 3   z        1 non-null      float64       \n",
      " 4   time     1 non-null      datetime64[ns]\n",
      " 5   psensor  1 non-null      object        \n",
      "dtypes: datetime64[ns](1), float64(3), object(2)\n",
      "memory usage: 176.0+ bytes\n"
     ]
    }
   ],
   "source": [
    "mag_df_el1.info()"
   ]
  },
  {
   "cell_type": "markdown",
   "metadata": {},
   "source": [
    "## Upload new data in a feature group for each parking space"
   ]
  },
  {
   "cell_type": "code",
   "execution_count": 10,
   "metadata": {},
   "outputs": [
    {
     "name": "stdout",
     "output_type": "stream",
     "text": [
      "Connected. Call `.close()` to terminate connection gracefully.\n"
     ]
    },
    {
     "name": "stdout",
     "output_type": "stream",
     "text": [
      "\n",
      "Logged in to project, explore it here https://c.app.hopsworks.ai:443/p/549014\n",
      "Connected. Call `.close()` to terminate connection gracefully.\n"
     ]
    }
   ],
   "source": [
    "# connect to hopsworks\n",
    "project = hopsworks.login()\n",
    "fs = project.get_feature_store()"
   ]
  },
  {
   "cell_type": "code",
   "execution_count": 11,
   "metadata": {},
   "outputs": [
    {
     "name": "stdout",
     "output_type": "stream",
     "text": [
      "Feature Group created successfully, explore it at \n",
      "https://c.app.hopsworks.ai:443/p/549014/fs/544837/fg/767323\n"
     ]
    },
    {
     "name": "stderr",
     "output_type": "stream",
     "text": [
      "Uploading Dataframe: 100.00% |██████████| Rows 1/1 | Elapsed Time: 00:05 | Remaining Time: 00:00\n"
     ]
    },
    {
     "name": "stdout",
     "output_type": "stream",
     "text": [
      "Launching job: new_parking_detection_features_el1_1_offline_fg_materialization\n",
      "Job started successfully, you can follow the progress at \n",
      "https://c.app.hopsworks.ai/p/549014/jobs/named/new_parking_detection_features_el1_1_offline_fg_materialization/executions\n"
     ]
    },
    {
     "data": {
      "text/plain": [
       "(<hsfs.core.job.Job at 0x7f5d2c212da0>, None)"
      ]
     },
     "execution_count": 11,
     "metadata": {},
     "output_type": "execute_result"
    }
   ],
   "source": [
    "\n",
    "new_parking_detection_features_el1 = fs.get_or_create_feature_group(name=\"new_parking_detection_features_el1\",\n",
    "                                  version=1,\n",
    "                                  primary_key=[\"id\"],\n",
    "                                  event_time='time',\n",
    "                                  description=\"New data for EL1\",\n",
    "                                  online_enabled=True\n",
    "                                 )\n",
    "new_parking_detection_features_el1.insert(mag_df_el1)"
   ]
  },
  {
   "cell_type": "code",
   "execution_count": 12,
   "metadata": {},
   "outputs": [
    {
     "name": "stdout",
     "output_type": "stream",
     "text": [
      "Feature Group created successfully, explore it at \n",
      "https://c.app.hopsworks.ai:443/p/549014/fs/544837/fg/766329\n"
     ]
    },
    {
     "name": "stderr",
     "output_type": "stream",
     "text": [
      "Uploading Dataframe: 100.00% |██████████| Rows 1/1 | Elapsed Time: 00:05 | Remaining Time: 00:00\n"
     ]
    },
    {
     "name": "stdout",
     "output_type": "stream",
     "text": [
      "Launching job: new_parking_detection_features_el2_1_offline_fg_materialization\n",
      "Job started successfully, you can follow the progress at \n",
      "https://c.app.hopsworks.ai/p/549014/jobs/named/new_parking_detection_features_el2_1_offline_fg_materialization/executions\n"
     ]
    },
    {
     "data": {
      "text/plain": [
       "(<hsfs.core.job.Job at 0x7f5d2cf2cc10>, None)"
      ]
     },
     "execution_count": 12,
     "metadata": {},
     "output_type": "execute_result"
    }
   ],
   "source": [
    "new_parking_detection_features_el2 = fs.get_or_create_feature_group(name=\"new_parking_detection_features_el2\",\n",
    "                                  version=1,\n",
    "                                  primary_key=[\"id\"],\n",
    "                                  event_time='time',\n",
    "                                  description=\"New data for EL2\",\n",
    "                                  online_enabled=True\n",
    "                                 )\n",
    "new_parking_detection_features_el2.insert(mag_df_el2)"
   ]
  },
  {
   "cell_type": "code",
   "execution_count": 13,
   "metadata": {},
   "outputs": [
    {
     "name": "stdout",
     "output_type": "stream",
     "text": [
      "Feature Group created successfully, explore it at \n",
      "https://c.app.hopsworks.ai:443/p/549014/fs/544837/fg/767324\n"
     ]
    },
    {
     "name": "stderr",
     "output_type": "stream",
     "text": [
      "Uploading Dataframe: 100.00% |██████████| Rows 1/1 | Elapsed Time: 00:05 | Remaining Time: 00:00\n"
     ]
    },
    {
     "name": "stdout",
     "output_type": "stream",
     "text": [
      "Launching job: new_parking_detection_features_el3_1_offline_fg_materialization\n",
      "Job started successfully, you can follow the progress at \n",
      "https://c.app.hopsworks.ai/p/549014/jobs/named/new_parking_detection_features_el3_1_offline_fg_materialization/executions\n"
     ]
    },
    {
     "data": {
      "text/plain": [
       "(<hsfs.core.job.Job at 0x7f5d2c1d2e60>, None)"
      ]
     },
     "execution_count": 13,
     "metadata": {},
     "output_type": "execute_result"
    }
   ],
   "source": [
    "new_parking_detection_features_el3 = fs.get_or_create_feature_group(name=\"new_parking_detection_features_el3\",\n",
    "                                  version=1,\n",
    "                                  primary_key=[\"id\"],\n",
    "                                  event_time='time',\n",
    "                                  description=\"New data for EL3\",\n",
    "                                  online_enabled=True\n",
    "                                 )\n",
    "new_parking_detection_features_el3.insert(mag_df_el3)"
   ]
  },
  {
   "cell_type": "markdown",
   "metadata": {},
   "source": [
    "## Sensade API\n",
    "\n",
    "### Sensor Data Access\n",
    "\n",
    " \n",
    "\n",
    "GET request to `data.sensade.com`\n",
    "\n",
    "Authentication: `Basic Auth` (user: miknie20@student.aau.dk, password: IJSN0cE9xYCWPCZNH4KbXD2MC)\n",
    "\n",
    "{\n",
    "\n",
    "    \"dev_eui\": \"0080E115003BEA91\",\n",
    "\n",
    "    \"from\": \"2024-03-01\",\n",
    "\n",
    "    \"to\": \"2024-03-08\"\n",
    "\n",
    "}\n",
    "\n",
    "### Sensors\n",
    "\n",
    "Two sensors installed at Novi:\n",
    "\n",
    "`0080E115003BEA91` (Hw2.0 Fw2.0) Installed towards building\n",
    "\n",
    "`0080E115003E3597` (Hw2.0 Fw2.0) Installed towards bike lane"
   ]
  },
  {
   "cell_type": "code",
   "execution_count": 2,
   "metadata": {},
   "outputs": [],
   "source": [
    "import requests\n",
    "import json\n",
    "import io\n",
    "import base64\n",
    "from datetime import datetime, timedelta"
   ]
  },
  {
   "cell_type": "code",
   "execution_count": 3,
   "metadata": {},
   "outputs": [],
   "source": [
    "# Create a timezone object for GMT+2\n",
    "timezone = pytz.timezone('Europe/Bucharest')\n",
    "\n",
    "now = datetime.now(pytz.utc)  # Get current time in UTC\n",
    "today = now.astimezone(timezone)  # Convert current time to the desired timezone\n",
    "yesterday = today - timedelta(days=1)\n",
    "tomorrow = today + timedelta(days=1)"
   ]
  },
  {
   "cell_type": "code",
   "execution_count": 40,
   "metadata": {},
   "outputs": [],
   "source": [
    "# Format 'today', 'tomorrow', and 'yesterday' as \"YYYY-MM-DD\"\n",
    "formatted_today = today.strftime('%Y-%m-%d')\n",
    "formatted_tomorrow = tomorrow.strftime('%Y-%m-%d')\n",
    "formatted_yesterday = yesterday.strftime('%Y-%m-%d')\n",
    "url = \"https://data.sensade.com\"\n",
    "dev_eui_building = \"0080E115003BEA91\"\n",
    "dev_eui_bikelane = \"0080E115003E3597\"\n",
    "username = \"miknie20@student.aau.dk\"\n",
    "pwd = \"IJSN0cE9xYCWPCZNH4KbXD2MC\"\n",
    "basic_auth = base64.b64encode(f\"{username}:{pwd}\".encode())\n",
    "headers = {\n",
    "    'Content-Type': 'application/json',\n",
    "    'Authorization': f'Basic {basic_auth.decode(\"utf-8\")}'\n",
    "}"
   ]
  },
  {
   "cell_type": "code",
   "execution_count": 41,
   "metadata": {},
   "outputs": [],
   "source": [
    "# API call for the building parking spot\n",
    "def API_call(dev_eui, from_date, to_date):\n",
    "    payload = json.dumps({\n",
    "    \"dev_eui\": dev_eui,\n",
    "    \"from\": from_date,\n",
    "    \"to\": to_date\n",
    "})\n",
    "\n",
    "    response = requests.request(\"GET\", url, headers=headers, data=payload)\n",
    "\n",
    "    if response.status_code != 200:\n",
    "        exit(13)\n",
    "\n",
    "    csv_data = response.text\n",
    "    df = pd.read_csv(io.StringIO(csv_data))\n",
    "    return df"
   ]
  },
  {
   "cell_type": "code",
   "execution_count": 42,
   "metadata": {},
   "outputs": [],
   "source": [
    "df_building_from_api = API_call(dev_eui_building, formatted_yesterday, formatted_tomorrow)"
   ]
  },
  {
   "cell_type": "code",
   "execution_count": 44,
   "metadata": {},
   "outputs": [],
   "source": [
    "df_bikelane_from_api = API_call(dev_eui_bikelane, formatted_yesterday, formatted_tomorrow)"
   ]
  },
  {
   "cell_type": "code",
   "execution_count": 47,
   "metadata": {},
   "outputs": [],
   "source": [
    "df_building_newest = df_building_from_api.tail(1)\n",
    "df_bikelane_newest = df_bikelane_from_api.tail(1)"
   ]
  },
  {
   "cell_type": "markdown",
   "metadata": {},
   "source": [
    "## Backfill the Sensade API feature group"
   ]
  },
  {
   "cell_type": "code",
   "execution_count": null,
   "metadata": {},
   "outputs": [],
   "source": [
    "BACKFILL=False"
   ]
  },
  {
   "cell_type": "code",
   "execution_count": 48,
   "metadata": {},
   "outputs": [],
   "source": [
    "# Create a unique identifier for each row in the datasets\n",
    "def create_id(df, dataset_name):\n",
    "    # Assign the sensor prefix based on the dataset name\n",
    "    if dataset_name == 'df_building_newest':\n",
    "        df['psensor'] = \"BUILDING\"\n",
    "    elif dataset_name == 'df_bikelane_newest':\n",
    "        df['psensor'] = \"BIKELANE\"\n",
    "    else:\n",
    "        raise ValueError(\"Unknown dataset name provided\")\n",
    "\n",
    "    # Create a new column 'id' with a unique identifier for each row\n",
    "    df['id'] = [str(uuid.uuid4()) for _ in df.index]\n",
    "\n",
    "    return df"
   ]
  },
  {
   "cell_type": "code",
   "execution_count": 52,
   "metadata": {},
   "outputs": [],
   "source": [
    "# Applying the function to the datasets\n",
    "df_bikelane_newest = df_bikelane_newest.copy()\n",
    "df_bikelane = create_id(df_bikelane_newest, 'df_bikelane_newest')\n",
    "df_building_newest = df_building_newest.copy()\n",
    "df_building = create_id(df_building_newest, 'df_building_newest')"
   ]
  },
  {
   "cell_type": "code",
   "execution_count": 53,
   "metadata": {},
   "outputs": [],
   "source": [
    "#converting the time column to datetime\n",
    "df_bikelane['time'] = pd.to_datetime(df_bikelane['time'])\n",
    "df_building['time'] = pd.to_datetime(df_building['time'])"
   ]
  },
  {
   "cell_type": "code",
   "execution_count": 56,
   "metadata": {},
   "outputs": [],
   "source": [
    "#Renaming the radar columns to start with radar\n",
    "df_bikelane = df_bikelane.rename(columns={'0_radar': 'radar_0', '1_radar': 'radar_1', '2_radar': 'radar_2', '3_radar': 'radar_3', '4_radar': 'radar_4', '5_radar': 'radar_5', '6_radar': 'radar_6', '7_radar': 'radar_7'})\n",
    "df_building = df_building.rename(columns={'0_radar': 'radar_0', '1_radar': 'radar_1', '2_radar': 'radar_2', '3_radar': 'radar_3', '4_radar': 'radar_4', '5_radar': 'radar_5', '6_radar': 'radar_6', '7_radar': 'radar_7'})\n"
   ]
  },
  {
   "cell_type": "code",
   "execution_count": 57,
   "metadata": {},
   "outputs": [],
   "source": [
    "# Converting the columns to float\n",
    "df_bikelane[['x','y','z', 'radar_0', 'radar_1', 'radar_2', 'radar_3', 'radar_4', 'radar_5', 'radar_6', 'radar_7', 'f_cnt', 'dr', 'rssi']] = df_bikelane[['x','y','z', 'radar_0', 'radar_1', 'radar_2', 'radar_3', 'radar_4', 'radar_5', 'radar_6', 'radar_7', 'f_cnt', 'dr', 'rssi']].astype(float)\n",
    "df_building[['x','y','z', 'radar_0', 'radar_1', 'radar_2', 'radar_3', 'radar_4', 'radar_5', 'radar_6', 'radar_7', 'f_cnt', 'dr', 'rssi']] = df_building[['x','y','z', 'radar_0', 'radar_1', 'radar_2', 'radar_3', 'radar_4', 'radar_5', 'radar_6', 'radar_7', 'f_cnt', 'dr', 'rssi']].astype(float)\n"
   ]
  },
  {
   "cell_type": "code",
   "execution_count": null,
   "metadata": {},
   "outputs": [],
   "source": [
    "# Connceting to the Hopsworks project\n",
    "\n",
    "project = hopsworks.login()\n",
    "\n",
    "fs = project.get_feature_store()"
   ]
  },
  {
   "cell_type": "code",
   "execution_count": null,
   "metadata": {},
   "outputs": [],
   "source": [
    "bikelane_fg = fs.get_or_create_feature_group(name=\"bike_lane\",\n",
    "                                  version=1,\n",
    "                                  primary_key=[\"id\"],\n",
    "                                  event_time='time',\n",
    "                                  description=\"Bike lane data\",\n",
    "                                 )\n",
    "bikelane_fg.insert(df_bikelane)"
   ]
  },
  {
   "cell_type": "code",
   "execution_count": null,
   "metadata": {},
   "outputs": [],
   "source": [
    "building_fg = fs.get_or_create_feature_group(name=\"building\",\n",
    "                                    version=1,\n",
    "                                    primary_key=[\"id\"],\n",
    "                                    event_time='time',\n",
    "                                    description=\"Building data\",\n",
    "                                     )\n",
    "building_fg.insert(df_building)"
   ]
  },
  {
   "cell_type": "markdown",
   "metadata": {},
   "source": [
    "## **Next up:** 3: Feature view creation\n",
    "Go to the 3_featureview_creation.ipynb notebook"
   ]
  },
  {
   "cell_type": "markdown",
   "metadata": {},
   "source": []
  }
 ],
 "metadata": {
  "kernelspec": {
   "display_name": "Python 3",
   "language": "python",
   "name": "python3"
  },
  "language_info": {
   "codemirror_mode": {
    "name": "ipython",
    "version": 3
   },
   "file_extension": ".py",
   "mimetype": "text/x-python",
   "name": "python",
   "nbconvert_exporter": "python",
   "pygments_lexer": "ipython3",
   "version": "3.10.13"
  }
 },
 "nbformat": 4,
 "nbformat_minor": 2
}
