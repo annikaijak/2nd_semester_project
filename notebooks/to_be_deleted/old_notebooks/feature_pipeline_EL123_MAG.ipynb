{
 "cells": [
  {
   "cell_type": "code",
   "execution_count": 21,
   "metadata": {},
   "outputs": [],
   "source": [
    "#!pip install -U hopsworks --quiet"
   ]
  },
  {
   "cell_type": "code",
   "execution_count": 78,
   "metadata": {},
   "outputs": [],
   "source": [
    "import random\n",
    "import pandas as pd\n",
    "import hopsworks\n",
    "\n",
    "BACKFILL=False"
   ]
  },
  {
   "cell_type": "code",
   "execution_count": 79,
   "metadata": {},
   "outputs": [],
   "source": [
    "def generate_magnetic_field_update(name, x_max, x_min, y_max, y_min, z_max, z_min):\n",
    "    \"\"\"\n",
    "    Returns a single magnetic field update as a single row in a DataFrame\n",
    "    \"\"\"\n",
    "    df = pd.DataFrame({ \"x\": [random.uniform(x_max, x_min)],\n",
    "                       \"y\": [random.uniform(y_max, y_min)],\n",
    "                       \"z\": [random.uniform(z_max, z_min)],\n",
    "                      })\n",
    "    df['mag_cluster'] = name\n",
    "    return df\n",
    "\n",
    "\n",
    "def get_random_magnetic_field_update():\n",
    "    \"\"\"\n",
    "    Returns a DataFrame containing one random magnetic field update\n",
    "    \"\"\"\n",
    "    detection_df = generate_magnetic_field_update(\"detection\", 1156, -374, 401, -1275, 603, -1433)\n",
    "    no_detection_df = generate_magnetic_field_update(\"no_detection\", 2041, -860, 905, -897, -133, -4087)\n",
    "\n",
    "    # randomly pick one of these 2 and write it to the featurestore\n",
    "    pick_random = random.uniform(0,2)\n",
    "    if pick_random >= 1:\n",
    "        mag_df = detection_df\n",
    "    else:\n",
    "        mag_df = no_detection_df\n",
    "\n",
    "    return mag_df"
   ]
  },
  {
   "cell_type": "code",
   "execution_count": 68,
   "metadata": {},
   "outputs": [],
   "source": [
    "df_main =pd.read_csv(\"/workspaces/MLOps_Project/data/EL123.csv\")"
   ]
  },
  {
   "cell_type": "code",
   "execution_count": 69,
   "metadata": {},
   "outputs": [],
   "source": [
    "df_main = df_main[['x','y','z','mag_cluster']]"
   ]
  },
  {
   "cell_type": "code",
   "execution_count": 70,
   "metadata": {},
   "outputs": [],
   "source": [
    "df_main['mag_cluster'].replace({0: 'detection', 1: 'no_detection'}, inplace=True)"
   ]
  },
  {
   "cell_type": "code",
   "execution_count": 72,
   "metadata": {},
   "outputs": [],
   "source": [
    "df_main[['x','y','z']] = df_main[['x','y','z']].astype(float)"
   ]
  },
  {
   "cell_type": "code",
   "execution_count": 74,
   "metadata": {},
   "outputs": [
    {
     "name": "stdout",
     "output_type": "stream",
     "text": [
      "<class 'pandas.core.frame.DataFrame'>\n",
      "RangeIndex: 20570 entries, 0 to 20569\n",
      "Data columns (total 4 columns):\n",
      " #   Column       Non-Null Count  Dtype  \n",
      "---  ------       --------------  -----  \n",
      " 0   x            20570 non-null  float64\n",
      " 1   y            20570 non-null  float64\n",
      " 2   z            20570 non-null  float64\n",
      " 3   mag_cluster  20570 non-null  object \n",
      "dtypes: float64(3), object(1)\n",
      "memory usage: 642.9+ KB\n"
     ]
    }
   ],
   "source": [
    "df_main.info()"
   ]
  },
  {
   "cell_type": "code",
   "execution_count": 89,
   "metadata": {},
   "outputs": [
    {
     "data": {
      "text/html": [
       "<div>\n",
       "<style scoped>\n",
       "    .dataframe tbody tr th:only-of-type {\n",
       "        vertical-align: middle;\n",
       "    }\n",
       "\n",
       "    .dataframe tbody tr th {\n",
       "        vertical-align: top;\n",
       "    }\n",
       "\n",
       "    .dataframe thead th {\n",
       "        text-align: right;\n",
       "    }\n",
       "</style>\n",
       "<table border=\"1\" class=\"dataframe\">\n",
       "  <thead>\n",
       "    <tr style=\"text-align: right;\">\n",
       "      <th></th>\n",
       "      <th>x</th>\n",
       "      <th>y</th>\n",
       "      <th>z</th>\n",
       "      <th>mag_cluster</th>\n",
       "    </tr>\n",
       "  </thead>\n",
       "  <tbody>\n",
       "    <tr>\n",
       "      <th>0</th>\n",
       "      <td>-241.09827</td>\n",
       "      <td>-549.593766</td>\n",
       "      <td>-858.673455</td>\n",
       "      <td>detection</td>\n",
       "    </tr>\n",
       "  </tbody>\n",
       "</table>\n",
       "</div>"
      ],
      "text/plain": [
       "           x           y           z mag_cluster\n",
       "0 -241.09827 -549.593766 -858.673455   detection"
      ]
     },
     "execution_count": 89,
     "metadata": {},
     "output_type": "execute_result"
    }
   ],
   "source": [
    "if BACKFILL == True:\n",
    "    mag_df = df_main\n",
    "else:\n",
    "    mag_df = get_random_magnetic_field_update()\n",
    "    \n",
    "mag_df.head()"
   ]
  },
  {
   "cell_type": "code",
   "execution_count": 81,
   "metadata": {},
   "outputs": [
    {
     "name": "stdout",
     "output_type": "stream",
     "text": [
      "Connection closed.\n",
      "Connected. Call `.close()` to terminate connection gracefully.\n",
      "\n",
      "Logged in to project, explore it here https://c.app.hopsworks.ai:443/p/549014\n",
      "Connected. Call `.close()` to terminate connection gracefully.\n"
     ]
    }
   ],
   "source": [
    "project = hopsworks.login()\n",
    "fs = project.get_feature_store()"
   ]
  },
  {
   "cell_type": "code",
   "execution_count": 90,
   "metadata": {},
   "outputs": [
    {
     "name": "stderr",
     "output_type": "stream",
     "text": [
      "Uploading Dataframe: 100.00% |██████████| Rows 1/1 | Elapsed Time: 00:05 | Remaining Time: 00:00\n"
     ]
    },
    {
     "name": "stdout",
     "output_type": "stream",
     "text": [
      "Launching job: mag_feature_1_offline_fg_materialization\n",
      "Job started successfully, you can follow the progress at \n",
      "https://c.app.hopsworks.ai/p/549014/jobs/named/mag_feature_1_offline_fg_materialization/executions\n"
     ]
    },
    {
     "data": {
      "text/plain": [
       "(<hsfs.core.job.Job at 0x7f548c208730>, None)"
      ]
     },
     "execution_count": 90,
     "metadata": {},
     "output_type": "execute_result"
    }
   ],
   "source": [
    "mag_fg = fs.get_or_create_feature_group(name=\"mag_feature\",\n",
    "                                  version=1,\n",
    "                                  primary_key=[\"x\",\"y\",\"z\"],\n",
    "                                  description=\"Magnetic field dataset\"\n",
    "                                 )\n",
    "mag_fg.insert(mag_df)"
   ]
  },
  {
   "cell_type": "code",
   "execution_count": null,
   "metadata": {},
   "outputs": [],
   "source": []
  }
 ],
 "metadata": {
  "kernelspec": {
   "display_name": "Python 3",
   "language": "python",
   "name": "python3"
  },
  "language_info": {
   "codemirror_mode": {
    "name": "ipython",
    "version": 3
   },
   "file_extension": ".py",
   "mimetype": "text/x-python",
   "name": "python",
   "nbconvert_exporter": "python",
   "pygments_lexer": "ipython3",
   "version": "3.10.13"
  }
 },
 "nbformat": 4,
 "nbformat_minor": 2
}
