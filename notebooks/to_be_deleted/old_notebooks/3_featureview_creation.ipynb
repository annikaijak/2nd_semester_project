{
 "cells": [
  {
   "cell_type": "markdown",
   "metadata": {},
   "source": [
    "# Feature Views Creation\n",
    "This notebook consists of 3 parts:\n",
    "\n",
    "1. Connecting to the Feature Store\n",
    "2. Feature views for historic data\n",
    "3. Feature views for new data\n",
    "\n",
    "These featureviews help us make datasets for training our models"
   ]
  },
  {
   "cell_type": "markdown",
   "metadata": {},
   "source": [
    "## 1. Connecting to the feature store\n",
    "We connect to the Hopsworks Feature Store so we can access feature groups and create feature views."
   ]
  },
  {
   "cell_type": "code",
   "execution_count": 2,
   "metadata": {},
   "outputs": [
    {
     "name": "stderr",
     "output_type": "stream",
     "text": [
      "/home/codespace/.local/lib/python3.10/site-packages/tqdm/auto.py:21: TqdmWarning: IProgress not found. Please update jupyter and ipywidgets. See https://ipywidgets.readthedocs.io/en/stable/user_install.html\n",
      "  from .autonotebook import tqdm as notebook_tqdm\n"
     ]
    },
    {
     "name": "stdout",
     "output_type": "stream",
     "text": [
      "Connected. Call `.close()` to terminate connection gracefully.\n",
      "\n",
      "Logged in to project, explore it here https://c.app.hopsworks.ai:443/p/549014\n",
      "Connected. Call `.close()` to terminate connection gracefully.\n"
     ]
    }
   ],
   "source": [
    "import hopsworks\n",
    "\n",
    "project = hopsworks.login()\n",
    "\n",
    "fs = project.get_feature_store()"
   ]
  },
  {
   "cell_type": "markdown",
   "metadata": {},
   "source": [
    "## 2. Feature views for historic data\n",
    "We create feature views for both scaled and the non-scaled magnetic field data"
   ]
  },
  {
   "cell_type": "code",
   "execution_count": 3,
   "metadata": {},
   "outputs": [],
   "source": [
    "# Creating feature view for non scaled data\n",
    "def create_parking_detection_feature_view(fs, version):\n",
    "\n",
    "    # Load feature groups.\n",
    "    mag_fg = fs.get_feature_group('historic_parking_detection_features', version=version)\n",
    "    mag_label_fg = fs.get_feature_group('historic_parking_detection_labels', version=version)\n",
    "    \n",
    "    ds_query = mag_label_fg.select([\"mag_cluster\"])\\\n",
    "        .join(mag_fg.select([\"x\", \"y\", \"z\"]))\n",
    "    \n",
    "    return (fs.create_feature_view(\n",
    "        name='parking_detection_fv',\n",
    "        query=ds_query,\n",
    "        labels=[\"mag_cluster\"]\n",
    "    ), mag_fg)"
   ]
  },
  {
   "cell_type": "code",
   "execution_count": 4,
   "metadata": {},
   "outputs": [],
   "source": [
    "# Uploading/updating feature view\n",
    "version=1\n",
    "try:\n",
    "    feature_view = fs.get_feature_view(\"parking_detection_fv\", version=version)\n",
    "    mag_fg = fs.get_feature_group('historic_parking_detection_features', version=version)\n",
    "except:\n",
    "    feature_view, mag_fg = create_parking_detection_feature_view(fs, version)"
   ]
  },
  {
   "cell_type": "code",
   "execution_count": 5,
   "metadata": {},
   "outputs": [],
   "source": [
    "# Creating feature view for scaled/transformed data\n",
    "def create_transformed_parking_detection_feature_view(fs, version):\n",
    "\n",
    "    # Load feature groups.\n",
    "    scaled_mag_fg = fs.get_feature_group('historic_parking_detection_features', version=version)\n",
    "    encoded_mag_label_fg = fs.get_feature_group('historic_parking_detection_labels', version=version)\n",
    "    \n",
    "    ds_query = encoded_mag_label_fg.select([\"mag_cluster\"])\\\n",
    "        .join(scaled_mag_fg.select([\"x\", \"y\", \"z\"]))\n",
    "    \n",
    "    transformation_functions = {\n",
    "        \"x\": fs.get_transformation_function(name=\"standard_scaler\"), \n",
    "        \"y\": fs.get_transformation_function(name=\"standard_scaler\"), \n",
    "        \"z\": fs.get_transformation_function(name=\"standard_scaler\"), \n",
    "\n",
    "        \"mag_cluster\": fs.get_transformation_function(name=\"label_encoder\")\n",
    "    }\n",
    "    \n",
    "    return (fs.create_feature_view(\n",
    "        name='transformed_parking_detection_fv',\n",
    "        query=ds_query,\n",
    "        labels=[\"mag_cluster\"]\n",
    "    ), scaled_mag_fg)"
   ]
  },
  {
   "cell_type": "code",
   "execution_count": 6,
   "metadata": {},
   "outputs": [],
   "source": [
    "# Uploading/updating feature view\n",
    "version=1\n",
    "try:\n",
    "    transformed_feature_view = fs.get_feature_view(\"transformed_parking_detection_fv\", version=version)\n",
    "    scaled_mag_fg = fs.get_feature_group('historic_parking_detection_features', version=version)\n",
    "except:\n",
    "    transformed_feature_view, scaled_mag_fg = create_transformed_parking_detection_feature_view(fs, version)"
   ]
  },
  {
   "cell_type": "markdown",
   "metadata": {},
   "source": [
    "## 3. Feature views for new data\n",
    "We create feature views for the data for each parking lot"
   ]
  },
  {
   "cell_type": "code",
   "execution_count": 20,
   "metadata": {},
   "outputs": [],
   "source": [
    "# Creating feature view for EL1 new data\n",
    "\n",
    "def create_new_parking_detection_feature_view(fs, version):\n",
    "    # Load feature groups.\n",
    "    new_mag_fg = fs.get_feature_group('new_parking_detection_features_el1', version=version)\n",
    "\n",
    "    new_query = new_mag_fg.select([\"x\", \"y\", \"z\", \"id\", \"time\"])\n",
    "    \n",
    "    # Create a feature view.\n",
    "    return (fs.create_feature_view(\n",
    "        version=version,\n",
    "        name='new_el1_parking_detection_fv',\n",
    "        query=new_query,\n",
    "        labels=[],\n",
    "        \n",
    "\n",
    "    ), new_mag_fg)"
   ]
  },
  {
   "cell_type": "code",
   "execution_count": 21,
   "metadata": {},
   "outputs": [
    {
     "name": "stdout",
     "output_type": "stream",
     "text": [
      "Feature view created successfully, explore it at \n",
      "https://c.app.hopsworks.ai:443/p/549014/fs/544837/fv/new_el1_parking_detection_fv/version/1\n"
     ]
    }
   ],
   "source": [
    "# Uploading/updating feature view\n",
    "version=1\n",
    "try:\n",
    "    feature_view = fs.get_feature_view(\"new_el1_parking_detection_fv\", version=version)\n",
    "    mag_fg = fs.get_feature_group('new_parking_detection_features_el1', version=version)\n",
    "except:\n",
    "    feature_view, mag_fg = create_new_parking_detection_feature_view(fs, version)"
   ]
  },
  {
   "cell_type": "code",
   "execution_count": 22,
   "metadata": {},
   "outputs": [],
   "source": [
    "# Creating feature view for EL2 new data\n",
    "\n",
    "def create_new_parking_detection_feature_view_el2(fs, version):\n",
    "    # Load feature groups.\n",
    "    new_el2_mag_fg = fs.get_feature_group('new_parking_detection_features_el2', version=version)\n",
    "\n",
    "    new_query_el2 = new_el2_mag_fg.select([\"x\", \"y\", \"z\", \"id\", \"time\"])\n",
    "    \n",
    "    # Create a feature view.\n",
    "    return (fs.create_feature_view(\n",
    "        version=version,\n",
    "        name='new_el2_parking_detection_fv',\n",
    "        query=new_query_el2,\n",
    "        labels=[],\n",
    "        \n",
    "\n",
    "    ), new_el2_mag_fg)"
   ]
  },
  {
   "cell_type": "code",
   "execution_count": 23,
   "metadata": {},
   "outputs": [
    {
     "name": "stdout",
     "output_type": "stream",
     "text": [
      "Feature view created successfully, explore it at \n",
      "https://c.app.hopsworks.ai:443/p/549014/fs/544837/fv/new_el2_parking_detection_fv/version/1\n"
     ]
    }
   ],
   "source": [
    "# Uploading/updating feature view\n",
    "version=1\n",
    "try:\n",
    "    feature_view = fs.get_feature_view(\"new_el2_parking_detection_fv\", version=version)\n",
    "    mag_fg = fs.get_feature_group('new_parking_detection_features_el2', version=version)\n",
    "except:\n",
    "    feature_view, mag_fg = create_new_parking_detection_feature_view_el2(fs, version)"
   ]
  },
  {
   "cell_type": "code",
   "execution_count": 24,
   "metadata": {},
   "outputs": [],
   "source": [
    "# Creating feature view for EL new data\n",
    "\n",
    "def create_new_parking_detection_feature_view_el3(fs, version):\n",
    "    # Load feature groups.\n",
    "    new_el3_mag_fg = fs.get_feature_group('new_parking_detection_features_el3', version=version)\n",
    "\n",
    "    new_query_el3 = new_el3_mag_fg.select([\"x\", \"y\", \"z\", \"id\", \"time\"])\n",
    "    \n",
    "    # Create a feature view.\n",
    "    return (fs.create_feature_view(\n",
    "        version=version,\n",
    "        name='new_el3_parking_detection_fv',\n",
    "        query=new_query_el3,\n",
    "        labels=[],\n",
    "        \n",
    "\n",
    "    ), new_el3_mag_fg)"
   ]
  },
  {
   "cell_type": "code",
   "execution_count": 25,
   "metadata": {},
   "outputs": [
    {
     "name": "stdout",
     "output_type": "stream",
     "text": [
      "Feature view created successfully, explore it at \n",
      "https://c.app.hopsworks.ai:443/p/549014/fs/544837/fv/new_el3_parking_detection_fv/version/1\n"
     ]
    }
   ],
   "source": [
    "# Uploading/updating feature view\n",
    "version=1\n",
    "try:\n",
    "    feature_view = fs.get_feature_view(\"new_el3_parking_detection_fv\", version=version)\n",
    "    mag_fg = fs.get_feature_group('new_parking_detection_features_el3', version=version)\n",
    "except:\n",
    "    feature_view, mag_fg = create_new_parking_detection_feature_view_el3(fs, version)"
   ]
  },
  {
   "cell_type": "markdown",
   "metadata": {},
   "source": [
    "## **Next up:** 4: Model Training\n",
    "Go to the 4_model_training.ipynb notebook"
   ]
  }
 ],
 "metadata": {
  "kernelspec": {
   "display_name": "Python 3",
   "language": "python",
   "name": "python3"
  },
  "language_info": {
   "codemirror_mode": {
    "name": "ipython",
    "version": 3
   },
   "file_extension": ".py",
   "mimetype": "text/x-python",
   "name": "python",
   "nbconvert_exporter": "python",
   "pygments_lexer": "ipython3",
   "version": "3.10.13"
  }
 },
 "nbformat": 4,
 "nbformat_minor": 2
}
