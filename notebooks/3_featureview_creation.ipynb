{
 "cells": [
  {
   "cell_type": "markdown",
   "metadata": {},
   "source": [
    "# Feature Views Creation\n",
    "This notebook consists of 3 parts:\n",
    "\n",
    "1. Connecting to the Feature Store\n",
    "2. Feature views for historic magnetic building and bikelane data\n",
    "3. Feature views for historic radar building and bikelane data\n",
    "\n",
    "These featureviews help us make datasets for training our models"
   ]
  },
  {
   "cell_type": "markdown",
   "metadata": {},
   "source": [
    "## 1. Connecting to the feature store\n",
    "We connect to the Hopsworks Feature Store so we can access feature groups and create feature views."
   ]
  },
  {
   "cell_type": "code",
   "execution_count": 1,
   "metadata": {
    "metadata": {}
   },
   "outputs": [
    {
     "name": "stdout",
     "output_type": "stream",
     "text": [
      "Connected. Call `.close()` to terminate connection gracefully.\n",
      "\n",
      "Logged in to project, explore it here https://c.app.hopsworks.ai:443/p/549019\n",
      "Connected. Call `.close()` to terminate connection gracefully.\n"
     ]
    }
   ],
   "source": [
    "import hopsworks\n",
    "\n",
    "project = hopsworks.login(project=\"annikaij\")\n",
    "\n",
    "fs = project.get_feature_store()"
   ]
  },
  {
   "cell_type": "markdown",
   "metadata": {},
   "source": [
    "## 2. Feature views for historic data\n",
    "We create feature views for historic bikelane and building spot with both magnetic data and radar data.\n",
    "\n",
    "This gives us 4 feature views to create, where the feature views contain bikelane and building radar and magnetic data\n",
    "\n",
    "* Historical data for building magnetic field data\n",
    "* Historical data for bikelane magnetic field data\n",
    "* Historical data for building radar data\n",
    "* Historical data for bikelane radar data"
   ]
  },
  {
   "cell_type": "markdown",
   "metadata": {},
   "source": [
    "### Magnetic field data"
   ]
  },
  {
   "cell_type": "code",
   "execution_count": 2,
   "metadata": {
    "metadata": {}
   },
   "outputs": [],
   "source": [
    "# Making a feature view for the historical data for the building data\n",
    "def create_hist_building_mag_feature_view(fs, version):\n",
    "\n",
    "    # Load feature groups.\n",
    "    hist_building_mag_fg = fs.get_feature_group('hist_combined_full_fg', version=version)\n",
    "    \n",
    "    hist_query = hist_building_mag_fg.select([\"x\", \"y\", \"z\", \"temperature\", \"et0_fao_evapotranspiration\", \"mag_cluster\", \"psensor\"]) \\\n",
    "        .filter(hist_building_mag_fg['psensor'] == \"BUILDING\")\n",
    "\n",
    "    # Return only the feature view object, not a tuple\n",
    "    return fs.create_feature_view(\n",
    "        name='hist_building_mag_fv',\n",
    "        query=hist_query,\n",
    "        inference_helper_columns=[\"psensor\"],\n",
    "        labels=[\"mag_cluster\"]\n",
    "    )"
   ]
  },
  {
   "cell_type": "code",
   "execution_count": 3,
   "metadata": {
    "metadata": {}
   },
   "outputs": [
    {
     "name": "stdout",
     "output_type": "stream",
     "text": [
      "Feature view created successfully, explore it at \n",
      "https://c.app.hopsworks.ai:443/p/549019/fs/544841/fv/hist_building_mag_fv/version/1\n"
     ]
    }
   ],
   "source": [
    "# Create or Update the feature view if it already exists\n",
    "version=1\n",
    "try:\n",
    "    feature_view = fs.get_feature_view(\"hist_building_mag_fv\", version=version)\n",
    "    mag_fg = fs.get_feature_group('hist_combined_full_fg', version=version)\n",
    "except:\n",
    "    feature_view = create_hist_building_mag_feature_view(fs, version)"
   ]
  },
  {
   "cell_type": "code",
   "execution_count": 4,
   "metadata": {},
   "outputs": [],
   "source": [
    "# Creating feature view for historical data for bikelane radar data\n",
    "def create_hist_bikelane_mag_feature_view(fs, version):\n",
    "\n",
    "    # Load feature groups.\n",
    "    hist_bikelane_mag_fg = fs.get_feature_group('hist_combined_full_fg', version=version)\n",
    "    \n",
    "    hist_query = hist_bikelane_mag_fg.select([\"x\", \"y\", \"z\", \"temperature\", \"et0_fao_evapotranspiration\", \"mag_cluster\", \"psensor\"]) \\\n",
    "        .filter(hist_bikelane_mag_fg['psensor'] == \"BIKELANE\")\n",
    "\n",
    "    return (fs.create_feature_view(\n",
    "        name='hist_bikelane_mag_fv',\n",
    "        query=hist_query,\n",
    "        inference_helper_columns=[\"psensor\"],\n",
    "        labels=[\"mag_cluster\"]\n",
    "    ), hist_bikelane_mag_fg)"
   ]
  },
  {
   "cell_type": "code",
   "execution_count": 5,
   "metadata": {},
   "outputs": [
    {
     "name": "stdout",
     "output_type": "stream",
     "text": [
      "Feature view created successfully, explore it at \n",
      "https://c.app.hopsworks.ai:443/p/549019/fs/544841/fv/hist_bikelane_mag_fv/version/1\n"
     ]
    }
   ],
   "source": [
    "# Uploading/updating feature view\n",
    "version=1\n",
    "try:\n",
    "    feature_view = fs.get_feature_view(\"hist_bikelane_mag_fv\", version=version)\n",
    "    mag_fg = fs.get_feature_group('hist_combined_full_fg', version=version)\n",
    "except:\n",
    "    feature_view, hist_bikelane_mag_fg = create_hist_bikelane_mag_feature_view(fs, version)"
   ]
  },
  {
   "cell_type": "markdown",
   "metadata": {},
   "source": [
    "### Radar data"
   ]
  },
  {
   "cell_type": "code",
   "execution_count": 6,
   "metadata": {
    "metadata": {}
   },
   "outputs": [],
   "source": [
    "# Creating feature view for historical data for building radar data\n",
    "def create_hist_building_radar_feature_view(fs, version):\n",
    "\n",
    "    # Load feature groups.\n",
    "    hist_building_radar_fg = fs.get_feature_group('hist_combined_radar_fg', version=version)\n",
    "    \n",
    "    # Select relevant features.\n",
    "    hist_query = hist_building_radar_fg.select(['radar_0', 'radar_1', 'radar_2', 'radar_3', 'radar_4', 'radar_5', 'radar_6', 'radar_7', 'temperature', 'et0_fao_evapotranspiration', 'radar_cluster', 'psensor']) \\\n",
    "        .filter(hist_building_radar_fg['psensor'] == \"BUILDING\")\n",
    "\n",
    "    # Create and return the feature view\n",
    "    return fs.create_feature_view(\n",
    "        name='hist_building_radar_fv',\n",
    "        query=hist_query,\n",
    "        inference_helper_columns=[\"psensor\"],\n",
    "        labels=[\"radar_cluster\"]\n",
    "    )"
   ]
  },
  {
   "cell_type": "code",
   "execution_count": 7,
   "metadata": {
    "metadata": {}
   },
   "outputs": [
    {
     "name": "stdout",
     "output_type": "stream",
     "text": [
      "Feature view created successfully, explore it at \n",
      "https://c.app.hopsworks.ai:443/p/549019/fs/544841/fv/hist_building_radar_fv/version/1\n"
     ]
    }
   ],
   "source": [
    "# Uploading/updating feature view\n",
    "version = 1\n",
    "try:\n",
    "    feature_view = fs.get_feature_view(\"hist_building_radar_fv\", version=version)\n",
    "    hist_building_radar_fg = fs.get_feature_group('hist_combined_radar_fg', version=version)\n",
    "except:\n",
    "    feature_view = create_hist_building_radar_feature_view(fs, version)"
   ]
  },
  {
   "cell_type": "code",
   "execution_count": 8,
   "metadata": {},
   "outputs": [],
   "source": [
    "# Creating feature view for historical data for bikelane radar data\n",
    "def create_hist_bikelane_radar_feature_view(fs, version):\n",
    "\n",
    "    # Load feature groups.\n",
    "    hist_bikelane_radar_fg = fs.get_feature_group('hist_combined_radar_fg', version=version)\n",
    "    \n",
    "    # Select relevant features.\n",
    "    hist_query = hist_bikelane_radar_fg.select(['radar_0', 'radar_1', 'radar_2', 'radar_3', 'radar_4', 'radar_5', 'radar_6', 'radar_7', 'temperature', 'et0_fao_evapotranspiration', 'radar_cluster', 'psensor']) \\\n",
    "        .filter(hist_bikelane_radar_fg['psensor'] == \"BIKELANE\")\n",
    "\n",
    "    # Create and return the feature view\n",
    "    return fs.create_feature_view(\n",
    "        name='hist_bikelane_radar_fv',\n",
    "        query=hist_query,\n",
    "        inference_helper_columns=[\"psensor\"],\n",
    "        labels=[\"radar_cluster\"]\n",
    "    )"
   ]
  },
  {
   "cell_type": "code",
   "execution_count": 9,
   "metadata": {},
   "outputs": [
    {
     "name": "stdout",
     "output_type": "stream",
     "text": [
      "Feature view created successfully, explore it at \n",
      "https://c.app.hopsworks.ai:443/p/549019/fs/544841/fv/hist_bikelane_radar_fv/version/1\n"
     ]
    }
   ],
   "source": [
    "# Uploading/updating feature view\n",
    "version = 1\n",
    "try:\n",
    "    feature_view = fs.get_feature_view(\"hist_bikelane_radar_fv\", version=version)\n",
    "    hist_bikelane_radar_fg = fs.get_feature_group('hist_combined_radar_fg', version=version)\n",
    "except:\n",
    "    feature_view = create_hist_bikelane_radar_feature_view(fs, version)"
   ]
  },
  {
   "cell_type": "markdown",
   "metadata": {},
   "source": [
    "## **Next up:** 4: Model Training\n",
    "Go to the 4_model_training.ipynb notebook"
   ]
  }
 ],
 "metadata": {
  "kernelspec": {
   "display_name": "Python 3",
   "language": "python",
   "name": "python3"
  },
  "language_info": {
   "codemirror_mode": {
    "name": "ipython",
    "version": 3
   },
   "file_extension": ".py",
   "mimetype": "text/x-python",
   "name": "python",
   "nbconvert_exporter": "python",
   "pygments_lexer": "ipython3",
   "version": "3.10.13"
  }
 },
 "nbformat": 4,
 "nbformat_minor": 2
}
