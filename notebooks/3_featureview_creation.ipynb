{
 "cells": [
  {
   "cell_type": "markdown",
   "metadata": {},
   "source": [
    "# Feature Views Creation\n",
    "This notebook consists of 3 parts:\n",
    "\n",
    "1. Connecting to the Feature Store\n",
    "2. Feature views for historic data\n",
    "3. Feature views for new data\n",
    "\n",
    "These featureviews help us make datasets for training our models"
   ]
  },
  {
   "cell_type": "markdown",
   "metadata": {},
   "source": [
    "## 1. Connecting to the feature store\n",
    "We connect to the Hopsworks Feature Store so we can access feature groups and create feature views."
   ]
  },
  {
   "cell_type": "code",
   "execution_count": 1,
   "metadata": {
    "metadata": {}
   },
   "outputs": [
    {
     "name": "stdout",
     "output_type": "stream",
     "text": [
      "Connected. Call `.close()` to terminate connection gracefully.\n",
      "\n",
      "Multiple projects found. \n",
      "\n",
      "\t (1) annikaij\n",
      "\t (2) miknie20\n",
      "\n",
      "Logged in to project, explore it here https://c.app.hopsworks.ai:443/p/549019\n",
      "Connected. Call `.close()` to terminate connection gracefully.\n"
     ]
    }
   ],
   "source": [
    "import hopsworks\n",
    "\n",
    "project = hopsworks.login()\n",
    "\n",
    "fs = project.get_feature_store()"
   ]
  },
  {
   "cell_type": "markdown",
   "metadata": {},
   "source": [
    "## 2. Feature views for historic data\n",
    "We create feature views for both the historic bikelane and building spot"
   ]
  },
  {
   "cell_type": "code",
   "execution_count": 2,
   "metadata": {
    "metadata": {}
   },
   "outputs": [],
   "source": [
    "# Creating feature view for the bikelane historic data\n",
    "def create_his_bikelane_feature_view(fs, version):\n",
    "\n",
    "    # Load feature groups.\n",
    "    bikelane_hist_fg = fs.get_feature_group('api_bikelane_detection_features', version=version)\n",
    "    \n",
    "    hist_query = bikelane_hist_fg.select([\"x\", \"y\", \"z\", \"mag_cluster\"])\n",
    "    \n",
    "    return (fs.create_feature_view(\n",
    "        name='bikelane_hist_fv',\n",
    "        query=hist_query,\n",
    "        labels=[\"mag_cluster\"]\n",
    "    ), bikelane_hist_fg)"
   ]
  },
  {
   "cell_type": "code",
   "execution_count": 3,
   "metadata": {
    "metadata": {}
   },
   "outputs": [
    {
     "name": "stdout",
     "output_type": "stream",
     "text": [
      "Feature view created successfully, explore it at \n",
      "https://c.app.hopsworks.ai:443/p/549019/fs/544841/fv/bikelane_hist_fv/version/1\n"
     ]
    }
   ],
   "source": [
    "# Uploading/updating feature view\n",
    "version=1\n",
    "try:\n",
    "    feature_view = fs.get_feature_view(\"bikelane_hist_fv\", version=version)\n",
    "    mag_fg = fs.get_feature_group('api_bikelane_detection_features', version=version)\n",
    "except:\n",
    "    feature_view, bikelane_hist_fg = create_his_bikelane_feature_view(fs, version)"
   ]
  },
  {
   "cell_type": "code",
   "execution_count": 4,
   "metadata": {
    "metadata": {}
   },
   "outputs": [],
   "source": [
    "# Creating feature view for the building historic data\n",
    "def create_his_building_feature_view(fs, version):\n",
    "\n",
    "    # Load feature groups.\n",
    "    building_hist_fg = fs.get_feature_group('api_building_detection_features', version=version)\n",
    "    \n",
    "    hist_query = building_hist_fg.select([\"x\", \"y\", \"z\", \"mag_cluster\"])\n",
    "    \n",
    "    return (fs.create_feature_view(\n",
    "        name='building_hist_fv',\n",
    "        query=hist_query,\n",
    "        labels=[\"mag_cluster\"]\n",
    "    ), building_hist_fg)"
   ]
  },
  {
   "cell_type": "code",
   "execution_count": 5,
   "metadata": {
    "metadata": {}
   },
   "outputs": [
    {
     "name": "stdout",
     "output_type": "stream",
     "text": [
      "Feature view created successfully, explore it at \n",
      "https://c.app.hopsworks.ai:443/p/549019/fs/544841/fv/building_hist_fv/version/1\n"
     ]
    }
   ],
   "source": [
    "# Uploading/updating feature view\n",
    "version=1\n",
    "try:\n",
    "    feature_view = fs.get_feature_view(\"building_hist_fv\", version=version)\n",
    "    mag_fg = fs.get_feature_group('api_building_detection_features', version=version)\n",
    "except:\n",
    "    feature_view, building_hist_fg = create_his_building_feature_view(fs, version)\n",
    "    "
   ]
  },
  {
   "cell_type": "markdown",
   "metadata": {},
   "source": [
    "## Making feature views for new data without labels\n",
    "\n",
    "For the Streamlit we want to make a feature view that our application can make live predictions on."
   ]
  },
  {
   "cell_type": "code",
   "execution_count": 6,
   "metadata": {
    "metadata": {}
   },
   "outputs": [],
   "source": [
    "# Creating feature view for the new bikelane data \n",
    "def create_new_bikelane_feature_view(fs, version):\n",
    "\n",
    "    # Load feature groups.\n",
    "    bikelane_new_fg = fs.get_feature_group('api_bikelane_newest', version=version)\n",
    "    \n",
    "    new_query = bikelane_new_fg.select([\"x\", \"y\", \"z\", \"mag_cluster\"])\n",
    "    \n",
    "    return (fs.create_feature_view(\n",
    "        name='bikelane_new_fv',\n",
    "        query=new_query,\n",
    "        labels=['mag_cluster']\n",
    "    ), bikelane_new_fg)"
   ]
  },
  {
   "cell_type": "code",
   "execution_count": 7,
   "metadata": {
    "metadata": {}
   },
   "outputs": [
    {
     "name": "stdout",
     "output_type": "stream",
     "text": [
      "Feature view created successfully, explore it at \n",
      "https://c.app.hopsworks.ai:443/p/549019/fs/544841/fv/bikelane_new_fv/version/1\n"
     ]
    }
   ],
   "source": [
    "# Uploading/updating feature view\n",
    "version=1\n",
    "try:\n",
    "    feature_view = fs.get_feature_view(\"bikelane_new_fv\", version=version)\n",
    "    mag_fg = fs.get_feature_group('api_bikelane_newest', version=version)\n",
    "except:\n",
    "    feature_view, bikelane_new_fg = create_new_bikelane_feature_view(fs, version)\n"
   ]
  },
  {
   "cell_type": "code",
   "execution_count": 8,
   "metadata": {
    "metadata": {}
   },
   "outputs": [],
   "source": [
    "# Creating feature view for the new building data \n",
    "def create_new_building_feature_view(fs, version):\n",
    "\n",
    "    # Load feature groups.\n",
    "    building_new_fg = fs.get_feature_group('api_building_newest', version=version)\n",
    "    \n",
    "    new_query = building_new_fg.select([\"x\", \"y\", \"z\", \"mag_cluster\"])\n",
    "    \n",
    "    return (fs.create_feature_view(\n",
    "        name='building_new_fv',\n",
    "        query=new_query,\n",
    "        labels=['mag_cluster']\n",
    "    ), building_new_fg)\n"
   ]
  },
  {
   "cell_type": "code",
   "execution_count": 9,
   "metadata": {
    "metadata": {}
   },
   "outputs": [
    {
     "name": "stdout",
     "output_type": "stream",
     "text": [
      "Feature view created successfully, explore it at \n",
      "https://c.app.hopsworks.ai:443/p/549019/fs/544841/fv/building_new_fv/version/1\n"
     ]
    }
   ],
   "source": [
    "# Uploading/updating feature view\n",
    "version=1\n",
    "try:\n",
    "    feature_view = fs.get_feature_view(\"building_new_fv\", version=version)\n",
    "    mag_fg = fs.get_feature_group('api_building_newest', version=version)\n",
    "except:\n",
    "    feature_view, building_new_fg = create_new_building_feature_view(fs, version)"
   ]
  },
  {
   "cell_type": "markdown",
   "metadata": {},
   "source": [
    "## **Next up:** 4: Model Training\n",
    "Go to the 4_model_training.ipynb notebook"
   ]
  }
 ],
 "metadata": {
  "kernelspec": {
   "display_name": "Python 3",
   "language": "python",
   "name": "python3"
  },
  "language_info": {
   "codemirror_mode": {
    "name": "ipython",
    "version": 3
   },
   "file_extension": ".py",
   "mimetype": "text/x-python",
   "name": "python",
   "nbconvert_exporter": "python",
   "pygments_lexer": "ipython3",
   "version": "3.11.9"
  }
 },
 "nbformat": 4,
 "nbformat_minor": 2
}
