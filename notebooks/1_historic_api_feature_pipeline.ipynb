{
 "cells": [
  {
   "cell_type": "markdown",
   "metadata": {},
   "source": [
    "# Backfill and Feature Engineering Notebook\n",
    "This notebook consists of 5 parts:\n",
    "1. Importing libaries and loading packages\n",
    "2. Data Loading\n",
    "3. Data Preprocessing\n",
    "4. Feature Engineering\n",
    "5. Hopsworks Feature Storage"
   ]
  },
  {
   "cell_type": "markdown",
   "metadata": {},
   "source": [
    "Throughout this notebook, our decision-making process is informed by insights gained from the exploratory data analysis (EDA) we conducted. This analysis helped us identify the most relevant information for our methods and strategies"
   ]
  },
  {
   "cell_type": "markdown",
   "metadata": {},
   "source": [
    "## 1. Importing libaries and loading packages\n",
    "In this section, we import necessary libraries and define key functions."
   ]
  },
  {
   "cell_type": "code",
   "execution_count": 1,
   "metadata": {
    "metadata": {}
   },
   "outputs": [],
   "source": [
    "# Package for hopsworks integration\n",
    "# !pip install -U hopsworks --quiet\n",
    "\n",
    "# Import standard Python libraries\n",
    "import pandas as pd \n",
    "import hopsworks \n",
    "import numpy as np \n",
    "\n",
    "# Import machine learning tools\n",
    "from sklearn.preprocessing import StandardScaler  \n",
    "from sklearn.cluster import KMeans  \n",
    "from sklearn.metrics import silhouette_score  \n",
    "\n",
    "# Import other useful libraries\n",
    "import uuid  # Unique identifier generation\n",
    "import requests  # For making API requests\n",
    "import json  \n",
    "import io \n",
    "import base64 \n",
    "from datetime import datetime, timedelta  # Date/time handling and manipulation\n",
    "import pytz  # Timezone conversions and support"
   ]
  },
  {
   "cell_type": "markdown",
   "metadata": {},
   "source": [
    "## 2. Data Loading\n",
    "We load historic data to be used in the notebook.\n",
    "\n",
    "- The data is gathered trough an API given by the company, and the API data results are stored in the *bikelane_historic_data.csv* and *building_historic_data.csv*. The data loacated in the *data* folder is old data that the EDA and end-to-end-pipeline is made from. Here you can also find more information about the data in the readme.txt file.\n",
    "\n",
    "- The data derivied from the API is from two parking spots, one of the spots are close to a building and the other close to a bikelane, and will be refered to with this as the identifyer.\n",
    "\n",
    "- In this section we will be pinging the API and saving historic data from march and april in two csv-files, containing data from the parking spot close to the building and the one close to the bikelane"
   ]
  },
  {
   "cell_type": "code",
   "execution_count": 2,
   "metadata": {},
   "outputs": [],
   "source": [
    "# Create a timezone object for GMT+2\n",
    "timezone = pytz.timezone('Europe/Bucharest')\n",
    "now = datetime.now(pytz.utc)  # Get current time in UTC\n",
    "today = now.astimezone(timezone)\n",
    "yesterday = today - timedelta(days=1)\n",
    "tomorrow = today + timedelta(days=1)"
   ]
  },
  {
   "cell_type": "code",
   "execution_count": 3,
   "metadata": {},
   "outputs": [],
   "source": [
    "#Today', 'tomorrow', and 'yesterday' as \"YYYY-MM-DD\"\n",
    "#Today = today.strftime('%Y-%m-%d')\n",
    "#Tomorrow = tomorrow.strftime('%Y-%m-%d')\n",
    "#Yesterday = yesterday.strftime('%Y-%m-%d')\n",
    "\n",
    "url = \"https://data.sensade.com\"\n",
    "dev_eui_building = \"0080E115003BEA91\"\n",
    "dev_eui_bikelane = \"0080E115003E3597\"\n",
    "username = \"ajakup20@student.aau.dk\"\n",
    "pwd = \"API_PASSWORD\"\n",
    "basic_auth = base64.b64encode(f\"{username}:{pwd}\".encode())\n",
    "headers = {\n",
    "    'Content-Type': 'application/json',\n",
    "    'Authorization': f'Basic {basic_auth.decode(\"utf-8\")}'\n",
    "}"
   ]
  },
  {
   "cell_type": "code",
   "execution_count": 4,
   "metadata": {},
   "outputs": [],
   "source": [
    "# Function to ping the API and get data in a given time interval\n",
    "def API_call(dev_eui, from_date, to_date):\n",
    "    payload = json.dumps({\n",
    "    \"dev_eui\": dev_eui,\n",
    "    \"from\": from_date,\n",
    "    \"to\": to_date\n",
    "})\n",
    "\n",
    "    API_response = requests.request(\"GET\", url, headers=headers, data=payload)\n",
    "\n",
    "    if API_response.status_code != 200:\n",
    "        exit(13)\n",
    "\n",
    "    csv_data = API_response.text\n",
    "    df = pd.read_csv(io.StringIO(csv_data))\n",
    "    return df"
   ]
  },
  {
   "cell_type": "markdown",
   "metadata": {},
   "source": [
    "This section below is commented out because the files are already created"
   ]
  },
  {
   "cell_type": "code",
   "execution_count": 5,
   "metadata": {},
   "outputs": [],
   "source": [
    "# march_1_building = API_call(dev_eui_building, \"2024-03-01\", \"2024-03-14\")\n",
    "# march_2_building = API_call(dev_eui_building, \"2024-03-15\", \"2024-03-31\")\n",
    "# april_1_building = API_call(dev_eui_building, \"2024-04-01\", \"2024-04-14\")\n",
    "# april_2_building = API_call(dev_eui_building, \"2024-04-15\", \"2024-04-30\")# \n",
    "\n",
    "# march_1_bikelane = API_call(dev_eui_bikelane, \"2024-03-01\", \"2024-03-14\")\n",
    "# march_2_bikelane = API_call(dev_eui_bikelane, \"2024-03-15\", \"2024-03-31\")\n",
    "# april_1_bikelane = API_call(dev_eui_bikelane, \"2024-04-01\", \"2024-04-14\")\n",
    "# april_2_bikelane = API_call(dev_eui_bikelane, \"2024-04-15\", \"2024-04-30\")\n",
    "\n",
    "# building_historic_df = pd.concat([march_1_building, march_2_building, april_1_building, april_2_building], ignore_index=True)\n",
    "# bikelane_historic_df = pd.concat([march_1_bikelane, march_2_bikelane, april_1_bikelane, april_2_bikelane], ignore_index=True)\n",
    "\n",
    "# saving the data as CSV\n",
    "# building_historic_df.to_csv('building_historic_data.csv', index=False)\n",
    "# bikelane_historic_df.to_csv('bikelane_historic_data.csv', index=False)"
   ]
  },
  {
   "cell_type": "code",
   "execution_count": 5,
   "metadata": {},
   "outputs": [],
   "source": [
    "#loading the data saved in the directory\n",
    "building_historic_df = pd.read_csv('building_historic_data.csv')\n",
    "bikelane_historic_df = pd.read_csv('bikelane_historic_data.csv')"
   ]
  },
  {
   "cell_type": "markdown",
   "metadata": {},
   "source": [
    "## 3. Data Preprocessing\n",
    "Now before just dumping the data into a feature store we do a little preprocessing to enhance the use of our datasets.\n",
    "\n",
    "This preprocessing consists of:\n",
    "- Making unique identifyers for each datapoint\n",
    "- Combining the three datasets into one \n",
    "- Making clusters used for labeling, which is nessesary when we want to train our models later\n",
    "- Converting the data column to pandas datetime\n",
    "- minor adjustments for the naming of radar columns to fix some hopsworks problem where the name of the columns cannot start with a number, and making the relevant columns into float format"
   ]
  },
  {
   "cell_type": "code",
   "execution_count": 6,
   "metadata": {},
   "outputs": [],
   "source": [
    "# Create a unique identifier for each row in the datasets\n",
    "def create_id(df, dataset_name):\n",
    "    # Assign the sensor prefix based on the dataset name\n",
    "    if dataset_name == 'df_building_historic':\n",
    "        df['psensor'] = \"BUILDING\"\n",
    "    elif dataset_name == 'df_bikelane_historic':\n",
    "        df['psensor'] = \"BIKELANE\"\n",
    "    else:\n",
    "        raise ValueError(\"Unknown dataset name provided\")\n",
    "\n",
    "    # Create a new column 'id' with a unique identifier for each row\n",
    "    df['id'] = [str(uuid.uuid4()) for _ in df.index]\n",
    "\n",
    "    return df"
   ]
  },
  {
   "cell_type": "code",
   "execution_count": 7,
   "metadata": {},
   "outputs": [],
   "source": [
    "# Applying the ID creator function to the datasets\n",
    "bikelane_historic_df = bikelane_historic_df.copy()\n",
    "df_bikelane = create_id(bikelane_historic_df, 'df_bikelane_historic')\n",
    "df_building_historic = building_historic_df.copy()\n",
    "df_building = create_id(df_building_historic, 'df_building_historic')"
   ]
  },
  {
   "cell_type": "code",
   "execution_count": 8,
   "metadata": {},
   "outputs": [],
   "source": [
    "# Convert the 'time' column to datetime, coercing errors to NaT\n",
    "df_building['time'] = pd.to_datetime(df_building['time'], errors='coerce')\n",
    "df_bikelane['time'] = pd.to_datetime(df_bikelane['time'], errors='coerce')\n",
    "# Remove rows where the 'time' column is NaT\n",
    "df_building = df_building.dropna(subset=['time'])\n",
    "df_bikelane = df_bikelane.dropna(subset=['time'])"
   ]
  },
  {
   "cell_type": "code",
   "execution_count": 9,
   "metadata": {},
   "outputs": [],
   "source": [
    "#Renaming the radar columns to start with radar to deal with hopsworks problem\n",
    "df_building = df_building.rename(columns={'0_radar': 'radar_0', '1_radar': 'radar_1', '2_radar': 'radar_2', '3_radar': 'radar_3', '4_radar': 'radar_4', '5_radar': 'radar_5', '6_radar': 'radar_6', '7_radar': 'radar_7'})\n",
    "df_bikelane = df_bikelane.rename(columns={'0_radar': 'radar_0', '1_radar': 'radar_1', '2_radar': 'radar_2', '3_radar': 'radar_3', '4_radar': 'radar_4', '5_radar': 'radar_5', '6_radar': 'radar_6', '7_radar': 'radar_7'})\n"
   ]
  },
  {
   "cell_type": "code",
   "execution_count": 10,
   "metadata": {},
   "outputs": [],
   "source": [
    "# Converting the columns to float\n",
    "df_building[['x','y','z', 'radar_0', 'radar_1', 'radar_2', 'radar_3', 'radar_4', 'radar_5', 'radar_6', 'radar_7', 'f_cnt', 'dr', 'rssi']] = df_building[['x','y','z', 'radar_0', 'radar_1', 'radar_2', 'radar_3', 'radar_4', 'radar_5', 'radar_6', 'radar_7', 'f_cnt', 'dr', 'rssi']].astype(float)\n",
    "df_bikelane[['x','y','z', 'radar_0', 'radar_1', 'radar_2', 'radar_3', 'radar_4', 'radar_5', 'radar_6', 'radar_7', 'f_cnt', 'dr', 'rssi']] = df_bikelane[['x','y','z', 'radar_0', 'radar_1', 'radar_2', 'radar_3', 'radar_4', 'radar_5', 'radar_6', 'radar_7', 'f_cnt', 'dr', 'rssi']].astype(float)\n"
   ]
  },
  {
   "cell_type": "markdown",
   "metadata": {},
   "source": [
    "## 4. Feature Engineering\n",
    "In this step, we develop a method to label the data points as either 'detection' or 'no_detection.' \n",
    "\n",
    "Our exploratory data analysis revealed that the electromagnetic field data is best suited for our objectives. Therefore, we focus on the x, y, and z data from this dataset.\n",
    "\n",
    "In our case, we chose KMeans as our clustering method and used the magnetic sensor data from the x, y, and z axes as features. This is done after normalizing the data using StandardScaler."
   ]
  },
  {
   "cell_type": "code",
   "execution_count": 11,
   "metadata": {},
   "outputs": [],
   "source": [
    "# Making a dataframe for the features we wish to cluster on\n",
    "building_mag = df_building[[\"x\",\"y\",\"z\"]]\n",
    "bikelane_mag = df_bikelane[[\"x\",\"y\",\"z\"]]"
   ]
  },
  {
   "cell_type": "code",
   "execution_count": 12,
   "metadata": {},
   "outputs": [],
   "source": [
    "# Normalizing the data\n",
    "scaler = StandardScaler()\n",
    "building_mag_norm = scaler.fit_transform(building_mag)\n",
    "bikelane_mag_norm = scaler.fit_transform(bikelane_mag)\n",
    "# Clustering the magnetic field data with 2 clusters using kmeans\n",
    "building_kmeans = KMeans(n_clusters=2, random_state=0).fit(building_mag_norm)\n",
    "bikelane_kmeans = KMeans(n_clusters=2, random_state=0).fit(bikelane_mag_norm)\n"
   ]
  },
  {
   "cell_type": "code",
   "execution_count": 13,
   "metadata": {},
   "outputs": [],
   "source": [
    "# Adding cluster labels to the mag dataframe\n",
    "building_mag = building_mag.copy() #dealing with an error\n",
    "bikelane_mag = bikelane_mag.copy() #dealing with an error\n",
    "building_mag['mag_cluster'] = building_kmeans.labels_\n",
    "bikelane_mag['mag_cluster'] = bikelane_kmeans.labels_\n",
    "df_building = df_building.copy() #dealing with an error\n",
    "df_bikelane = df_bikelane.copy() #dealing with an error\n",
    "df_building['mag_cluster'] = building_mag['mag_cluster']\n",
    "df_bikelane['mag_cluster'] = bikelane_mag['mag_cluster']"
   ]
  },
  {
   "cell_type": "code",
   "execution_count": 14,
   "metadata": {},
   "outputs": [],
   "source": [
    "# Renaming the cluster labels to 'detection' and 'no_detection'\n",
    "df_building['mag_cluster'].replace({0: 'no_detection', 1: 'detection'}, inplace=True)\n",
    "df_bikelane['mag_cluster'].replace({0: 'no_detection', 1: 'detection'}, inplace=True)"
   ]
  },
  {
   "cell_type": "code",
   "execution_count": 15,
   "metadata": {},
   "outputs": [],
   "source": [
    "# Fixing an error with the mag_cluster column type\n",
    "df_building['mag_cluster'] = df_building['mag_cluster'].astype(str)\n",
    "df_building['mag_cluster'].replace('nan', None, inplace=True)  # Replace 'nan' string with actual None\n",
    "df_bikelane['mag_cluster'] = df_bikelane['mag_cluster'].astype(str)\n",
    "df_bikelane['mag_cluster'].replace('nan', None, inplace=True)  # Replace 'nan' string with actual None"
   ]
  },
  {
   "cell_type": "markdown",
   "metadata": {},
   "source": [
    "## 5. Hopsworks Feature Storage\n",
    "\n",
    "Now we would like to connect to the Hopsworks Feature Store so we can access and create feature groups.\n",
    "\n",
    "In creating feature groups we take all the relevant coulmns and store it in hopworks, so that we later can acces and interperet for further use.\n",
    "\n",
    "We also specify a 'primary_key' that is used for relating diferent dimention tables to each other, in our case this is the unique ID that we made in the preprocessing step. \n",
    "\n",
    "The 'time' column is used as the event time key.\n",
    "\n",
    "we also we put `online_enabled` to `True` to make the feature group online for acces with an API when we make feature views.\n",
    "\n",
    "And finally we give descriptions to each coulmn with information given by the *README.txt* in *data*. \n"
   ]
  },
  {
   "cell_type": "code",
   "execution_count": 16,
   "metadata": {
    "metadata": {}
   },
   "outputs": [
    {
     "name": "stdout",
     "output_type": "stream",
     "text": [
      "Copy your Api Key (first register/login): https://c.app.hopsworks.ai/account/api/generated\n",
      "Connected. Call `.close()` to terminate connection gracefully.\n",
      "\n",
      "Multiple projects found. \n",
      "\n",
      "\t (1) annikaij\n",
      "\t (2) miknie20\n",
      "\n",
      "Logged in to project, explore it here https://c.app.hopsworks.ai:443/p/549019\n",
      "Connected. Call `.close()` to terminate connection gracefully.\n"
     ]
    }
   ],
   "source": [
    "# Connceting to the Hopsworks project\n",
    "project = hopsworks.login()\n",
    "fs = project.get_feature_store()"
   ]
  },
  {
   "cell_type": "code",
   "execution_count": 17,
   "metadata": {
    "metadata": {}
   },
   "outputs": [],
   "source": [
    "# Create a feature group for the parking spot close to the building\n",
    "api_hist_building_fg = fs.get_or_create_feature_group(\n",
    "    name=\"api_building_detection_features\",\n",
    "    version=1,\n",
    "    description=\"Data from API for parking detection on the parkingspot close to the building\",\n",
    "    primary_key=['id'],\n",
    "    event_time='time',\n",
    "    online_enabled=True\n",
    ")"
   ]
  },
  {
   "cell_type": "code",
   "execution_count": 18,
   "metadata": {
    "metadata": {}
   },
   "outputs": [
    {
     "name": "stdout",
     "output_type": "stream",
     "text": [
      "Feature Group created successfully, explore it at \n",
      "https://c.app.hopsworks.ai:443/p/549019/fs/544841/fg/794956\n"
     ]
    },
    {
     "data": {
      "application/vnd.jupyter.widget-view+json": {
       "model_id": "42921f8fdb6447a896f6e722929688d1",
       "version_major": 2,
       "version_minor": 0
      },
      "text/plain": [
       "Uploading Dataframe: 0.00% |          | Rows 0/7155 | Elapsed Time: 00:00 | Remaining Time: ?"
      ]
     },
     "metadata": {},
     "output_type": "display_data"
    },
    {
     "name": "stdout",
     "output_type": "stream",
     "text": [
      "Launching job: api_building_detection_features_1_offline_fg_materialization\n",
      "Job started successfully, you can follow the progress at \n",
      "https://c.app.hopsworks.ai/p/549019/jobs/named/api_building_detection_features_1_offline_fg_materialization/executions\n"
     ]
    },
    {
     "data": {
      "text/plain": [
       "(<hsfs.core.job.Job at 0x7f936758ae90>, None)"
      ]
     },
     "execution_count": 18,
     "metadata": {},
     "output_type": "execute_result"
    }
   ],
   "source": [
    "# Insert the magnetic field features into the feature group\n",
    "api_hist_building_fg.insert(df_building, write_options={\"wait_for_job\" : False})\n"
   ]
  },
  {
   "cell_type": "code",
   "execution_count": 19,
   "metadata": {
    "metadata": {}
   },
   "outputs": [],
   "source": [
    "# Making descriptions for the features\n",
    "feature_descriptions = [\n",
    "    {\"name\": \"time\", \"description\": \"Timepoint of the datapoint\"},\n",
    "    {\"name\": \"battery\", \"description\": \"Battery level of the sensor\"},\n",
    "    {\"name\": \"temperature\", \"description\": \"Temperature recorded by the sensor\"},\n",
    "    {\"name\": \"x\", \"description\": \"Magnetic field reading in the x direction\"},\n",
    "    {\"name\": \"y\", \"description\": \"Magnetic field reading in the y direction\"},\n",
    "    {\"name\": \"z\", \"description\": \"Magnetic field reading in the z direction\"},\n",
    "    {\"name\": \"radar_0\", \"description\": \"Radar reading from sensor radar sensor 0\"},\n",
    "    {\"name\": \"radar_1\", \"description\": \"Radar reading from sensor radar sensor 1\"},\n",
    "    {\"name\": \"radar_2\", \"description\": \"Radar reading from sensor radar sensor 2\"},\n",
    "    {\"name\": \"radar_3\", \"description\": \"Radar reading from sensor radar sensor 3\"},\n",
    "    {\"name\": \"radar_4\", \"description\": \"Radar reading from sensor radar sensor 4\"},\n",
    "    {\"name\": \"radar_5\", \"description\": \"Radar reading from sensor radar sensor 5\"},\n",
    "    {\"name\": \"radar_6\", \"description\": \"Radar reading from sensor radar sensor 6\"},\n",
    "    {\"name\": \"radar_7\", \"description\": \"Radar reading from sensor radar sensor 7\"},\n",
    "    {\"name\": \"package_type\", \"description\": \"Heartbeat indicates no significant change since last reading or change package type means that x, y or z has changed significantly +-30\"},\n",
    "    {\"name\": \"f_cnt\", \"description\": \"number of packages transmitted since last network registration\"},\n",
    "    {\"name\": \"dr\", \"description\": \"data rate parameter in LoRaWAN. It ranges between 1 and 5 where 1 is the slowest transmission data rate and 5 is the highest. This datarate is scaled by the network server depending on the signal quality of the past packages send\"},\n",
    "    {\"name\": \"snr\", \"description\": \"signal to noise ratio – the higher value, the better the signal quality\"},\n",
    "    {\"name\": \"rssi\", \"description\": \"signal strength – the higher value, the better the signal quality\"},\n",
    "    {\"name\": \"psensor\", \"description\": \"sensor identifier (ex. EL1, EL2, EL3)\"},\n",
    "    {\"name\": \"hw_fw_version\", \"description\": \"hardware and firmware version of the sensor\"},\n",
    "    {\"name\": \"id\", \"description\": \"unique identifier for each datapoint made uuid4\"}\n",
    "]\n",
    "\n",
    "for desc in feature_descriptions: \n",
    "    api_hist_building_fg.update_feature_description(desc[\"name\"], desc[\"description\"])"
   ]
  },
  {
   "cell_type": "code",
   "execution_count": 20,
   "metadata": {
    "metadata": {}
   },
   "outputs": [],
   "source": [
    "# Create a feature group for the parking spot close to the bike lane\n",
    "api_hist_bikelane_fg = fs.get_or_create_feature_group(\n",
    "    name=\"api_bikelane_detection_features\",\n",
    "    version=1,\n",
    "    description=\"Data from API for parking detection on the parkingspot close to the bikelane\",\n",
    "    primary_key=['id'],\n",
    "    event_time='time',\n",
    "    online_enabled=True\n",
    ")"
   ]
  },
  {
   "cell_type": "code",
   "execution_count": 21,
   "metadata": {
    "metadata": {}
   },
   "outputs": [
    {
     "name": "stdout",
     "output_type": "stream",
     "text": [
      "Feature Group created successfully, explore it at \n",
      "https://c.app.hopsworks.ai:443/p/549019/fs/544841/fg/793932\n"
     ]
    },
    {
     "data": {
      "application/vnd.jupyter.widget-view+json": {
       "model_id": "0b48366c671b431bb35010db63f2d58e",
       "version_major": 2,
       "version_minor": 0
      },
      "text/plain": [
       "Uploading Dataframe: 0.00% |          | Rows 0/7047 | Elapsed Time: 00:00 | Remaining Time: ?"
      ]
     },
     "metadata": {},
     "output_type": "display_data"
    },
    {
     "name": "stdout",
     "output_type": "stream",
     "text": [
      "Launching job: api_bikelane_detection_features_1_offline_fg_materialization\n",
      "Job started successfully, you can follow the progress at \n",
      "https://c.app.hopsworks.ai/p/549019/jobs/named/api_bikelane_detection_features_1_offline_fg_materialization/executions\n"
     ]
    },
    {
     "data": {
      "text/plain": [
       "(<hsfs.core.job.Job at 0x7f936755ff50>, None)"
      ]
     },
     "execution_count": 21,
     "metadata": {},
     "output_type": "execute_result"
    }
   ],
   "source": [
    "# Insert the magnetic field features into the feature group\n",
    "api_hist_bikelane_fg.insert(df_bikelane, write_options={\"wait_for_job\" : False})\n"
   ]
  },
  {
   "cell_type": "code",
   "execution_count": 22,
   "metadata": {
    "metadata": {}
   },
   "outputs": [],
   "source": [
    "# Making descriptions for the features\n",
    "feature_descriptions = [\n",
    "    {\"name\": \"time\", \"description\": \"Timepoint of the datapoint\"},\n",
    "    {\"name\": \"battery\", \"description\": \"Battery level of the sensor\"},\n",
    "    {\"name\": \"temperature\", \"description\": \"Temperature recorded by the sensor\"},\n",
    "    {\"name\": \"x\", \"description\": \"Magnetic field reading in the x direction\"},\n",
    "    {\"name\": \"y\", \"description\": \"Magnetic field reading in the y direction\"},\n",
    "    {\"name\": \"z\", \"description\": \"Magnetic field reading in the z direction\"},\n",
    "    {\"name\": \"radar_0\", \"description\": \"Radar reading from sensor radar sensor 0\"},\n",
    "    {\"name\": \"radar_1\", \"description\": \"Radar reading from sensor radar sensor 1\"},\n",
    "    {\"name\": \"radar_2\", \"description\": \"Radar reading from sensor radar sensor 2\"},\n",
    "    {\"name\": \"radar_3\", \"description\": \"Radar reading from sensor radar sensor 3\"},\n",
    "    {\"name\": \"radar_4\", \"description\": \"Radar reading from sensor radar sensor 4\"},\n",
    "    {\"name\": \"radar_5\", \"description\": \"Radar reading from sensor radar sensor 5\"},\n",
    "    {\"name\": \"radar_6\", \"description\": \"Radar reading from sensor radar sensor 6\"},\n",
    "    {\"name\": \"radar_7\", \"description\": \"Radar reading from sensor radar sensor 7\"},\n",
    "    {\"name\": \"package_type\", \"description\": \"Heartbeat indicates no significant change since last reading or change package type means that x, y or z has changed significantly +-30\"},\n",
    "    {\"name\": \"f_cnt\", \"description\": \"number of packages transmitted since last network registration\"},\n",
    "    {\"name\": \"dr\", \"description\": \"data rate parameter in LoRaWAN. It ranges between 1 and 5 where 1 is the slowest transmission data rate and 5 is the highest. This datarate is scaled by the network server depending on the signal quality of the past packages send\"},\n",
    "    {\"name\": \"snr\", \"description\": \"signal to noise ratio – the higher value, the better the signal quality\"},\n",
    "    {\"name\": \"rssi\", \"description\": \"signal strength – the higher value, the better the signal quality\"},\n",
    "    {\"name\": \"psensor\", \"description\": \"sensor identifier (ex. EL1, EL2, EL3)\"},\n",
    "    {\"name\": \"hw_fw_version\", \"description\": \"hardware and firmware version of the sensor\"},\n",
    "    {\"name\": \"id\", \"description\": \"unique identifier for each datapoint made uuid4\"}\n",
    "]\n",
    "\n",
    "for desc in feature_descriptions: \n",
    "    api_hist_bikelane_fg.update_feature_description(desc[\"name\"], desc[\"description\"])"
   ]
  },
  {
   "cell_type": "markdown",
   "metadata": {},
   "source": [
    "## **Next up:** 2: Latest API data\n",
    "Go to the 2_latest_api_feature_pipeline.ipynb notebook"
   ]
  }
 ],
 "metadata": {
  "kernelspec": {
   "display_name": "Python 3",
   "language": "python",
   "name": "python3"
  },
  "language_info": {
   "codemirror_mode": {
    "name": "ipython",
    "version": 3
   },
   "file_extension": ".py",
   "mimetype": "text/x-python",
   "name": "python",
   "nbconvert_exporter": "python",
   "pygments_lexer": "ipython3",
   "version": "3.11.9"
  }
 },
 "nbformat": 4,
 "nbformat_minor": 2
}
