{
 "cells": [
  {
   "cell_type": "markdown",
   "metadata": {},
   "source": [
    "# EDA on weather data"
   ]
  },
  {
   "cell_type": "code",
   "execution_count": 1,
   "metadata": {},
   "outputs": [],
   "source": [
    "import pandas as pd\n",
    "import requests\n",
    "import json\n",
    "import matplotlib.pyplot as plt\n",
    "import matplotlib.dates as mdates\n",
    "\n",
    "import openmeteo_requests\n",
    "import requests_cache\n",
    "import pandas as pd\n",
    "from retry_requests import retry"
   ]
  },
  {
   "cell_type": "code",
   "execution_count": 2,
   "metadata": {},
   "outputs": [],
   "source": [
    "# Setup the Open-Meteo API client with cache and retry on error\n",
    "cache_session = requests_cache.CachedSession('.cache', expire_after = 3600)\n",
    "retry_session = retry(cache_session, retries = 5, backoff_factor = 0.2)\n",
    "openmeteo = openmeteo_requests.Client(session = retry_session)"
   ]
  },
  {
   "cell_type": "code",
   "execution_count": 6,
   "metadata": {},
   "outputs": [],
   "source": [
    "url = \"https://archive-api.open-meteo.com/v1/archive\"\n",
    "params = {\n",
    "\t\"latitude\": 57.01,\n",
    "\t\"longitude\": 9.99,\n",
    "\t\"start_date\": \"2024-04-01\",\n",
    "\t\"end_date\": \"2024-04-30\",\n",
    "\t\"hourly\": [\"temperature_2m\", \"precipitation\", \"rain\", \"snowfall\", \"snow_depth\"],\n",
    "\t\"timezone\": \"Europe/Berlin\"\n",
    "}\n",
    "responses = openmeteo.weather_api(url, params=params)"
   ]
  },
  {
   "cell_type": "code",
   "execution_count": 7,
   "metadata": {},
   "outputs": [
    {
     "name": "stdout",
     "output_type": "stream",
     "text": [
      "[<openmeteo_sdk.WeatherApiResponse.WeatherApiResponse object at 0x7361a104aa10>]\n"
     ]
    }
   ],
   "source": [
    "print(responses)"
   ]
  },
  {
   "cell_type": "code",
   "execution_count": 12,
   "metadata": {},
   "outputs": [
    {
     "name": "stdout",
     "output_type": "stream",
     "text": [
      "Coordinates 56.977149963378906°N 10.0632905960083°E\n",
      "Elevation 23.0 m asl\n",
      "Timezone b'Europe/Berlin' b'CEST'\n",
      "Timezone difference to GMT+0 7200 s\n",
      "                         date  temperature_2m  precipitation  rain  snowfall  \\\n",
      "0   2024-03-31 22:00:00+00:00        3.830500            0.0   0.0       0.0   \n",
      "1   2024-03-31 23:00:00+00:00        5.180500            0.0   0.0       0.0   \n",
      "2   2024-04-01 00:00:00+00:00        5.530500            0.0   0.0       0.0   \n",
      "3   2024-04-01 01:00:00+00:00        4.880500            0.0   0.0       0.0   \n",
      "4   2024-04-01 02:00:00+00:00        4.730500            0.0   0.0       0.0   \n",
      "..                        ...             ...            ...   ...       ...   \n",
      "715 2024-04-30 17:00:00+00:00       15.080501            0.0   0.0       0.0   \n",
      "716 2024-04-30 18:00:00+00:00       14.180500            0.0   0.0       0.0   \n",
      "717 2024-04-30 19:00:00+00:00       13.330501            0.0   0.0       0.0   \n",
      "718 2024-04-30 20:00:00+00:00       13.130500            0.0   0.0       0.0   \n",
      "719 2024-04-30 21:00:00+00:00       12.980500            0.0   0.0       0.0   \n",
      "\n",
      "     snow_depth  \n",
      "0           0.0  \n",
      "1           0.0  \n",
      "2           0.0  \n",
      "3           0.0  \n",
      "4           0.0  \n",
      "..          ...  \n",
      "715         0.0  \n",
      "716         0.0  \n",
      "717         0.0  \n",
      "718         0.0  \n",
      "719         0.0  \n",
      "\n",
      "[720 rows x 6 columns]\n"
     ]
    }
   ],
   "source": [
    "# Process first location. Add a for-loop for multiple locations or weather models\n",
    "response = responses[0]\n",
    "print(f\"Coordinates {response.Latitude()}°N {response.Longitude()}°E\")\n",
    "print(f\"Elevation {response.Elevation()} m asl\")\n",
    "print(f\"Timezone {response.Timezone()} {response.TimezoneAbbreviation()}\")\n",
    "print(f\"Timezone difference to GMT+0 {response.UtcOffsetSeconds()} s\")\n",
    "\n",
    "# Process hourly data. The order of variables needs to be the same as requested.\n",
    "hourly = response.Hourly()\n",
    "hourly_temperature_2m = hourly.Variables(0).ValuesAsNumpy()\n",
    "hourly_precipitation = hourly.Variables(1).ValuesAsNumpy()\n",
    "hourly_rain = hourly.Variables(2).ValuesAsNumpy()\n",
    "hourly_snowfall = hourly.Variables(3).ValuesAsNumpy()\n",
    "hourly_snow_depth = hourly.Variables(4).ValuesAsNumpy()\n",
    "\n",
    "hourly_data = {\"date\": pd.date_range(\n",
    "\tstart = pd.to_datetime(hourly.Time(), unit = \"s\", utc = True),\n",
    "\tend = pd.to_datetime(hourly.TimeEnd(), unit = \"s\", utc = True),\n",
    "\tfreq = pd.Timedelta(seconds = hourly.Interval()),\n",
    "\tinclusive = \"left\"\n",
    ")}\n",
    "hourly_data[\"temperature_2m\"] = hourly_temperature_2m\n",
    "hourly_data[\"precipitation\"] = hourly_precipitation\n",
    "hourly_data[\"rain\"] = hourly_rain\n",
    "hourly_data[\"snowfall\"] = hourly_snowfall\n",
    "hourly_data[\"snow_depth\"] = hourly_snow_depth\n",
    "\n",
    "hourly_dataframe = pd.DataFrame(data = hourly_data)\n",
    "print(hourly_dataframe)"
   ]
  },
  {
   "cell_type": "code",
   "execution_count": 13,
   "metadata": {},
   "outputs": [
    {
     "data": {
      "text/html": [
       "<div>\n",
       "<style scoped>\n",
       "    .dataframe tbody tr th:only-of-type {\n",
       "        vertical-align: middle;\n",
       "    }\n",
       "\n",
       "    .dataframe tbody tr th {\n",
       "        vertical-align: top;\n",
       "    }\n",
       "\n",
       "    .dataframe thead th {\n",
       "        text-align: right;\n",
       "    }\n",
       "</style>\n",
       "<table border=\"1\" class=\"dataframe\">\n",
       "  <thead>\n",
       "    <tr style=\"text-align: right;\">\n",
       "      <th></th>\n",
       "      <th>temperature_2m</th>\n",
       "      <th>precipitation</th>\n",
       "      <th>rain</th>\n",
       "      <th>snowfall</th>\n",
       "      <th>snow_depth</th>\n",
       "    </tr>\n",
       "  </thead>\n",
       "  <tbody>\n",
       "    <tr>\n",
       "      <th>count</th>\n",
       "      <td>720.000000</td>\n",
       "      <td>720.000000</td>\n",
       "      <td>720.000000</td>\n",
       "      <td>720.000000</td>\n",
       "      <td>720.000000</td>\n",
       "    </tr>\n",
       "    <tr>\n",
       "      <th>mean</th>\n",
       "      <td>7.229180</td>\n",
       "      <td>0.135000</td>\n",
       "      <td>0.130139</td>\n",
       "      <td>0.003403</td>\n",
       "      <td>0.001389</td>\n",
       "    </tr>\n",
       "    <tr>\n",
       "      <th>std</th>\n",
       "      <td>4.096645</td>\n",
       "      <td>0.428696</td>\n",
       "      <td>0.420966</td>\n",
       "      <td>0.030811</td>\n",
       "      <td>0.004446</td>\n",
       "    </tr>\n",
       "    <tr>\n",
       "      <th>min</th>\n",
       "      <td>-2.569500</td>\n",
       "      <td>0.000000</td>\n",
       "      <td>0.000000</td>\n",
       "      <td>0.000000</td>\n",
       "      <td>0.000000</td>\n",
       "    </tr>\n",
       "    <tr>\n",
       "      <th>25%</th>\n",
       "      <td>4.268000</td>\n",
       "      <td>0.000000</td>\n",
       "      <td>0.000000</td>\n",
       "      <td>0.000000</td>\n",
       "      <td>0.000000</td>\n",
       "    </tr>\n",
       "    <tr>\n",
       "      <th>50%</th>\n",
       "      <td>7.230500</td>\n",
       "      <td>0.000000</td>\n",
       "      <td>0.000000</td>\n",
       "      <td>0.000000</td>\n",
       "      <td>0.000000</td>\n",
       "    </tr>\n",
       "    <tr>\n",
       "      <th>75%</th>\n",
       "      <td>9.680500</td>\n",
       "      <td>0.025000</td>\n",
       "      <td>0.025000</td>\n",
       "      <td>0.000000</td>\n",
       "      <td>0.000000</td>\n",
       "    </tr>\n",
       "    <tr>\n",
       "      <th>max</th>\n",
       "      <td>18.030499</td>\n",
       "      <td>4.600000</td>\n",
       "      <td>4.600000</td>\n",
       "      <td>0.420000</td>\n",
       "      <td>0.030000</td>\n",
       "    </tr>\n",
       "  </tbody>\n",
       "</table>\n",
       "</div>"
      ],
      "text/plain": [
       "       temperature_2m  precipitation        rain    snowfall  snow_depth\n",
       "count      720.000000     720.000000  720.000000  720.000000  720.000000\n",
       "mean         7.229180       0.135000    0.130139    0.003403    0.001389\n",
       "std          4.096645       0.428696    0.420966    0.030811    0.004446\n",
       "min         -2.569500       0.000000    0.000000    0.000000    0.000000\n",
       "25%          4.268000       0.000000    0.000000    0.000000    0.000000\n",
       "50%          7.230500       0.000000    0.000000    0.000000    0.000000\n",
       "75%          9.680500       0.025000    0.025000    0.000000    0.000000\n",
       "max         18.030499       4.600000    4.600000    0.420000    0.030000"
      ]
     },
     "execution_count": 13,
     "metadata": {},
     "output_type": "execute_result"
    }
   ],
   "source": [
    "hourly_dataframe.describe()"
   ]
  },
  {
   "cell_type": "code",
   "execution_count": 14,
   "metadata": {},
   "outputs": [
    {
     "data": {
      "text/plain": [
       "<Axes: xlabel='date'>"
      ]
     },
     "execution_count": 14,
     "metadata": {},
     "output_type": "execute_result"
    },
    {
     "data": {
      "image/png": "[encoded data removed]",
      "text/plain": [
       "<Figure size 640x480 with 1 Axes>"
      ]
     },
     "metadata": {},
     "output_type": "display_data"
    }
   ],
   "source": [
    "df_water = pd.DataFrame(hourly_dataframe, columns = ['date', 'precipitation'])\n",
    "df_water = df_water.set_index('date')\n",
    "df_water.plot()"
   ]
  },
  {
   "cell_type": "code",
   "execution_count": 18,
   "metadata": {},
   "outputs": [],
   "source": [
    "df_water['above_1mm'] = df_water['precipitation'] > 1"
   ]
  },
  {
   "cell_type": "code",
   "execution_count": 19,
   "metadata": {},
   "outputs": [
    {
     "data": {
      "text/html": [
       "<div>\n",
       "<style scoped>\n",
       "    .dataframe tbody tr th:only-of-type {\n",
       "        vertical-align: middle;\n",
       "    }\n",
       "\n",
       "    .dataframe tbody tr th {\n",
       "        vertical-align: top;\n",
       "    }\n",
       "\n",
       "    .dataframe thead th {\n",
       "        text-align: right;\n",
       "    }\n",
       "</style>\n",
       "<table border=\"1\" class=\"dataframe\">\n",
       "  <thead>\n",
       "    <tr style=\"text-align: right;\">\n",
       "      <th></th>\n",
       "      <th>precipitation</th>\n",
       "      <th>above_1mm</th>\n",
       "    </tr>\n",
       "    <tr>\n",
       "      <th>date</th>\n",
       "      <th></th>\n",
       "      <th></th>\n",
       "    </tr>\n",
       "  </thead>\n",
       "  <tbody>\n",
       "    <tr>\n",
       "      <th>2024-03-31 22:00:00+00:00</th>\n",
       "      <td>0.0</td>\n",
       "      <td>False</td>\n",
       "    </tr>\n",
       "    <tr>\n",
       "      <th>2024-03-31 23:00:00+00:00</th>\n",
       "      <td>0.0</td>\n",
       "      <td>False</td>\n",
       "    </tr>\n",
       "    <tr>\n",
       "      <th>2024-04-01 00:00:00+00:00</th>\n",
       "      <td>0.0</td>\n",
       "      <td>False</td>\n",
       "    </tr>\n",
       "    <tr>\n",
       "      <th>2024-04-01 01:00:00+00:00</th>\n",
       "      <td>0.0</td>\n",
       "      <td>False</td>\n",
       "    </tr>\n",
       "    <tr>\n",
       "      <th>2024-04-01 02:00:00+00:00</th>\n",
       "      <td>0.0</td>\n",
       "      <td>False</td>\n",
       "    </tr>\n",
       "    <tr>\n",
       "      <th>...</th>\n",
       "      <td>...</td>\n",
       "      <td>...</td>\n",
       "    </tr>\n",
       "    <tr>\n",
       "      <th>2024-04-30 17:00:00+00:00</th>\n",
       "      <td>0.0</td>\n",
       "      <td>False</td>\n",
       "    </tr>\n",
       "    <tr>\n",
       "      <th>2024-04-30 18:00:00+00:00</th>\n",
       "      <td>0.0</td>\n",
       "      <td>False</td>\n",
       "    </tr>\n",
       "    <tr>\n",
       "      <th>2024-04-30 19:00:00+00:00</th>\n",
       "      <td>0.0</td>\n",
       "      <td>False</td>\n",
       "    </tr>\n",
       "    <tr>\n",
       "      <th>2024-04-30 20:00:00+00:00</th>\n",
       "      <td>0.0</td>\n",
       "      <td>False</td>\n",
       "    </tr>\n",
       "    <tr>\n",
       "      <th>2024-04-30 21:00:00+00:00</th>\n",
       "      <td>0.0</td>\n",
       "      <td>False</td>\n",
       "    </tr>\n",
       "  </tbody>\n",
       "</table>\n",
       "<p>720 rows × 2 columns</p>\n",
       "</div>"
      ],
      "text/plain": [
       "                           precipitation  above_1mm\n",
       "date                                               \n",
       "2024-03-31 22:00:00+00:00            0.0      False\n",
       "2024-03-31 23:00:00+00:00            0.0      False\n",
       "2024-04-01 00:00:00+00:00            0.0      False\n",
       "2024-04-01 01:00:00+00:00            0.0      False\n",
       "2024-04-01 02:00:00+00:00            0.0      False\n",
       "...                                  ...        ...\n",
       "2024-04-30 17:00:00+00:00            0.0      False\n",
       "2024-04-30 18:00:00+00:00            0.0      False\n",
       "2024-04-30 19:00:00+00:00            0.0      False\n",
       "2024-04-30 20:00:00+00:00            0.0      False\n",
       "2024-04-30 21:00:00+00:00            0.0      False\n",
       "\n",
       "[720 rows x 2 columns]"
      ]
     },
     "execution_count": 19,
     "metadata": {},
     "output_type": "execute_result"
    }
   ],
   "source": [
    "df_water"
   ]
  },
  {
   "cell_type": "code",
   "execution_count": 20,
   "metadata": {},
   "outputs": [],
   "source": [
    "df_water_and_temp = pd.DataFrame(hourly_dataframe, columns = ['date', 'temperature_2m', 'precipitation'])"
   ]
  },
  {
   "cell_type": "code",
   "execution_count": 21,
   "metadata": {},
   "outputs": [],
   "source": [
    "df_water_and_temp = df_water_and_temp.set_index('date')"
   ]
  },
  {
   "cell_type": "code",
   "execution_count": 22,
   "metadata": {},
   "outputs": [
    {
     "data": {
      "text/html": [
       "<div>\n",
       "<style scoped>\n",
       "    .dataframe tbody tr th:only-of-type {\n",
       "        vertical-align: middle;\n",
       "    }\n",
       "\n",
       "    .dataframe tbody tr th {\n",
       "        vertical-align: top;\n",
       "    }\n",
       "\n",
       "    .dataframe thead th {\n",
       "        text-align: right;\n",
       "    }\n",
       "</style>\n",
       "<table border=\"1\" class=\"dataframe\">\n",
       "  <thead>\n",
       "    <tr style=\"text-align: right;\">\n",
       "      <th></th>\n",
       "      <th>temperature_2m</th>\n",
       "      <th>precipitation</th>\n",
       "    </tr>\n",
       "    <tr>\n",
       "      <th>date</th>\n",
       "      <th></th>\n",
       "      <th></th>\n",
       "    </tr>\n",
       "  </thead>\n",
       "  <tbody>\n",
       "    <tr>\n",
       "      <th>2024-03-31 22:00:00+00:00</th>\n",
       "      <td>3.830500</td>\n",
       "      <td>0.0</td>\n",
       "    </tr>\n",
       "    <tr>\n",
       "      <th>2024-03-31 23:00:00+00:00</th>\n",
       "      <td>5.180500</td>\n",
       "      <td>0.0</td>\n",
       "    </tr>\n",
       "    <tr>\n",
       "      <th>2024-04-01 00:00:00+00:00</th>\n",
       "      <td>5.530500</td>\n",
       "      <td>0.0</td>\n",
       "    </tr>\n",
       "    <tr>\n",
       "      <th>2024-04-01 01:00:00+00:00</th>\n",
       "      <td>4.880500</td>\n",
       "      <td>0.0</td>\n",
       "    </tr>\n",
       "    <tr>\n",
       "      <th>2024-04-01 02:00:00+00:00</th>\n",
       "      <td>4.730500</td>\n",
       "      <td>0.0</td>\n",
       "    </tr>\n",
       "    <tr>\n",
       "      <th>...</th>\n",
       "      <td>...</td>\n",
       "      <td>...</td>\n",
       "    </tr>\n",
       "    <tr>\n",
       "      <th>2024-04-30 17:00:00+00:00</th>\n",
       "      <td>15.080501</td>\n",
       "      <td>0.0</td>\n",
       "    </tr>\n",
       "    <tr>\n",
       "      <th>2024-04-30 18:00:00+00:00</th>\n",
       "      <td>14.180500</td>\n",
       "      <td>0.0</td>\n",
       "    </tr>\n",
       "    <tr>\n",
       "      <th>2024-04-30 19:00:00+00:00</th>\n",
       "      <td>13.330501</td>\n",
       "      <td>0.0</td>\n",
       "    </tr>\n",
       "    <tr>\n",
       "      <th>2024-04-30 20:00:00+00:00</th>\n",
       "      <td>13.130500</td>\n",
       "      <td>0.0</td>\n",
       "    </tr>\n",
       "    <tr>\n",
       "      <th>2024-04-30 21:00:00+00:00</th>\n",
       "      <td>12.980500</td>\n",
       "      <td>0.0</td>\n",
       "    </tr>\n",
       "  </tbody>\n",
       "</table>\n",
       "<p>720 rows × 2 columns</p>\n",
       "</div>"
      ],
      "text/plain": [
       "                           temperature_2m  precipitation\n",
       "date                                                    \n",
       "2024-03-31 22:00:00+00:00        3.830500            0.0\n",
       "2024-03-31 23:00:00+00:00        5.180500            0.0\n",
       "2024-04-01 00:00:00+00:00        5.530500            0.0\n",
       "2024-04-01 01:00:00+00:00        4.880500            0.0\n",
       "2024-04-01 02:00:00+00:00        4.730500            0.0\n",
       "...                                   ...            ...\n",
       "2024-04-30 17:00:00+00:00       15.080501            0.0\n",
       "2024-04-30 18:00:00+00:00       14.180500            0.0\n",
       "2024-04-30 19:00:00+00:00       13.330501            0.0\n",
       "2024-04-30 20:00:00+00:00       13.130500            0.0\n",
       "2024-04-30 21:00:00+00:00       12.980500            0.0\n",
       "\n",
       "[720 rows x 2 columns]"
      ]
     },
     "execution_count": 22,
     "metadata": {},
     "output_type": "execute_result"
    }
   ],
   "source": [
    "df_water_and_temp"
   ]
  },
  {
   "cell_type": "code",
   "execution_count": null,
   "metadata": {},
   "outputs": [],
   "source": []
  }
 ],
 "metadata": {
  "kernelspec": {
   "display_name": "Python 3",
   "language": "python",
   "name": "python3"
  },
  "language_info": {
   "codemirror_mode": {
    "name": "ipython",
    "version": 3
   },
   "file_extension": ".py",
   "mimetype": "text/x-python",
   "name": "python",
   "nbconvert_exporter": "python",
   "pygments_lexer": "ipython3",
   "version": "3.10.13"
  }
 },
 "nbformat": 4,
 "nbformat_minor": 2
}
