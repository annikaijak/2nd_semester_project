{
 "cells": [
  {
   "cell_type": "markdown",
   "metadata": {},
   "source": [
    "## 1. Importing libaries and loading packages"
   ]
  },
  {
   "cell_type": "code",
   "execution_count": 43,
   "metadata": {},
   "outputs": [
    {
     "data": {
      "text/plain": [
       "True"
      ]
     },
     "execution_count": 43,
     "metadata": {},
     "output_type": "execute_result"
    }
   ],
   "source": [
    "# Package for hopsworks integration\n",
    "# !pip install -U hopsworks --quiet\n",
    "\n",
    "# Import standard Python libraries\n",
    "import pandas as pd \n",
    "import hopsworks \n",
    "import numpy as np \n",
    "import matplotlib.pyplot as plt\n",
    "import seaborn as sns\n",
    "\n",
    "# Import machine learning tools\n",
    "from sklearn.preprocessing import StandardScaler  \n",
    "from sklearn.cluster import KMeans  \n",
    "from sklearn.metrics import silhouette_score  \n",
    "\n",
    "# Import other useful libraries\n",
    "import uuid  # Unique identifier generation\n",
    "import requests  # For making API requests\n",
    "import json  \n",
    "import io \n",
    "import os\n",
    "import base64 \n",
    "from datetime import datetime, timedelta  # Date/time handling and manipulation\n",
    "import pytz  # Timezone conversions and support\n",
    "\n",
    "# Environment variable management\n",
    "from dotenv import load_dotenv\n",
    "load_dotenv()"
   ]
  },
  {
   "cell_type": "markdown",
   "metadata": {},
   "source": [
    "## 2. Loading sensor data"
   ]
  },
  {
   "cell_type": "code",
   "execution_count": 2,
   "metadata": {},
   "outputs": [
    {
     "name": "stdout",
     "output_type": "stream",
     "text": [
      "2024-05-23 22:38:21.576045 2024-05-22 22:38:21.576045 2024-05-24 22:38:21.576045\n"
     ]
    }
   ],
   "source": [
    "# getting the time for now, tomorrow and yesterday\n",
    "now = datetime.now()  # Get current time \n",
    "today = now \n",
    "yesterday = today - timedelta(days=1)\n",
    "tomorrow = today + timedelta(days=1)\n",
    "print(today, yesterday, tomorrow)"
   ]
  },
  {
   "cell_type": "code",
   "execution_count": 3,
   "metadata": {},
   "outputs": [],
   "source": [
    "# Format 'today', 'tomorrow', and 'yesterday' as \"YYYY-MM-DD\"\n",
    "formatted_today = today.strftime('%Y-%m-%d %H:%M:%S')\n",
    "formatted_tomorrow = tomorrow.strftime('%Y-%m-%d %H:%M:%S')\n",
    "formatted_yesterday = yesterday.strftime('%Y-%m-%d %H:%M:%S')"
   ]
  },
  {
   "cell_type": "code",
   "execution_count": 4,
   "metadata": {},
   "outputs": [],
   "source": [
    "# defining API information\n",
    "dev_eui_building = \"0080E115003BEA91\"\n",
    "dev_eui_bikelane = \"0080E115003E3597\"\n",
    "url = \"https://data.sensade.com\"\n",
    "\n",
    "basic_auth = base64.b64encode(f\"{os.getenv('API_USERNAME')}:{os.getenv('API_PASSWORD')}\".encode())\n",
    "headers = {\n",
    "    'Content-Type': 'application/json',\n",
    "    'Authorization': f'Basic {basic_auth.decode(\"utf-8\")}'\n",
    "}"
   ]
  },
  {
   "cell_type": "code",
   "execution_count": 5,
   "metadata": {},
   "outputs": [],
   "source": [
    "# Function to ping the API and get data in a given time interval\n",
    "def API_call(dev_eui, from_date, to_date):\n",
    "    payload = json.dumps({\n",
    "    \"dev_eui\": dev_eui,\n",
    "    \"from\": from_date,\n",
    "    \"to\": to_date\n",
    "})\n",
    "\n",
    "    API_response = requests.request(\"GET\", url, headers=headers, data=payload)\n",
    "\n",
    "    if API_response.status_code != 200:\n",
    "        exit(13)\n",
    "\n",
    "    csv_data = API_response.text\n",
    "    df = pd.read_csv(io.StringIO(csv_data))\n",
    "    return df"
   ]
  },
  {
   "cell_type": "code",
   "execution_count": 6,
   "metadata": {},
   "outputs": [],
   "source": [
    "# march_building = API_call(dev_eui_building, \"2024-03-01\", \"2024-04-01\")\n",
    "# march_bikelane = API_call(dev_eui_bikelane, \"2024-03-01\", \"2024-04-01\")\n",
    "# april_building = API_call(dev_eui_building, \"2024-04-01\", \"2024-05-01\")\n",
    "# april_bikelane = API_call(dev_eui_bikelane, \"2024-04-01\", \"2024-05-01\")"
   ]
  },
  {
   "cell_type": "code",
   "execution_count": 7,
   "metadata": {},
   "outputs": [],
   "source": [
    "# building_historic_df = pd.concat([march_building, april_building], ignore_index=True)\n",
    "# bikelane_historic_df = pd.concat([march_bikelane, april_bikelane], ignore_index=True)"
   ]
  },
  {
   "cell_type": "code",
   "execution_count": 8,
   "metadata": {},
   "outputs": [],
   "source": [
    "# saving the data as CSV\n",
    "# building_historic_df.to_csv('test_building_data.csv', index=False)\n",
    "# bikelane_historic_df.to_csv('test_bikelane_data.csv', index=False)"
   ]
  },
  {
   "cell_type": "code",
   "execution_count": 9,
   "metadata": {},
   "outputs": [],
   "source": [
    "#loading the data saved in the directory\n",
    "building_historic_df = pd.read_csv('test_building_data.csv')\n",
    "bikelane_historic_df = pd.read_csv('test_bikelane_data.csv')"
   ]
  },
  {
   "cell_type": "code",
   "execution_count": 10,
   "metadata": {},
   "outputs": [
    {
     "data": {
      "text/html": [
       "<div>\n",
       "<style scoped>\n",
       "    .dataframe tbody tr th:only-of-type {\n",
       "        vertical-align: middle;\n",
       "    }\n",
       "\n",
       "    .dataframe tbody tr th {\n",
       "        vertical-align: top;\n",
       "    }\n",
       "\n",
       "    .dataframe thead th {\n",
       "        text-align: right;\n",
       "    }\n",
       "</style>\n",
       "<table border=\"1\" class=\"dataframe\">\n",
       "  <thead>\n",
       "    <tr style=\"text-align: right;\">\n",
       "      <th></th>\n",
       "      <th>time</th>\n",
       "      <th>battery</th>\n",
       "      <th>temperature</th>\n",
       "      <th>x</th>\n",
       "      <th>y</th>\n",
       "      <th>z</th>\n",
       "      <th>0_radar</th>\n",
       "      <th>1_radar</th>\n",
       "      <th>2_radar</th>\n",
       "      <th>3_radar</th>\n",
       "      <th>4_radar</th>\n",
       "      <th>5_radar</th>\n",
       "      <th>6_radar</th>\n",
       "      <th>7_radar</th>\n",
       "      <th>package_type</th>\n",
       "      <th>f_cnt</th>\n",
       "      <th>dr</th>\n",
       "      <th>snr</th>\n",
       "      <th>rssi</th>\n",
       "      <th>hw_fw_version</th>\n",
       "    </tr>\n",
       "  </thead>\n",
       "  <tbody>\n",
       "    <tr>\n",
       "      <th>0</th>\n",
       "      <td>2024-03-01 00:03:31.999000</td>\n",
       "      <td>NaN</td>\n",
       "      <td>5.500</td>\n",
       "      <td>312</td>\n",
       "      <td>-465</td>\n",
       "      <td>-991</td>\n",
       "      <td>NaN</td>\n",
       "      <td>NaN</td>\n",
       "      <td>NaN</td>\n",
       "      <td>NaN</td>\n",
       "      <td>NaN</td>\n",
       "      <td>NaN</td>\n",
       "      <td>NaN</td>\n",
       "      <td>NaN</td>\n",
       "      <td>PackageType.HEART_BEAT</td>\n",
       "      <td>1510</td>\n",
       "      <td>5</td>\n",
       "      <td>1.8</td>\n",
       "      <td>-89</td>\n",
       "      <td>DataVersion.HW_2FW2_X_X</td>\n",
       "    </tr>\n",
       "    <tr>\n",
       "      <th>1</th>\n",
       "      <td>2024-03-01 00:13:30.999000</td>\n",
       "      <td>NaN</td>\n",
       "      <td>5.500</td>\n",
       "      <td>309</td>\n",
       "      <td>-463</td>\n",
       "      <td>-992</td>\n",
       "      <td>NaN</td>\n",
       "      <td>NaN</td>\n",
       "      <td>NaN</td>\n",
       "      <td>NaN</td>\n",
       "      <td>NaN</td>\n",
       "      <td>NaN</td>\n",
       "      <td>NaN</td>\n",
       "      <td>NaN</td>\n",
       "      <td>PackageType.HEART_BEAT</td>\n",
       "      <td>1510</td>\n",
       "      <td>5</td>\n",
       "      <td>1.8</td>\n",
       "      <td>-89</td>\n",
       "      <td>DataVersion.HW_2FW2_X_X</td>\n",
       "    </tr>\n",
       "    <tr>\n",
       "      <th>2</th>\n",
       "      <td>2024-03-01 00:23:31.999000</td>\n",
       "      <td>3.16</td>\n",
       "      <td>5.375</td>\n",
       "      <td>312</td>\n",
       "      <td>-466</td>\n",
       "      <td>-987</td>\n",
       "      <td>4.0</td>\n",
       "      <td>5.0</td>\n",
       "      <td>6.0</td>\n",
       "      <td>6.0</td>\n",
       "      <td>4.0</td>\n",
       "      <td>6.0</td>\n",
       "      <td>6.0</td>\n",
       "      <td>5.0</td>\n",
       "      <td>PackageType.HEART_BEAT</td>\n",
       "      <td>1510</td>\n",
       "      <td>5</td>\n",
       "      <td>1.8</td>\n",
       "      <td>-89</td>\n",
       "      <td>DataVersion.HW_2FW2_X_X</td>\n",
       "    </tr>\n",
       "    <tr>\n",
       "      <th>3</th>\n",
       "      <td>2024-03-01 00:33:33.017000</td>\n",
       "      <td>NaN</td>\n",
       "      <td>5.375</td>\n",
       "      <td>312</td>\n",
       "      <td>-464</td>\n",
       "      <td>-997</td>\n",
       "      <td>NaN</td>\n",
       "      <td>NaN</td>\n",
       "      <td>NaN</td>\n",
       "      <td>NaN</td>\n",
       "      <td>NaN</td>\n",
       "      <td>NaN</td>\n",
       "      <td>NaN</td>\n",
       "      <td>NaN</td>\n",
       "      <td>PackageType.HEART_BEAT</td>\n",
       "      <td>1511</td>\n",
       "      <td>5</td>\n",
       "      <td>1.2</td>\n",
       "      <td>-89</td>\n",
       "      <td>DataVersion.HW_2FW2_X_X</td>\n",
       "    </tr>\n",
       "    <tr>\n",
       "      <th>4</th>\n",
       "      <td>2024-03-01 00:43:33.017000</td>\n",
       "      <td>NaN</td>\n",
       "      <td>5.375</td>\n",
       "      <td>310</td>\n",
       "      <td>-467</td>\n",
       "      <td>-993</td>\n",
       "      <td>NaN</td>\n",
       "      <td>NaN</td>\n",
       "      <td>NaN</td>\n",
       "      <td>NaN</td>\n",
       "      <td>NaN</td>\n",
       "      <td>NaN</td>\n",
       "      <td>NaN</td>\n",
       "      <td>NaN</td>\n",
       "      <td>PackageType.HEART_BEAT</td>\n",
       "      <td>1511</td>\n",
       "      <td>5</td>\n",
       "      <td>1.2</td>\n",
       "      <td>-89</td>\n",
       "      <td>DataVersion.HW_2FW2_X_X</td>\n",
       "    </tr>\n",
       "  </tbody>\n",
       "</table>\n",
       "</div>"
      ],
      "text/plain": [
       "                         time  battery  temperature    x    y    z  0_radar  \\\n",
       "0  2024-03-01 00:03:31.999000      NaN        5.500  312 -465 -991      NaN   \n",
       "1  2024-03-01 00:13:30.999000      NaN        5.500  309 -463 -992      NaN   \n",
       "2  2024-03-01 00:23:31.999000     3.16        5.375  312 -466 -987      4.0   \n",
       "3  2024-03-01 00:33:33.017000      NaN        5.375  312 -464 -997      NaN   \n",
       "4  2024-03-01 00:43:33.017000      NaN        5.375  310 -467 -993      NaN   \n",
       "\n",
       "   1_radar  2_radar  3_radar  4_radar  5_radar  6_radar  7_radar  \\\n",
       "0      NaN      NaN      NaN      NaN      NaN      NaN      NaN   \n",
       "1      NaN      NaN      NaN      NaN      NaN      NaN      NaN   \n",
       "2      5.0      6.0      6.0      4.0      6.0      6.0      5.0   \n",
       "3      NaN      NaN      NaN      NaN      NaN      NaN      NaN   \n",
       "4      NaN      NaN      NaN      NaN      NaN      NaN      NaN   \n",
       "\n",
       "             package_type  f_cnt  dr  snr  rssi            hw_fw_version  \n",
       "0  PackageType.HEART_BEAT   1510   5  1.8   -89  DataVersion.HW_2FW2_X_X  \n",
       "1  PackageType.HEART_BEAT   1510   5  1.8   -89  DataVersion.HW_2FW2_X_X  \n",
       "2  PackageType.HEART_BEAT   1510   5  1.8   -89  DataVersion.HW_2FW2_X_X  \n",
       "3  PackageType.HEART_BEAT   1511   5  1.2   -89  DataVersion.HW_2FW2_X_X  \n",
       "4  PackageType.HEART_BEAT   1511   5  1.2   -89  DataVersion.HW_2FW2_X_X  "
      ]
     },
     "execution_count": 10,
     "metadata": {},
     "output_type": "execute_result"
    }
   ],
   "source": [
    "building_historic_df.head()"
   ]
  },
  {
   "cell_type": "code",
   "execution_count": 11,
   "metadata": {},
   "outputs": [
    {
     "data": {
      "text/html": [
       "<div>\n",
       "<style scoped>\n",
       "    .dataframe tbody tr th:only-of-type {\n",
       "        vertical-align: middle;\n",
       "    }\n",
       "\n",
       "    .dataframe tbody tr th {\n",
       "        vertical-align: top;\n",
       "    }\n",
       "\n",
       "    .dataframe thead th {\n",
       "        text-align: right;\n",
       "    }\n",
       "</style>\n",
       "<table border=\"1\" class=\"dataframe\">\n",
       "  <thead>\n",
       "    <tr style=\"text-align: right;\">\n",
       "      <th></th>\n",
       "      <th>time</th>\n",
       "      <th>battery</th>\n",
       "      <th>temperature</th>\n",
       "      <th>x</th>\n",
       "      <th>y</th>\n",
       "      <th>z</th>\n",
       "      <th>0_radar</th>\n",
       "      <th>1_radar</th>\n",
       "      <th>2_radar</th>\n",
       "      <th>3_radar</th>\n",
       "      <th>4_radar</th>\n",
       "      <th>5_radar</th>\n",
       "      <th>6_radar</th>\n",
       "      <th>7_radar</th>\n",
       "      <th>package_type</th>\n",
       "      <th>f_cnt</th>\n",
       "      <th>dr</th>\n",
       "      <th>snr</th>\n",
       "      <th>rssi</th>\n",
       "      <th>hw_fw_version</th>\n",
       "    </tr>\n",
       "  </thead>\n",
       "  <tbody>\n",
       "    <tr>\n",
       "      <th>0</th>\n",
       "      <td>2024-03-01 00:00:32.251000</td>\n",
       "      <td>NaN</td>\n",
       "      <td>5.25</td>\n",
       "      <td>-253</td>\n",
       "      <td>-27</td>\n",
       "      <td>-630</td>\n",
       "      <td>NaN</td>\n",
       "      <td>NaN</td>\n",
       "      <td>NaN</td>\n",
       "      <td>NaN</td>\n",
       "      <td>NaN</td>\n",
       "      <td>NaN</td>\n",
       "      <td>NaN</td>\n",
       "      <td>NaN</td>\n",
       "      <td>PackageType.HEART_BEAT</td>\n",
       "      <td>1459</td>\n",
       "      <td>4</td>\n",
       "      <td>2.5</td>\n",
       "      <td>-86</td>\n",
       "      <td>DataVersion.HW_2FW2_X_X</td>\n",
       "    </tr>\n",
       "    <tr>\n",
       "      <th>1</th>\n",
       "      <td>2024-03-01 00:10:32.251000</td>\n",
       "      <td>3.04</td>\n",
       "      <td>5.25</td>\n",
       "      <td>-254</td>\n",
       "      <td>-20</td>\n",
       "      <td>-627</td>\n",
       "      <td>6.0</td>\n",
       "      <td>6.0</td>\n",
       "      <td>6.0</td>\n",
       "      <td>6.0</td>\n",
       "      <td>7.0</td>\n",
       "      <td>7.0</td>\n",
       "      <td>7.0</td>\n",
       "      <td>4.0</td>\n",
       "      <td>PackageType.HEART_BEAT</td>\n",
       "      <td>1459</td>\n",
       "      <td>4</td>\n",
       "      <td>2.5</td>\n",
       "      <td>-86</td>\n",
       "      <td>DataVersion.HW_2FW2_X_X</td>\n",
       "    </tr>\n",
       "    <tr>\n",
       "      <th>2</th>\n",
       "      <td>2024-03-01 00:20:33.352000</td>\n",
       "      <td>NaN</td>\n",
       "      <td>5.25</td>\n",
       "      <td>-254</td>\n",
       "      <td>-23</td>\n",
       "      <td>-635</td>\n",
       "      <td>NaN</td>\n",
       "      <td>NaN</td>\n",
       "      <td>NaN</td>\n",
       "      <td>NaN</td>\n",
       "      <td>NaN</td>\n",
       "      <td>NaN</td>\n",
       "      <td>NaN</td>\n",
       "      <td>NaN</td>\n",
       "      <td>PackageType.HEART_BEAT</td>\n",
       "      <td>1460</td>\n",
       "      <td>4</td>\n",
       "      <td>NaN</td>\n",
       "      <td>-91</td>\n",
       "      <td>DataVersion.HW_2FW2_X_X</td>\n",
       "    </tr>\n",
       "    <tr>\n",
       "      <th>3</th>\n",
       "      <td>2024-03-01 00:30:34.352000</td>\n",
       "      <td>NaN</td>\n",
       "      <td>5.25</td>\n",
       "      <td>-256</td>\n",
       "      <td>-25</td>\n",
       "      <td>-628</td>\n",
       "      <td>NaN</td>\n",
       "      <td>NaN</td>\n",
       "      <td>NaN</td>\n",
       "      <td>NaN</td>\n",
       "      <td>NaN</td>\n",
       "      <td>NaN</td>\n",
       "      <td>NaN</td>\n",
       "      <td>NaN</td>\n",
       "      <td>PackageType.HEART_BEAT</td>\n",
       "      <td>1460</td>\n",
       "      <td>4</td>\n",
       "      <td>NaN</td>\n",
       "      <td>-91</td>\n",
       "      <td>DataVersion.HW_2FW2_X_X</td>\n",
       "    </tr>\n",
       "    <tr>\n",
       "      <th>4</th>\n",
       "      <td>2024-03-01 00:40:33.352000</td>\n",
       "      <td>3.04</td>\n",
       "      <td>5.25</td>\n",
       "      <td>-253</td>\n",
       "      <td>-28</td>\n",
       "      <td>-630</td>\n",
       "      <td>5.0</td>\n",
       "      <td>5.0</td>\n",
       "      <td>5.0</td>\n",
       "      <td>5.0</td>\n",
       "      <td>6.0</td>\n",
       "      <td>6.0</td>\n",
       "      <td>6.0</td>\n",
       "      <td>6.0</td>\n",
       "      <td>PackageType.HEART_BEAT</td>\n",
       "      <td>1460</td>\n",
       "      <td>4</td>\n",
       "      <td>NaN</td>\n",
       "      <td>-91</td>\n",
       "      <td>DataVersion.HW_2FW2_X_X</td>\n",
       "    </tr>\n",
       "  </tbody>\n",
       "</table>\n",
       "</div>"
      ],
      "text/plain": [
       "                         time  battery  temperature    x   y    z  0_radar  \\\n",
       "0  2024-03-01 00:00:32.251000      NaN         5.25 -253 -27 -630      NaN   \n",
       "1  2024-03-01 00:10:32.251000     3.04         5.25 -254 -20 -627      6.0   \n",
       "2  2024-03-01 00:20:33.352000      NaN         5.25 -254 -23 -635      NaN   \n",
       "3  2024-03-01 00:30:34.352000      NaN         5.25 -256 -25 -628      NaN   \n",
       "4  2024-03-01 00:40:33.352000     3.04         5.25 -253 -28 -630      5.0   \n",
       "\n",
       "   1_radar  2_radar  3_radar  4_radar  5_radar  6_radar  7_radar  \\\n",
       "0      NaN      NaN      NaN      NaN      NaN      NaN      NaN   \n",
       "1      6.0      6.0      6.0      7.0      7.0      7.0      4.0   \n",
       "2      NaN      NaN      NaN      NaN      NaN      NaN      NaN   \n",
       "3      NaN      NaN      NaN      NaN      NaN      NaN      NaN   \n",
       "4      5.0      5.0      5.0      6.0      6.0      6.0      6.0   \n",
       "\n",
       "             package_type  f_cnt  dr  snr  rssi            hw_fw_version  \n",
       "0  PackageType.HEART_BEAT   1459   4  2.5   -86  DataVersion.HW_2FW2_X_X  \n",
       "1  PackageType.HEART_BEAT   1459   4  2.5   -86  DataVersion.HW_2FW2_X_X  \n",
       "2  PackageType.HEART_BEAT   1460   4  NaN   -91  DataVersion.HW_2FW2_X_X  \n",
       "3  PackageType.HEART_BEAT   1460   4  NaN   -91  DataVersion.HW_2FW2_X_X  \n",
       "4  PackageType.HEART_BEAT   1460   4  NaN   -91  DataVersion.HW_2FW2_X_X  "
      ]
     },
     "execution_count": 11,
     "metadata": {},
     "output_type": "execute_result"
    }
   ],
   "source": [
    "bikelane_historic_df.head()"
   ]
  },
  {
   "cell_type": "code",
   "execution_count": 12,
   "metadata": {},
   "outputs": [],
   "source": [
    "# Define a function that tries to parse the datetime with microseconds first, and if it fails, parses it without microseconds\n",
    "def parse_datetime(dt_str):\n",
    "    try:\n",
    "        return datetime.strptime(dt_str, '%Y-%m-%d %H:%M:%S.%f')\n",
    "    except ValueError:\n",
    "        return datetime.strptime(dt_str, '%Y-%m-%d %H:%M:%S')"
   ]
  },
  {
   "cell_type": "code",
   "execution_count": 13,
   "metadata": {},
   "outputs": [],
   "source": [
    "building_historic_df = building_historic_df.copy()\n",
    "building_historic_df['time'] = building_historic_df['time'].apply(parse_datetime)\n",
    "bikelane_historic_df = bikelane_historic_df.copy()\n",
    "bikelane_historic_df['time'] = bikelane_historic_df['time'].apply(parse_datetime)"
   ]
  },
  {
   "cell_type": "code",
   "execution_count": 14,
   "metadata": {},
   "outputs": [],
   "source": [
    "#create a column for the time in the format of \"YYYY-MM-DD HH\" to merge with weather data\n",
    "bikelane_historic_df['time_hour'] = bikelane_historic_df['time'].dt.strftime('%Y-%m-%d %H')\n",
    "building_historic_df['time_hour'] = building_historic_df['time'].dt.strftime('%Y-%m-%d %H')\n",
    "# Converting the time_hour column to datetime\n",
    "bikelane_historic_df['time_hour'] = pd.to_datetime(bikelane_historic_df['time_hour'])\n",
    "building_historic_df['time_hour'] = pd.to_datetime(building_historic_df['time_hour'])"
   ]
  },
  {
   "cell_type": "markdown",
   "metadata": {},
   "source": [
    "## 3. Loading weather data"
   ]
  },
  {
   "cell_type": "code",
   "execution_count": 15,
   "metadata": {},
   "outputs": [
    {
     "name": "stdout",
     "output_type": "stream",
     "text": [
      "Requirement already satisfied: openmeteo-requests in /home/ucloud/miniconda3/envs/ucloud-sml/lib/python3.11/site-packages (1.2.0)\n",
      "Requirement already satisfied: openmeteo-sdk>=1.4.0 in /home/ucloud/miniconda3/envs/ucloud-sml/lib/python3.11/site-packages (from openmeteo-requests) (1.11.4)\n",
      "Requirement already satisfied: requests in /home/ucloud/miniconda3/envs/ucloud-sml/lib/python3.11/site-packages (from openmeteo-requests) (2.32.2)\n",
      "Requirement already satisfied: flatbuffers>=24.0.0 in /home/ucloud/miniconda3/envs/ucloud-sml/lib/python3.11/site-packages (from openmeteo-sdk>=1.4.0->openmeteo-requests) (24.3.25)\n",
      "Requirement already satisfied: charset-normalizer<4,>=2 in /home/ucloud/miniconda3/envs/ucloud-sml/lib/python3.11/site-packages (from requests->openmeteo-requests) (3.3.2)\n",
      "Requirement already satisfied: idna<4,>=2.5 in /home/ucloud/miniconda3/envs/ucloud-sml/lib/python3.11/site-packages (from requests->openmeteo-requests) (3.7)\n",
      "Requirement already satisfied: urllib3<3,>=1.21.1 in /home/ucloud/miniconda3/envs/ucloud-sml/lib/python3.11/site-packages (from requests->openmeteo-requests) (2.2.1)\n",
      "Requirement already satisfied: certifi>=2017.4.17 in /home/ucloud/miniconda3/envs/ucloud-sml/lib/python3.11/site-packages (from requests->openmeteo-requests) (2024.2.2)\n",
      "Requirement already satisfied: requests-cache in /home/ucloud/miniconda3/envs/ucloud-sml/lib/python3.11/site-packages (1.2.0)\n",
      "Requirement already satisfied: retry-requests in /home/ucloud/miniconda3/envs/ucloud-sml/lib/python3.11/site-packages (2.0.0)\n",
      "Requirement already satisfied: numpy in /home/ucloud/miniconda3/envs/ucloud-sml/lib/python3.11/site-packages (1.26.4)\n",
      "Requirement already satisfied: pandas in /home/ucloud/miniconda3/envs/ucloud-sml/lib/python3.11/site-packages (2.1.4)\n",
      "Requirement already satisfied: attrs>=21.2 in /home/ucloud/miniconda3/envs/ucloud-sml/lib/python3.11/site-packages (from requests-cache) (23.2.0)\n",
      "Requirement already satisfied: cattrs>=22.2 in /home/ucloud/miniconda3/envs/ucloud-sml/lib/python3.11/site-packages (from requests-cache) (23.2.3)\n",
      "Requirement already satisfied: platformdirs>=2.5 in /home/ucloud/miniconda3/envs/ucloud-sml/lib/python3.11/site-packages (from requests-cache) (3.10.0)\n",
      "Requirement already satisfied: requests>=2.22 in /home/ucloud/miniconda3/envs/ucloud-sml/lib/python3.11/site-packages (from requests-cache) (2.32.2)\n",
      "Requirement already satisfied: url-normalize>=1.4 in /home/ucloud/miniconda3/envs/ucloud-sml/lib/python3.11/site-packages (from requests-cache) (1.4.3)\n",
      "Requirement already satisfied: urllib3>=1.25.5 in /home/ucloud/miniconda3/envs/ucloud-sml/lib/python3.11/site-packages (from requests-cache) (2.2.1)\n",
      "Requirement already satisfied: python-dateutil>=2.8.2 in /home/ucloud/miniconda3/envs/ucloud-sml/lib/python3.11/site-packages (from pandas) (2.8.2)\n",
      "Requirement already satisfied: pytz>=2020.1 in /home/ucloud/miniconda3/envs/ucloud-sml/lib/python3.11/site-packages (from pandas) (2024.1)\n",
      "Requirement already satisfied: tzdata>=2022.1 in /home/ucloud/miniconda3/envs/ucloud-sml/lib/python3.11/site-packages (from pandas) (2024.1)\n",
      "Requirement already satisfied: six>=1.5 in /home/ucloud/miniconda3/envs/ucloud-sml/lib/python3.11/site-packages (from python-dateutil>=2.8.2->pandas) (1.16.0)\n",
      "Requirement already satisfied: charset-normalizer<4,>=2 in /home/ucloud/miniconda3/envs/ucloud-sml/lib/python3.11/site-packages (from requests>=2.22->requests-cache) (3.3.2)\n",
      "Requirement already satisfied: idna<4,>=2.5 in /home/ucloud/miniconda3/envs/ucloud-sml/lib/python3.11/site-packages (from requests>=2.22->requests-cache) (3.7)\n",
      "Requirement already satisfied: certifi>=2017.4.17 in /home/ucloud/miniconda3/envs/ucloud-sml/lib/python3.11/site-packages (from requests>=2.22->requests-cache) (2024.2.2)\n"
     ]
    }
   ],
   "source": [
    "!pip install openmeteo-requests\n",
    "!pip install requests-cache retry-requests numpy pandas"
   ]
  },
  {
   "cell_type": "code",
   "execution_count": 16,
   "metadata": {},
   "outputs": [],
   "source": [
    "import openmeteo_requests\n",
    "import requests_cache\n",
    "from retry_requests import retry"
   ]
  },
  {
   "cell_type": "code",
   "execution_count": 17,
   "metadata": {},
   "outputs": [],
   "source": [
    "# Setup the Open-Meteo API client with cache and retry on error\n",
    "cache_session = requests_cache.CachedSession('.cache', expire_after = 3600)\n",
    "retry_session = retry(cache_session, retries = 5, backoff_factor = 0.2)\n",
    "openmeteo = openmeteo_requests.Client(session = retry_session)"
   ]
  },
  {
   "cell_type": "code",
   "execution_count": 18,
   "metadata": {},
   "outputs": [],
   "source": [
    "# The order of variables in hourly or daily is important to assign them correctly below\n",
    "url_weather = \"https://archive-api.open-meteo.com/v1/archive\"\n",
    "params_weather = {\n",
    "\t\"latitude\": 57.01,\n",
    "\t\"longitude\": 9.99,\n",
    "\t\"start_date\": \"2024-03-01\",\n",
    "\t\"end_date\": \"2024-04-30\",\n",
    "\t\"hourly\": [\"temperature_2m\", \"relative_humidity_2m\", \"precipitation\", \"rain\", \"snowfall\", \"snow_depth\", \"soil_temperature_0_to_7cm\", \"soil_temperature_7_to_28cm\", \"soil_temperature_28_to_100cm\", \"soil_temperature_100_to_255cm\", \"soil_moisture_0_to_7cm\", \"soil_moisture_7_to_28cm\", \"soil_moisture_28_to_100cm\", \"soil_moisture_100_to_255cm\"]\n",
    "}\n",
    "responses = openmeteo.weather_api(url_weather, params=params_weather)"
   ]
  },
  {
   "cell_type": "code",
   "execution_count": 19,
   "metadata": {},
   "outputs": [
    {
     "name": "stdout",
     "output_type": "stream",
     "text": [
      "Coordinates 56.977149963378906°N 10.0632905960083°E\n",
      "Elevation 23.0 m asl\n",
      "Timezone None None\n",
      "Timezone difference to GMT+0 0 s\n"
     ]
    },
    {
     "data": {
      "text/html": [
       "<div>\n",
       "<style scoped>\n",
       "    .dataframe tbody tr th:only-of-type {\n",
       "        vertical-align: middle;\n",
       "    }\n",
       "\n",
       "    .dataframe tbody tr th {\n",
       "        vertical-align: top;\n",
       "    }\n",
       "\n",
       "    .dataframe thead th {\n",
       "        text-align: right;\n",
       "    }\n",
       "</style>\n",
       "<table border=\"1\" class=\"dataframe\">\n",
       "  <thead>\n",
       "    <tr style=\"text-align: right;\">\n",
       "      <th></th>\n",
       "      <th>date</th>\n",
       "      <th>temperature_2m</th>\n",
       "      <th>relative_humidity_2m</th>\n",
       "      <th>precipitation</th>\n",
       "      <th>rain</th>\n",
       "      <th>snowfall</th>\n",
       "      <th>snow_depth</th>\n",
       "      <th>soil_temperature_0_to_7cm</th>\n",
       "      <th>soil_temperature_7_to_28cm</th>\n",
       "      <th>soil_temperature_28_to_100cm</th>\n",
       "      <th>soil_temperature_100_to_255cm</th>\n",
       "      <th>soil_moisture_0_to_7cm</th>\n",
       "      <th>soil_moisture_7_to_28cm</th>\n",
       "      <th>soil_moisture_28_to_100cm</th>\n",
       "      <th>soil_moisture_100_to_255cm</th>\n",
       "    </tr>\n",
       "  </thead>\n",
       "  <tbody>\n",
       "    <tr>\n",
       "      <th>0</th>\n",
       "      <td>2024-03-01 00:00:00+00:00</td>\n",
       "      <td>6.2305</td>\n",
       "      <td>87.634949</td>\n",
       "      <td>0.1</td>\n",
       "      <td>0.1</td>\n",
       "      <td>0.0</td>\n",
       "      <td>0.0</td>\n",
       "      <td>5.3805</td>\n",
       "      <td>5.1305</td>\n",
       "      <td>4.0305</td>\n",
       "      <td>3.5805</td>\n",
       "      <td>0.296</td>\n",
       "      <td>0.272</td>\n",
       "      <td>0.29</td>\n",
       "      <td>0.288</td>\n",
       "    </tr>\n",
       "    <tr>\n",
       "      <th>1</th>\n",
       "      <td>2024-03-01 01:00:00+00:00</td>\n",
       "      <td>5.7305</td>\n",
       "      <td>88.205788</td>\n",
       "      <td>0.1</td>\n",
       "      <td>0.1</td>\n",
       "      <td>0.0</td>\n",
       "      <td>0.0</td>\n",
       "      <td>5.1305</td>\n",
       "      <td>5.0805</td>\n",
       "      <td>4.0305</td>\n",
       "      <td>3.5805</td>\n",
       "      <td>0.292</td>\n",
       "      <td>0.272</td>\n",
       "      <td>0.29</td>\n",
       "      <td>0.289</td>\n",
       "    </tr>\n",
       "    <tr>\n",
       "      <th>2</th>\n",
       "      <td>2024-03-01 02:00:00+00:00</td>\n",
       "      <td>5.2305</td>\n",
       "      <td>89.097878</td>\n",
       "      <td>0.0</td>\n",
       "      <td>0.0</td>\n",
       "      <td>0.0</td>\n",
       "      <td>0.0</td>\n",
       "      <td>4.9305</td>\n",
       "      <td>5.0305</td>\n",
       "      <td>4.0305</td>\n",
       "      <td>3.5805</td>\n",
       "      <td>0.289</td>\n",
       "      <td>0.272</td>\n",
       "      <td>0.29</td>\n",
       "      <td>0.289</td>\n",
       "    </tr>\n",
       "    <tr>\n",
       "      <th>3</th>\n",
       "      <td>2024-03-01 03:00:00+00:00</td>\n",
       "      <td>4.7805</td>\n",
       "      <td>90.966789</td>\n",
       "      <td>0.0</td>\n",
       "      <td>0.0</td>\n",
       "      <td>0.0</td>\n",
       "      <td>0.0</td>\n",
       "      <td>4.7305</td>\n",
       "      <td>4.9805</td>\n",
       "      <td>4.0305</td>\n",
       "      <td>3.5805</td>\n",
       "      <td>0.286</td>\n",
       "      <td>0.273</td>\n",
       "      <td>0.29</td>\n",
       "      <td>0.289</td>\n",
       "    </tr>\n",
       "    <tr>\n",
       "      <th>4</th>\n",
       "      <td>2024-03-01 04:00:00+00:00</td>\n",
       "      <td>3.6805</td>\n",
       "      <td>94.174324</td>\n",
       "      <td>0.0</td>\n",
       "      <td>0.0</td>\n",
       "      <td>0.0</td>\n",
       "      <td>0.0</td>\n",
       "      <td>4.2305</td>\n",
       "      <td>4.9305</td>\n",
       "      <td>4.0805</td>\n",
       "      <td>3.5805</td>\n",
       "      <td>0.284</td>\n",
       "      <td>0.273</td>\n",
       "      <td>0.29</td>\n",
       "      <td>0.289</td>\n",
       "    </tr>\n",
       "  </tbody>\n",
       "</table>\n",
       "</div>"
      ],
      "text/plain": [
       "                       date  temperature_2m  relative_humidity_2m  \\\n",
       "0 2024-03-01 00:00:00+00:00          6.2305             87.634949   \n",
       "1 2024-03-01 01:00:00+00:00          5.7305             88.205788   \n",
       "2 2024-03-01 02:00:00+00:00          5.2305             89.097878   \n",
       "3 2024-03-01 03:00:00+00:00          4.7805             90.966789   \n",
       "4 2024-03-01 04:00:00+00:00          3.6805             94.174324   \n",
       "\n",
       "   precipitation  rain  snowfall  snow_depth  soil_temperature_0_to_7cm  \\\n",
       "0            0.1   0.1       0.0         0.0                     5.3805   \n",
       "1            0.1   0.1       0.0         0.0                     5.1305   \n",
       "2            0.0   0.0       0.0         0.0                     4.9305   \n",
       "3            0.0   0.0       0.0         0.0                     4.7305   \n",
       "4            0.0   0.0       0.0         0.0                     4.2305   \n",
       "\n",
       "   soil_temperature_7_to_28cm  soil_temperature_28_to_100cm  \\\n",
       "0                      5.1305                        4.0305   \n",
       "1                      5.0805                        4.0305   \n",
       "2                      5.0305                        4.0305   \n",
       "3                      4.9805                        4.0305   \n",
       "4                      4.9305                        4.0805   \n",
       "\n",
       "   soil_temperature_100_to_255cm  soil_moisture_0_to_7cm  \\\n",
       "0                         3.5805                   0.296   \n",
       "1                         3.5805                   0.292   \n",
       "2                         3.5805                   0.289   \n",
       "3                         3.5805                   0.286   \n",
       "4                         3.5805                   0.284   \n",
       "\n",
       "   soil_moisture_7_to_28cm  soil_moisture_28_to_100cm  \\\n",
       "0                    0.272                       0.29   \n",
       "1                    0.272                       0.29   \n",
       "2                    0.272                       0.29   \n",
       "3                    0.273                       0.29   \n",
       "4                    0.273                       0.29   \n",
       "\n",
       "   soil_moisture_100_to_255cm  \n",
       "0                       0.288  \n",
       "1                       0.289  \n",
       "2                       0.289  \n",
       "3                       0.289  \n",
       "4                       0.289  "
      ]
     },
     "execution_count": 19,
     "metadata": {},
     "output_type": "execute_result"
    }
   ],
   "source": [
    "# Process first location. Add a for-loop for multiple locations or weather models\n",
    "response = responses[0]\n",
    "print(f\"Coordinates {response.Latitude()}°N {response.Longitude()}°E\")\n",
    "print(f\"Elevation {response.Elevation()} m asl\")\n",
    "print(f\"Timezone {response.Timezone()} {response.TimezoneAbbreviation()}\")\n",
    "print(f\"Timezone difference to GMT+0 {response.UtcOffsetSeconds()} s\")\n",
    "\n",
    "# Process hourly data. The order of variables needs to be the same as requested.\n",
    "hourly = response.Hourly()\n",
    "hourly_temperature_2m = hourly.Variables(0).ValuesAsNumpy()\n",
    "hourly_relative_humidity_2m = hourly.Variables(1).ValuesAsNumpy()\n",
    "hourly_precipitation = hourly.Variables(2).ValuesAsNumpy()\n",
    "hourly_rain = hourly.Variables(3).ValuesAsNumpy()\n",
    "hourly_snowfall = hourly.Variables(4).ValuesAsNumpy()\n",
    "hourly_snow_depth = hourly.Variables(5).ValuesAsNumpy()\n",
    "hourly_soil_temperature_0_to_7cm = hourly.Variables(6).ValuesAsNumpy()\n",
    "hourly_soil_temperature_7_to_28cm = hourly.Variables(7).ValuesAsNumpy()\n",
    "hourly_soil_temperature_28_to_100cm = hourly.Variables(8).ValuesAsNumpy()\n",
    "hourly_soil_temperature_100_to_255cm = hourly.Variables(9).ValuesAsNumpy()\n",
    "hourly_soil_moisture_0_to_7cm = hourly.Variables(10).ValuesAsNumpy()\n",
    "hourly_soil_moisture_7_to_28cm = hourly.Variables(11).ValuesAsNumpy()\n",
    "hourly_soil_moisture_28_to_100cm = hourly.Variables(12).ValuesAsNumpy()\n",
    "hourly_soil_moisture_100_to_255cm = hourly.Variables(13).ValuesAsNumpy()\n",
    "\n",
    "hourly_data = {\"date\": pd.date_range(\n",
    "\tstart = pd.to_datetime(hourly.Time(), unit = \"s\", utc = True),\n",
    "\tend = pd.to_datetime(hourly.TimeEnd(), unit = \"s\", utc = True),\n",
    "\tfreq = pd.Timedelta(seconds = hourly.Interval()),\n",
    "\tinclusive = \"left\"\n",
    ")}\n",
    "hourly_data[\"temperature_2m\"] = hourly_temperature_2m\n",
    "hourly_data[\"relative_humidity_2m\"] = hourly_relative_humidity_2m\n",
    "hourly_data[\"precipitation\"] = hourly_precipitation\n",
    "hourly_data[\"rain\"] = hourly_rain\n",
    "hourly_data[\"snowfall\"] = hourly_snowfall\n",
    "hourly_data[\"snow_depth\"] = hourly_snow_depth\n",
    "hourly_data[\"soil_temperature_0_to_7cm\"] = hourly_soil_temperature_0_to_7cm\n",
    "hourly_data[\"soil_temperature_7_to_28cm\"] = hourly_soil_temperature_7_to_28cm\n",
    "hourly_data[\"soil_temperature_28_to_100cm\"] = hourly_soil_temperature_28_to_100cm\n",
    "hourly_data[\"soil_temperature_100_to_255cm\"] = hourly_soil_temperature_100_to_255cm\n",
    "hourly_data[\"soil_moisture_0_to_7cm\"] = hourly_soil_moisture_0_to_7cm\n",
    "hourly_data[\"soil_moisture_7_to_28cm\"] = hourly_soil_moisture_7_to_28cm\n",
    "hourly_data[\"soil_moisture_28_to_100cm\"] = hourly_soil_moisture_28_to_100cm\n",
    "hourly_data[\"soil_moisture_100_to_255cm\"] = hourly_soil_moisture_100_to_255cm\n",
    "\n",
    "hourly_dataframe = pd.DataFrame(data = hourly_data)\n",
    "hourly_dataframe.head()"
   ]
  },
  {
   "cell_type": "code",
   "execution_count": 20,
   "metadata": {},
   "outputs": [],
   "source": [
    "#remove the timezone from the date column\n",
    "hourly_dataframe['date'] = hourly_dataframe['date'].dt.tz_localize(None)\n",
    "#Convert to datetime object\n",
    "hourly_dataframe['date'] = pd.to_datetime(hourly_dataframe['date'])"
   ]
  },
  {
   "cell_type": "markdown",
   "metadata": {},
   "source": [
    "## 4. Merging dataframes"
   ]
  },
  {
   "cell_type": "code",
   "execution_count": 21,
   "metadata": {},
   "outputs": [],
   "source": [
    "# Merging the weather data with the building sensor data\n",
    "building_historic_df = pd.merge(building_historic_df, hourly_dataframe, left_on='time_hour', right_on='date', how='left')\n",
    "# Merging the weather data with the bikelane sensor data\n",
    "bikelane_historic_df = pd.merge(bikelane_historic_df, hourly_dataframe, left_on='time_hour', right_on='date', how='left')"
   ]
  },
  {
   "cell_type": "code",
   "execution_count": 22,
   "metadata": {},
   "outputs": [],
   "source": [
    "# removing date column\n",
    "building_historic_df = building_historic_df.drop(columns=['date'])\n",
    "bikelane_historic_df = bikelane_historic_df.drop(columns=['date'])"
   ]
  },
  {
   "cell_type": "code",
   "execution_count": 23,
   "metadata": {},
   "outputs": [],
   "source": [
    "# Create a unique identifier for each row in the datasets\n",
    "def create_id(df, dataset_name):\n",
    "    # Assign the sensor prefix based on the dataset name\n",
    "    if dataset_name == 'building_historic_df':\n",
    "        df['psensor'] = \"BUILDING\"\n",
    "    elif dataset_name == 'bikelane_historic_df':\n",
    "        df['psensor'] = \"BIKELANE\"\n",
    "    else:\n",
    "        raise ValueError(\"Unknown dataset name provided\")\n",
    "\n",
    "    # Create a new column 'id' with a unique identifier for each row\n",
    "    df['id'] = df['time'].astype(str) + '_' + df['psensor']\n",
    "\n",
    "    return df"
   ]
  },
  {
   "cell_type": "code",
   "execution_count": 24,
   "metadata": {},
   "outputs": [],
   "source": [
    "# Applying the ID creator function to the datasets\n",
    "df_bikelane = create_id(bikelane_historic_df, 'bikelane_historic_df')\n",
    "df_building = create_id(building_historic_df, 'building_historic_df')"
   ]
  },
  {
   "cell_type": "code",
   "execution_count": 25,
   "metadata": {},
   "outputs": [],
   "source": [
    "#Renaming the radar columns to start with radar to deal with hopsworks problem\n",
    "df_building = df_building.rename(columns={'0_radar': 'radar_0', '1_radar': 'radar_1', '2_radar': 'radar_2', '3_radar': 'radar_3', '4_radar': 'radar_4', '5_radar': 'radar_5', '6_radar': 'radar_6', '7_radar': 'radar_7'})\n",
    "df_bikelane = df_bikelane.rename(columns={'0_radar': 'radar_0', '1_radar': 'radar_1', '2_radar': 'radar_2', '3_radar': 'radar_3', '4_radar': 'radar_4', '5_radar': 'radar_5', '6_radar': 'radar_6', '7_radar': 'radar_7'})"
   ]
  },
  {
   "cell_type": "code",
   "execution_count": 26,
   "metadata": {},
   "outputs": [],
   "source": [
    "# Converting the columns to float\n",
    "df_building[['x','y','z', 'radar_0', 'radar_1', 'radar_2', 'radar_3', 'radar_4', 'radar_5', 'radar_6', 'radar_7', 'f_cnt', 'dr', 'rssi']] = df_building[['x','y','z', 'radar_0', 'radar_1', 'radar_2', 'radar_3', 'radar_4', 'radar_5', 'radar_6', 'radar_7', 'f_cnt', 'dr', 'rssi']].astype(float)\n",
    "df_bikelane[['x','y','z', 'radar_0', 'radar_1', 'radar_2', 'radar_3', 'radar_4', 'radar_5', 'radar_6', 'radar_7', 'f_cnt', 'dr', 'rssi']] = df_bikelane[['x','y','z', 'radar_0', 'radar_1', 'radar_2', 'radar_3', 'radar_4', 'radar_5', 'radar_6', 'radar_7', 'f_cnt', 'dr', 'rssi']].astype(float)"
   ]
  },
  {
   "cell_type": "markdown",
   "metadata": {},
   "source": [
    "## Creating full dataframe with backfilled battery and radar columns"
   ]
  },
  {
   "cell_type": "code",
   "execution_count": 27,
   "metadata": {},
   "outputs": [],
   "source": [
    "building_full_df = df_building.copy()\n",
    "bikelane_full_df = df_bikelane.copy()"
   ]
  },
  {
   "cell_type": "code",
   "execution_count": 29,
   "metadata": {},
   "outputs": [],
   "source": [
    "# backfill missing values in radar columns and battery column with the previous value\n",
    "building_full_df['radar_0'] = building_full_df['radar_0'].bfill()\n",
    "building_full_df['radar_1'] = building_full_df['radar_1'].bfill()\n",
    "building_full_df['radar_2'] = building_full_df['radar_2'].bfill()\n",
    "building_full_df['radar_3'] = building_full_df['radar_3'].bfill()\n",
    "building_full_df['radar_4'] = building_full_df['radar_4'].bfill()\n",
    "building_full_df['radar_5'] = building_full_df['radar_5'].bfill()\n",
    "building_full_df['radar_6'] = building_full_df['radar_6'].bfill()\n",
    "building_full_df['radar_7'] = building_full_df['radar_7'].bfill()\n",
    "building_full_df['battery'] = building_full_df['battery'].bfill()\n",
    "bikelane_full_df['radar_0'] = bikelane_full_df['radar_0'].bfill()\n",
    "bikelane_full_df['radar_1'] = bikelane_full_df['radar_1'].bfill()\n",
    "bikelane_full_df['radar_2'] = bikelane_full_df['radar_2'].bfill()\n",
    "bikelane_full_df['radar_3'] = bikelane_full_df['radar_3'].bfill()\n",
    "bikelane_full_df['radar_4'] = bikelane_full_df['radar_4'].bfill()\n",
    "bikelane_full_df['radar_5'] = bikelane_full_df['radar_5'].bfill()\n",
    "bikelane_full_df['radar_6'] = bikelane_full_df['radar_6'].bfill()\n",
    "bikelane_full_df['radar_7'] = bikelane_full_df['radar_7'].bfill()\n",
    "bikelane_full_df['battery'] = bikelane_full_df['battery'].bfill()"
   ]
  },
  {
   "cell_type": "markdown",
   "metadata": {},
   "source": [
    "## Creating dataframe with only magnetic field data"
   ]
  },
  {
   "cell_type": "code",
   "execution_count": 30,
   "metadata": {},
   "outputs": [],
   "source": [
    "building_mag_df = building_full_df[['time', 'battery', 'temperature', 'x', 'y', 'z','package_type', 'f_cnt', 'dr', 'snr', 'rssi', 'hw_fw_version',\n",
    "       'time_hour', 'temperature_2m', 'relative_humidity_2m',\n",
    "       'precipitation', 'rain', 'snowfall', 'snow_depth',\n",
    "       'soil_temperature_0_to_7cm', 'soil_temperature_7_to_28cm',\n",
    "       'soil_temperature_28_to_100cm', 'soil_temperature_100_to_255cm',\n",
    "       'soil_moisture_0_to_7cm', 'soil_moisture_7_to_28cm',\n",
    "       'soil_moisture_28_to_100cm', 'soil_moisture_100_to_255cm']]\n",
    "bikelane_mag_df = bikelane_full_df[['time', 'battery', 'temperature', 'x', 'y', 'z','package_type', 'f_cnt', 'dr', 'snr', 'rssi', 'hw_fw_version',\n",
    "       'time_hour', 'temperature_2m', 'relative_humidity_2m',\n",
    "       'precipitation', 'rain', 'snowfall', 'snow_depth',\n",
    "       'soil_temperature_0_to_7cm', 'soil_temperature_7_to_28cm',\n",
    "       'soil_temperature_28_to_100cm', 'soil_temperature_100_to_255cm',\n",
    "       'soil_moisture_0_to_7cm', 'soil_moisture_7_to_28cm',\n",
    "       'soil_moisture_28_to_100cm', 'soil_moisture_100_to_255cm']]\n"
   ]
  },
  {
   "cell_type": "code",
   "execution_count": 39,
   "metadata": {},
   "outputs": [
    {
     "name": "stdout",
     "output_type": "stream",
     "text": [
      "(7667, 27)\n",
      "(7595, 27)\n"
     ]
    }
   ],
   "source": [
    "print(building_mag_df.shape)\n",
    "print(bikelane_mag_df.shape)"
   ]
  },
  {
   "cell_type": "markdown",
   "metadata": {},
   "source": [
    "## Creating dataframe with radar data"
   ]
  },
  {
   "cell_type": "code",
   "execution_count": 34,
   "metadata": {},
   "outputs": [],
   "source": [
    "building_radar_df = df_building[['time', 'battery', 'temperature', 'radar_0', 'radar_1',\n",
    "       'radar_2', 'radar_3', 'radar_4', 'radar_5', 'radar_6', 'radar_7', 'package_type', 'f_cnt', 'dr', 'snr', 'rssi', 'hw_fw_version',\n",
    "       'time_hour', 'temperature_2m', 'relative_humidity_2m',\n",
    "       'precipitation', 'rain', 'snowfall', 'snow_depth',\n",
    "       'soil_temperature_0_to_7cm', 'soil_temperature_7_to_28cm',\n",
    "       'soil_temperature_28_to_100cm', 'soil_temperature_100_to_255cm',\n",
    "       'soil_moisture_0_to_7cm', 'soil_moisture_7_to_28cm',\n",
    "       'soil_moisture_28_to_100cm', 'soil_moisture_100_to_255cm']]\n",
    "bikelane_radar_df = df_bikelane[['time', 'battery', 'temperature', 'radar_0', 'radar_1',\n",
    "       'radar_2', 'radar_3', 'radar_4', 'radar_5', 'radar_6', 'radar_7', 'package_type', 'f_cnt', 'dr', 'snr', 'rssi', 'hw_fw_version',\n",
    "       'time_hour', 'temperature_2m', 'relative_humidity_2m',\n",
    "       'precipitation', 'rain', 'snowfall', 'snow_depth',\n",
    "       'soil_temperature_0_to_7cm', 'soil_temperature_7_to_28cm',\n",
    "       'soil_temperature_28_to_100cm', 'soil_temperature_100_to_255cm',\n",
    "       'soil_moisture_0_to_7cm', 'soil_moisture_7_to_28cm',\n",
    "       'soil_moisture_28_to_100cm', 'soil_moisture_100_to_255cm']]"
   ]
  },
  {
   "cell_type": "code",
   "execution_count": 36,
   "metadata": {},
   "outputs": [],
   "source": [
    "building_radar_df = building_radar_df.dropna(subset=['battery'])\n",
    "bikelane_radar_df = bikelane_radar_df.dropna(subset=['battery'])"
   ]
  },
  {
   "cell_type": "code",
   "execution_count": 38,
   "metadata": {},
   "outputs": [
    {
     "name": "stdout",
     "output_type": "stream",
     "text": [
      "(2685, 32)\n",
      "(2628, 32)\n"
     ]
    }
   ],
   "source": [
    "print(building_radar_df.shape)\n",
    "print(bikelane_radar_df.shape)"
   ]
  },
  {
   "cell_type": "markdown",
   "metadata": {},
   "source": [
    "## Clustering MAG data"
   ]
  },
  {
   "cell_type": "code",
   "execution_count": 40,
   "metadata": {},
   "outputs": [],
   "source": [
    "building_mag = building_full_df[[\"x\",\"y\",\"z\"]]\n",
    "bikelane_mag = bikelane_full_df[[\"x\",\"y\",\"z\"]]"
   ]
  },
  {
   "cell_type": "code",
   "execution_count": 41,
   "metadata": {},
   "outputs": [],
   "source": [
    "# Normalizing the data\n",
    "scaler = StandardScaler()\n",
    "building_mag_norm = scaler.fit_transform(building_mag)\n",
    "bikelane_mag_norm = scaler.fit_transform(bikelane_mag)\n",
    "# Clustering the magnetic field data with 2 clusters using kmeans\n",
    "building_kmeans = KMeans(n_clusters=2, random_state=0).fit(building_mag_norm)\n",
    "bikelane_kmeans = KMeans(n_clusters=2, random_state=0).fit(bikelane_mag_norm)"
   ]
  },
  {
   "cell_type": "code",
   "execution_count": 44,
   "metadata": {},
   "outputs": [
    {
     "data": {
      "image/png": "[encoded data removed]",
      "text/plain": [
       "<Figure size 800x400 with 1 Axes>"
      ]
     },
     "metadata": {},
     "output_type": "display_data"
    }
   ],
   "source": [
    "silhouette_avg = []\n",
    "for k in range(2, 10):  # Starts from 2 clusters \n",
    "    kmeans = KMeans(n_clusters=k, random_state=0).fit(bikelane_mag_norm)\n",
    "    cluster_labels = kmeans.labels_\n",
    "    silhouette_avg.append(silhouette_score(bikelane_mag_norm, cluster_labels))\n",
    "\n",
    "plt.figure(figsize=(8, 4))\n",
    "plt.plot(range(2, 10), silhouette_avg, 'bo-')  # Adjust the range as needed\n",
    "plt.xlabel('Number of Clusters')\n",
    "plt.ylabel('Silhouette Score')\n",
    "plt.title('Silhouette Score For Optimal k')\n",
    "plt.show()"
   ]
  },
  {
   "cell_type": "code",
   "execution_count": 45,
   "metadata": {},
   "outputs": [
    {
     "data": {
      "image/png": "[encoded data removed]",
      "text/plain": [
       "<Figure size 800x400 with 1 Axes>"
      ]
     },
     "metadata": {},
     "output_type": "display_data"
    }
   ],
   "source": [
    "inertia = []\n",
    "for k in range(1, 10):  \n",
    "    kmeans = KMeans(n_clusters=k, random_state=0).fit(bikelane_mag_norm)\n",
    "    inertia.append(kmeans.inertia_)\n",
    "\n",
    "plt.figure(figsize=(8, 4))\n",
    "plt.plot(range(1, 10), inertia, 'bo-') \n",
    "plt.xlabel('Number of Clusters')\n",
    "plt.ylabel('Inertia')\n",
    "plt.title('Elbow Method For Optimal k')\n",
    "plt.show()"
   ]
  },
  {
   "cell_type": "code",
   "execution_count": 47,
   "metadata": {},
   "outputs": [],
   "source": [
    "# Adding cluster labels to the mag dataframe\n",
    "building_mag = building_mag.copy() #dealing with an error\n",
    "bikelane_mag = bikelane_mag.copy() #dealing with an error\n",
    "building_mag['mag_cluster'] = building_kmeans.labels_\n",
    "bikelane_mag['mag_cluster'] = bikelane_kmeans.labels_\n",
    "building_full_df = building_full_df.copy() #dealing with an error\n",
    "bikelane_full_df = bikelane_full_df.copy() #dealing with an error\n",
    "building_full_df['mag_cluster'] = building_mag['mag_cluster']\n",
    "bikelane_full_df['mag_cluster'] = bikelane_mag['mag_cluster']"
   ]
  },
  {
   "cell_type": "code",
   "execution_count": 49,
   "metadata": {},
   "outputs": [],
   "source": [
    "# Renaming the cluster labels to 'detection' and 'no_detection'\n",
    "building_full_df['mag_cluster'].replace({0: 'no_detection', 1: 'detection'}, inplace=True)\n",
    "bikelane_full_df['mag_cluster'].replace({0: 'no_detection', 1: 'detection'}, inplace=True)"
   ]
  },
  {
   "cell_type": "code",
   "execution_count": 53,
   "metadata": {},
   "outputs": [],
   "source": [
    "# Fixing an error with the mag_cluster column type\n",
    "building_full_df['mag_cluster'] = building_full_df['mag_cluster'].astype(str)\n",
    "building_full_df['mag_cluster'].replace('nan', None, inplace=True)  # Replace 'nan' string with actual None\n",
    "bikelane_full_df['mag_cluster'] = bikelane_full_df['mag_cluster'].astype(str)\n",
    "bikelane_full_df['mag_cluster'].replace('nan', None, inplace=True)  # Replace 'nan' string with actual None"
   ]
  },
  {
   "cell_type": "code",
   "execution_count": 54,
   "metadata": {},
   "outputs": [
    {
     "data": {
      "text/plain": [
       "mag_cluster\n",
       "no_detection    5006\n",
       "detection       2589\n",
       "Name: count, dtype: int64"
      ]
     },
     "execution_count": 54,
     "metadata": {},
     "output_type": "execute_result"
    }
   ],
   "source": [
    "bikelane_full_df['mag_cluster'].value_counts()"
   ]
  },
  {
   "cell_type": "markdown",
   "metadata": {},
   "source": [
    "## EDA on mag"
   ]
  },
  {
   "cell_type": "code",
   "execution_count": 56,
   "metadata": {},
   "outputs": [
    {
     "name": "stdout",
     "output_type": "stream",
     "text": [
      "<class 'pandas.core.frame.DataFrame'>\n",
      "RangeIndex: 7595 entries, 0 to 7594\n",
      "Data columns (total 27 columns):\n",
      " #   Column                         Non-Null Count  Dtype         \n",
      "---  ------                         --------------  -----         \n",
      " 0   time                           7595 non-null   datetime64[ns]\n",
      " 1   battery                        7595 non-null   float64       \n",
      " 2   temperature                    7595 non-null   float64       \n",
      " 3   x                              7595 non-null   float64       \n",
      " 4   y                              7595 non-null   float64       \n",
      " 5   z                              7595 non-null   float64       \n",
      " 6   package_type                   7595 non-null   object        \n",
      " 7   f_cnt                          7595 non-null   float64       \n",
      " 8   dr                             7595 non-null   float64       \n",
      " 9   snr                            7489 non-null   float64       \n",
      " 10  rssi                           7595 non-null   float64       \n",
      " 11  hw_fw_version                  7595 non-null   object        \n",
      " 12  time_hour                      7595 non-null   datetime64[ns]\n",
      " 13  temperature_2m                 7595 non-null   float32       \n",
      " 14  relative_humidity_2m           7595 non-null   float32       \n",
      " 15  precipitation                  7595 non-null   float32       \n",
      " 16  rain                           7595 non-null   float32       \n",
      " 17  snowfall                       7595 non-null   float32       \n",
      " 18  snow_depth                     7595 non-null   float32       \n",
      " 19  soil_temperature_0_to_7cm      7595 non-null   float32       \n",
      " 20  soil_temperature_7_to_28cm     7595 non-null   float32       \n",
      " 21  soil_temperature_28_to_100cm   7595 non-null   float32       \n",
      " 22  soil_temperature_100_to_255cm  7595 non-null   float32       \n",
      " 23  soil_moisture_0_to_7cm         7595 non-null   float32       \n",
      " 24  soil_moisture_7_to_28cm        7595 non-null   float32       \n",
      " 25  soil_moisture_28_to_100cm      7595 non-null   float32       \n",
      " 26  soil_moisture_100_to_255cm     7595 non-null   float32       \n",
      "dtypes: datetime64[ns](2), float32(14), float64(9), object(2)\n",
      "memory usage: 1.2+ MB\n"
     ]
    }
   ],
   "source": [
    "bikelane_mag_df.info()"
   ]
  },
  {
   "cell_type": "code",
   "execution_count": null,
   "metadata": {},
   "outputs": [],
   "source": [
    "cm_mag_bikelane = bikelane_mag_df[['battery', 'temperature', 'x', 'y', 'z', 'f_cnt', 'snr', 'rssi', \"temperature_2m\", \"relative_humidity_2m\", \"precipitation\", \"surface_pressure\", \"cloud_cover\", \"wind_speed_10m\", \"wind_direction_10m\", \"wind_gusts_10m\", \"soil_temperature_0_to_7cm\", \"soil_temperature_7_to_28cm\", \"soil_moisture_0_to_7cm\", \"soil_moisture_7_to_28cm\", 'hour', 'day_of_week', 'package_type_encoded']].corr()\n",
    "\n",
    "# Plotting heatmap\n",
    "plt.figure(figsize=(16, 6))\n",
    "sns.heatmap(cm_mag_bikelane, annot=True, cmap='coolwarm', fmt=\".2f\")\n",
    "plt.title('Correlation Heatmap for Magnetic Field data on Bikelane')\n",
    "plt.show()"
   ]
  }
 ],
 "metadata": {
  "kernelspec": {
   "display_name": "ucloud-sml",
   "language": "python",
   "name": "python3"
  },
  "language_info": {
   "codemirror_mode": {
    "name": "ipython",
    "version": 3
   },
   "file_extension": ".py",
   "mimetype": "text/x-python",
   "name": "python",
   "nbconvert_exporter": "python",
   "pygments_lexer": "ipython3",
   "version": "3.11.9"
  }
 },
 "nbformat": 4,
 "nbformat_minor": 2
}
