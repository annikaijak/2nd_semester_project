{
 "cells": [
  {
   "cell_type": "markdown",
   "metadata": {},
   "source": [
    "\n",
    "# Latest API data\n",
    "This notebook consists of 3 parts:\n",
    "1. Get new data from the API\n",
    "2. Data preprocessing and feature engineering\n",
    "3. Creating or backfilling the feature group"
   ]
  },
  {
   "cell_type": "code",
   "execution_count": 1,
   "metadata": {
    "metadata": {}
   },
   "outputs": [],
   "source": [
    "# Standard library imports for utilities and data manipulation\n",
    "import uuid\n",
    "import os\n",
    "from datetime import datetime, timedelta\n",
    "import io\n",
    "import base64\n",
    "\n",
    "# External libraries for data handling, networking, and time zones\n",
    "import pandas as pd\n",
    "import requests\n",
    "import json\n",
    "import pytz\n",
    "\n",
    "import openmeteo_requests\n",
    "import requests_cache\n",
    "from retry_requests import retry\n",
    "\n",
    "# Environment variable management\n",
    "from dotenv import load_dotenv\n",
    "load_dotenv()\n",
    "\n",
    "# Hopsworks\n",
    "import hopsworks                "
   ]
  },
  {
   "cell_type": "markdown",
   "metadata": {},
   "source": [
    "## 1. Get new data from the API\n",
    "\n",
    "### Sensor Data Access\n",
    "\n",
    "Here is the information given by the company so we can acces thir data.\n",
    "\n",
    "- GET request to `data.sensade.com` \n",
    "- Authentication: `Basic Auth` (user: miknie20@student.aau.dk, password: GitHub Secret)\n",
    "\n",
    "### Sensors\n",
    "\n",
    "Two sensors installed:\n",
    "\n",
    "- `0080E115003BEA91` (Hw2.0 Fw2.0) Installed towards building\n",
    "\n",
    "- `0080E115003E3597` (Hw2.0 Fw2.0) Installed towards bike lane"
   ]
  },
  {
   "cell_type": "code",
   "execution_count": 2,
   "metadata": {
    "metadata": {}
   },
   "outputs": [],
   "source": [
    "# Create a timezone object for GMT+2\n",
    "timezone = pytz.timezone('Europe/Copenhagen')\n",
    "now = datetime.now(timezone)  # Get current time \n",
    "today = now \n",
    "yesterday = today - timedelta(days=1)\n",
    "tomorrow = today + timedelta(days=1)\n",
    "#Defining two hours ago\n",
    "two_hours_ago = now - timedelta(hours=2)"
   ]
  },
  {
   "cell_type": "code",
   "execution_count": 3,
   "metadata": {
    "metadata": {}
   },
   "outputs": [],
   "source": [
    "# Format 'today', 'tomorrow', and 'yesterday' as \"YYYY-MM-DD\"\n",
    "formatted_today = today.strftime('%Y-%m-%d %H:%M:%S')\n",
    "formatted_tomorrow = tomorrow.strftime('%Y-%m-%d %H:%M:%S')\n",
    "formatted_yesterday = yesterday.strftime('%Y-%m-%d %H:%M:%S')\n",
    "formatted_two_hours_ago = two_hours_ago.strftime('%Y-%m-%d %H:%M:%S')\n",
    "dev_eui_building = \"0080E115003BEA91\"\n",
    "dev_eui_bikelane = \"0080E115003E3597\"\n",
    "url = \"https://data.sensade.com\"\n",
    "username = \"ajakup20@student.aau.dk\"\n",
    "\n",
    "\n",
    "basic_auth = base64.b64encode(f\"{username}:{os.getenv('API_PASSWORD')}\".encode())\n",
    "headers = {\n",
    "    'Content-Type': 'application/json',\n",
    "    'Authorization': f'Basic {basic_auth.decode(\"utf-8\")}'\n",
    "}"
   ]
  },
  {
   "cell_type": "code",
   "execution_count": 4,
   "metadata": {
    "metadata": {}
   },
   "outputs": [],
   "source": [
    "# API call that takes the data from given sensor from yesterday until tomorrow\n",
    "def API_call(dev_eui, from_date, to_date):\n",
    "    payload = json.dumps({\n",
    "    \"dev_eui\": dev_eui,\n",
    "    \"from\": from_date,\n",
    "    \"to\": to_date\n",
    "})\n",
    "\n",
    "    response = requests.request(\"GET\", url, headers=headers, data=payload)\n",
    "\n",
    "    if response.status_code != 200:\n",
    "     print(\"Failed to fetch data: Status code\", response.status_code)     \n",
    "     print(\"Response:\", response.text)     \n",
    "     exit(13)\n",
    "\n",
    "    csv_data = response.text\n",
    "    df = pd.read_csv(io.StringIO(csv_data))\n",
    "    return df"
   ]
  },
  {
   "cell_type": "code",
   "execution_count": 5,
   "metadata": {
    "metadata": {}
   },
   "outputs": [],
   "source": [
    "# Running the API call function with the given parameters on the building sensor\n",
    "df_building_from_api = API_call(dev_eui_building, formatted_yesterday, formatted_tomorrow)"
   ]
  },
  {
   "cell_type": "code",
   "execution_count": 6,
   "metadata": {
    "metadata": {}
   },
   "outputs": [],
   "source": [
    "# Running the API call function with the given parameters on the bikelane sensor\n",
    "df_bikelane_from_api = API_call(dev_eui_bikelane, formatted_yesterday, formatted_tomorrow)"
   ]
  },
  {
   "cell_type": "code",
   "execution_count": 7,
   "metadata": {
    "metadata": {}
   },
   "outputs": [],
   "source": [
    "# Defning the newest data from the API calls\n",
    "df_building_newest = df_building_from_api.tail(1)\n",
    "df_bikelane_newest = df_bikelane_from_api.tail(1)"
   ]
  },
  {
   "cell_type": "code",
   "execution_count": 8,
   "metadata": {},
   "outputs": [
    {
     "data": {
      "text/html": [
       "<div>\n",
       "<style scoped>\n",
       "    .dataframe tbody tr th:only-of-type {\n",
       "        vertical-align: middle;\n",
       "    }\n",
       "\n",
       "    .dataframe tbody tr th {\n",
       "        vertical-align: top;\n",
       "    }\n",
       "\n",
       "    .dataframe thead th {\n",
       "        text-align: right;\n",
       "    }\n",
       "</style>\n",
       "<table border=\"1\" class=\"dataframe\">\n",
       "  <thead>\n",
       "    <tr style=\"text-align: right;\">\n",
       "      <th></th>\n",
       "      <th>time</th>\n",
       "      <th>battery</th>\n",
       "      <th>temperature</th>\n",
       "      <th>x</th>\n",
       "      <th>y</th>\n",
       "      <th>z</th>\n",
       "      <th>0_radar</th>\n",
       "      <th>1_radar</th>\n",
       "      <th>2_radar</th>\n",
       "      <th>3_radar</th>\n",
       "      <th>4_radar</th>\n",
       "      <th>5_radar</th>\n",
       "      <th>6_radar</th>\n",
       "      <th>7_radar</th>\n",
       "      <th>package_type</th>\n",
       "      <th>f_cnt</th>\n",
       "      <th>dr</th>\n",
       "      <th>snr</th>\n",
       "      <th>rssi</th>\n",
       "      <th>hw_fw_version</th>\n",
       "    </tr>\n",
       "  </thead>\n",
       "  <tbody>\n",
       "    <tr>\n",
       "      <th>125</th>\n",
       "      <td>2024-05-21 07:36:33.696000</td>\n",
       "      <td>3.24</td>\n",
       "      <td>20.375</td>\n",
       "      <td>318</td>\n",
       "      <td>-737</td>\n",
       "      <td>-604</td>\n",
       "      <td>72.0</td>\n",
       "      <td>13.0</td>\n",
       "      <td>25.0</td>\n",
       "      <td>20.0</td>\n",
       "      <td>7.0</td>\n",
       "      <td>6.0</td>\n",
       "      <td>6.0</td>\n",
       "      <td>6.0</td>\n",
       "      <td>PackageType.HEART_BEAT</td>\n",
       "      <td>5711</td>\n",
       "      <td>5</td>\n",
       "      <td>0.2</td>\n",
       "      <td>-86</td>\n",
       "      <td>DataVersion.HW_2FW2_X_X</td>\n",
       "    </tr>\n",
       "  </tbody>\n",
       "</table>\n",
       "</div>"
      ],
      "text/plain": [
       "                           time  battery  temperature    x    y    z  0_radar  \\\n",
       "125  2024-05-21 07:36:33.696000     3.24       20.375  318 -737 -604     72.0   \n",
       "\n",
       "     1_radar  2_radar  3_radar  4_radar  5_radar  6_radar  7_radar  \\\n",
       "125     13.0     25.0     20.0      7.0      6.0      6.0      6.0   \n",
       "\n",
       "               package_type  f_cnt  dr  snr  rssi            hw_fw_version  \n",
       "125  PackageType.HEART_BEAT   5711   5  0.2   -86  DataVersion.HW_2FW2_X_X  "
      ]
     },
     "execution_count": 8,
     "metadata": {},
     "output_type": "execute_result"
    }
   ],
   "source": [
    "df_building_newest"
   ]
  },
  {
   "cell_type": "code",
   "execution_count": 9,
   "metadata": {},
   "outputs": [
    {
     "data": {
      "text/html": [
       "<div>\n",
       "<style scoped>\n",
       "    .dataframe tbody tr th:only-of-type {\n",
       "        vertical-align: middle;\n",
       "    }\n",
       "\n",
       "    .dataframe tbody tr th {\n",
       "        vertical-align: top;\n",
       "    }\n",
       "\n",
       "    .dataframe thead th {\n",
       "        text-align: right;\n",
       "    }\n",
       "</style>\n",
       "<table border=\"1\" class=\"dataframe\">\n",
       "  <thead>\n",
       "    <tr style=\"text-align: right;\">\n",
       "      <th></th>\n",
       "      <th>time</th>\n",
       "      <th>battery</th>\n",
       "      <th>temperature</th>\n",
       "      <th>x</th>\n",
       "      <th>y</th>\n",
       "      <th>z</th>\n",
       "      <th>0_radar</th>\n",
       "      <th>1_radar</th>\n",
       "      <th>2_radar</th>\n",
       "      <th>3_radar</th>\n",
       "      <th>4_radar</th>\n",
       "      <th>5_radar</th>\n",
       "      <th>6_radar</th>\n",
       "      <th>7_radar</th>\n",
       "      <th>package_type</th>\n",
       "      <th>f_cnt</th>\n",
       "      <th>dr</th>\n",
       "      <th>snr</th>\n",
       "      <th>rssi</th>\n",
       "      <th>hw_fw_version</th>\n",
       "    </tr>\n",
       "  </thead>\n",
       "  <tbody>\n",
       "    <tr>\n",
       "      <th>105</th>\n",
       "      <td>2024-05-21 07:44:29.077000</td>\n",
       "      <td>3.08</td>\n",
       "      <td>18.0</td>\n",
       "      <td>-233</td>\n",
       "      <td>-249</td>\n",
       "      <td>-371</td>\n",
       "      <td>93.0</td>\n",
       "      <td>59.0</td>\n",
       "      <td>85.0</td>\n",
       "      <td>56.0</td>\n",
       "      <td>23.0</td>\n",
       "      <td>29.0</td>\n",
       "      <td>22.0</td>\n",
       "      <td>17.0</td>\n",
       "      <td>PackageType.HEART_BEAT</td>\n",
       "      <td>5580</td>\n",
       "      <td>5</td>\n",
       "      <td>-5.0</td>\n",
       "      <td>-88</td>\n",
       "      <td>DataVersion.HW_2FW2_X_X</td>\n",
       "    </tr>\n",
       "  </tbody>\n",
       "</table>\n",
       "</div>"
      ],
      "text/plain": [
       "                           time  battery  temperature    x    y    z  0_radar  \\\n",
       "105  2024-05-21 07:44:29.077000     3.08         18.0 -233 -249 -371     93.0   \n",
       "\n",
       "     1_radar  2_radar  3_radar  4_radar  5_radar  6_radar  7_radar  \\\n",
       "105     59.0     85.0     56.0     23.0     29.0     22.0     17.0   \n",
       "\n",
       "               package_type  f_cnt  dr  snr  rssi            hw_fw_version  \n",
       "105  PackageType.HEART_BEAT   5580   5 -5.0   -88  DataVersion.HW_2FW2_X_X  "
      ]
     },
     "execution_count": 9,
     "metadata": {},
     "output_type": "execute_result"
    }
   ],
   "source": [
    "df_bikelane_newest"
   ]
  },
  {
   "cell_type": "markdown",
   "metadata": {},
   "source": [
    "## 2. Preprocessing and feature engineering\n",
    "\n",
    "We apply the same methods as in notebook 1: creating unique IDs, converting the time column, converting radar names, changing data types to floats, and finally creating an empty column for the mag_cluster, as we haven't applied our models yet."
   ]
  },
  {
   "cell_type": "code",
   "execution_count": 10,
   "metadata": {},
   "outputs": [],
   "source": [
    "df_building = df_building_newest.copy()\n",
    "df_bikelane = df_bikelane_newest.copy()"
   ]
  },
  {
   "cell_type": "code",
   "execution_count": 11,
   "metadata": {},
   "outputs": [],
   "source": [
    "#converting the time column to datetime\n",
    "df_bikelane['time'] = pd.to_datetime(df_bikelane['time'])\n",
    "df_building['time'] = pd.to_datetime(df_building['time'])"
   ]
  },
  {
   "cell_type": "code",
   "execution_count": 12,
   "metadata": {},
   "outputs": [],
   "source": [
    "#create a column for the time in the format of \"YYYY-MM-DD HH\" to merge with weather data\n",
    "df_bikelane['time_hour'] = df_bikelane['time'].dt.strftime('%Y-%m-%d %H')\n",
    "df_building['time_hour'] = df_building['time'].dt.strftime('%Y-%m-%d %H')\n",
    "# Converting the time_hour column to datetime\n",
    "df_bikelane['time_hour'] = pd.to_datetime(df_bikelane['time_hour'])\n",
    "df_building['time_hour'] = pd.to_datetime(df_building['time_hour'])"
   ]
  },
  {
   "cell_type": "markdown",
   "metadata": {},
   "source": [
    "### Weather data column"
   ]
  },
  {
   "cell_type": "code",
   "execution_count": 14,
   "metadata": {},
   "outputs": [],
   "source": [
    "# Setup the Open-Meteo API client with cache and retry on error\n",
    "cache_session = requests_cache.CachedSession('.cache', expire_after = 3600)\n",
    "retry_session = retry(cache_session, retries = 5, backoff_factor = 0.2)\n",
    "openmeteo = openmeteo_requests.Client(session = retry_session)"
   ]
  },
  {
   "cell_type": "code",
   "execution_count": 15,
   "metadata": {},
   "outputs": [],
   "source": [
    "\n",
    "weather_url = \"https://api.open-meteo.com/v1/forecast\"\n",
    "weather_params = {\n",
    "\t\"latitude\": 57.01,\n",
    "\t\"longitude\": 9.99,\n",
    "\t\"hourly\": [\"temperature_2m\", \"precipitation\"],\n",
    "\t\"timezone\": \"Europe/Berlin\",\n",
    "\t\"forecast_days\": 1\n",
    "}\n",
    "responses = openmeteo.weather_api(weather_url, params=weather_params)"
   ]
  },
  {
   "cell_type": "code",
   "execution_count": 16,
   "metadata": {},
   "outputs": [
    {
     "name": "stdout",
     "output_type": "stream",
     "text": [
      "Coordinates 57.01040267944336°N 9.992218017578125°E\n",
      "Elevation 23.0 m asl\n",
      "Timezone b'Europe/Berlin' b'CEST'\n",
      "Timezone difference to GMT+0 7200 s\n",
      "                        date  temperature_2m  precipitation\n",
      "0  2024-05-20 22:00:00+00:00       17.804501            0.0\n",
      "1  2024-05-20 23:00:00+00:00       16.304501            0.0\n",
      "2  2024-05-21 00:00:00+00:00       16.054501            0.0\n",
      "3  2024-05-21 01:00:00+00:00       15.504500            0.0\n",
      "4  2024-05-21 02:00:00+00:00       14.354500            0.0\n",
      "5  2024-05-21 03:00:00+00:00       13.804501            0.0\n",
      "6  2024-05-21 04:00:00+00:00       14.354500            0.0\n",
      "7  2024-05-21 05:00:00+00:00       15.704500            0.0\n",
      "8  2024-05-21 06:00:00+00:00       16.604500            0.0\n",
      "9  2024-05-21 07:00:00+00:00       17.704500            0.0\n",
      "10 2024-05-21 08:00:00+00:00       18.304501            0.0\n",
      "11 2024-05-21 09:00:00+00:00       19.204500            0.0\n",
      "12 2024-05-21 10:00:00+00:00       19.954500            0.0\n",
      "13 2024-05-21 11:00:00+00:00       20.604500            0.0\n",
      "14 2024-05-21 12:00:00+00:00       21.504499            0.0\n",
      "15 2024-05-21 13:00:00+00:00       22.304501            0.0\n",
      "16 2024-05-21 14:00:00+00:00       23.004499            0.0\n",
      "17 2024-05-21 15:00:00+00:00       23.354500            0.0\n",
      "18 2024-05-21 16:00:00+00:00       23.404501            0.0\n",
      "19 2024-05-21 17:00:00+00:00       23.154501            0.0\n",
      "20 2024-05-21 18:00:00+00:00       22.354500            0.0\n",
      "21 2024-05-21 19:00:00+00:00       21.054501            0.0\n",
      "22 2024-05-21 20:00:00+00:00       19.604500            0.0\n",
      "23 2024-05-21 21:00:00+00:00       18.704500            0.0\n"
     ]
    }
   ],
   "source": [
    "# Process first location. Add a for-loop for multiple locations or weather models\n",
    "response = responses[0]\n",
    "print(f\"Coordinates {response.Latitude()}°N {response.Longitude()}°E\")\n",
    "print(f\"Elevation {response.Elevation()} m asl\")\n",
    "print(f\"Timezone {response.Timezone()} {response.TimezoneAbbreviation()}\")\n",
    "print(f\"Timezone difference to GMT+0 {response.UtcOffsetSeconds()} s\")\n",
    "\n",
    "# Process hourly data. The order of variables needs to be the same as requested.\n",
    "hourly = response.Hourly()\n",
    "hourly_temperature_2m = hourly.Variables(0).ValuesAsNumpy()\n",
    "hourly_precipitation = hourly.Variables(1).ValuesAsNumpy()\n",
    "\n",
    "hourly_data = {\"date\": pd.date_range(\n",
    "\tstart = pd.to_datetime(hourly.Time(), unit = \"s\", utc = True),\n",
    "\tend = pd.to_datetime(hourly.TimeEnd(), unit = \"s\", utc = True),\n",
    "\tfreq = pd.Timedelta(seconds = hourly.Interval()),\n",
    "\tinclusive = \"left\"\n",
    ")}\n",
    "hourly_data[\"temperature_2m\"] = hourly_temperature_2m\n",
    "hourly_data[\"precipitation\"] = hourly_precipitation\n",
    "\n",
    "hourly_dataframe = pd.DataFrame(data = hourly_data)\n",
    "print(hourly_dataframe)"
   ]
  },
  {
   "cell_type": "code",
   "execution_count": 17,
   "metadata": {},
   "outputs": [],
   "source": [
    "#remove the timezone from the date column\n",
    "hourly_dataframe['date'] = hourly_dataframe['date'].dt.tz_localize(None)\n",
    "#Convert to datetime object\n",
    "hourly_dataframe['date'] = pd.to_datetime(hourly_dataframe['date'])"
   ]
  },
  {
   "cell_type": "code",
   "execution_count": 18,
   "metadata": {},
   "outputs": [],
   "source": [
    "# Merging the weather data with the building sensor data\n",
    "df_building = pd.merge(df_building, hourly_dataframe, left_on='time_hour', right_on='date', how='left')\n",
    "# Merging the weather data with the bikelane sensor data\n",
    "df_bikelane = pd.merge(df_bikelane, hourly_dataframe, left_on='time_hour', right_on='date', how='left')"
   ]
  },
  {
   "cell_type": "code",
   "execution_count": 19,
   "metadata": {},
   "outputs": [],
   "source": [
    "df_building = df_building.drop(columns=['date'])\n",
    "df_bikelane = df_bikelane.drop(columns=['date'])"
   ]
  },
  {
   "cell_type": "code",
   "execution_count": 20,
   "metadata": {},
   "outputs": [],
   "source": [
    "#adding two hours to the time  and time_hour column\n",
    "df_bikelane['time'] = df_bikelane['time'] + timedelta(hours=2)\n",
    "df_bikelane['time_hour'] = df_bikelane['time_hour'] + timedelta(hours=2)\n",
    "df_building['time'] = df_building['time'] + timedelta(hours=2)\n",
    "df_building['time_hour'] = df_building['time_hour'] + timedelta(hours=2)"
   ]
  },
  {
   "cell_type": "code",
   "execution_count": 21,
   "metadata": {},
   "outputs": [],
   "source": [
    "# Create a unique identifier for each row in the datasets\n",
    "def create_id(df, dataset_name):\n",
    "    # Assign the sensor prefix based on the dataset name\n",
    "    if dataset_name == 'df_building':\n",
    "        df['psensor'] = \"BUILDING\"\n",
    "    elif dataset_name == 'df_bikelane':\n",
    "        df['psensor'] = \"BIKELANE\"\n",
    "    else:\n",
    "        raise ValueError(\"Unknown dataset name provided\")\n",
    "\n",
    "    # Create a new column 'id' with a unique identifier for each row\n",
    "    df['id'] = df['time'].astype(str) + '_' + df['psensor']\n",
    "\n",
    "    return df"
   ]
  },
  {
   "cell_type": "code",
   "execution_count": 22,
   "metadata": {},
   "outputs": [],
   "source": [
    "# Applying the function to the datasets\n",
    "df_bikelane = create_id(df_bikelane, 'df_bikelane')\n",
    "df_building = create_id(df_building, 'df_building')"
   ]
  },
  {
   "cell_type": "code",
   "execution_count": 23,
   "metadata": {},
   "outputs": [],
   "source": [
    "#Renaming the radar columns to start with radar\n",
    "df_bikelane = df_bikelane.rename(columns={'0_radar': 'radar_0', '1_radar': 'radar_1', '2_radar': 'radar_2', '3_radar': 'radar_3', '4_radar': 'radar_4', '5_radar': 'radar_5', '6_radar': 'radar_6', '7_radar': 'radar_7'})\n",
    "df_building = df_building.rename(columns={'0_radar': 'radar_0', '1_radar': 'radar_1', '2_radar': 'radar_2', '3_radar': 'radar_3', '4_radar': 'radar_4', '5_radar': 'radar_5', '6_radar': 'radar_6', '7_radar': 'radar_7'})"
   ]
  },
  {
   "cell_type": "code",
   "execution_count": 24,
   "metadata": {},
   "outputs": [],
   "source": [
    "# Converting the columns to float\n",
    "df_bikelane[['x','y','z', 'radar_0', 'radar_1', 'radar_2', 'radar_3', 'radar_4', 'radar_5', 'radar_6', 'radar_7', 'f_cnt', 'dr', 'rssi']] = df_bikelane[['x','y','z', 'radar_0', 'radar_1', 'radar_2', 'radar_3', 'radar_4', 'radar_5', 'radar_6', 'radar_7', 'f_cnt', 'dr', 'rssi']].astype(float)\n",
    "df_building[['x','y','z', 'radar_0', 'radar_1', 'radar_2', 'radar_3', 'radar_4', 'radar_5', 'radar_6', 'radar_7', 'f_cnt', 'dr', 'rssi']] = df_building[['x','y','z', 'radar_0', 'radar_1', 'radar_2', 'radar_3', 'radar_4', 'radar_5', 'radar_6', 'radar_7', 'f_cnt', 'dr', 'rssi']].astype(float)\n"
   ]
  },
  {
   "cell_type": "code",
   "execution_count": 25,
   "metadata": {},
   "outputs": [],
   "source": [
    "#making an empty label column\n",
    "df_bikelane['mag_cluster'] = \"null\"\n",
    "df_building['mag_cluster'] = \"null\""
   ]
  },
  {
   "cell_type": "markdown",
   "metadata": {},
   "source": [
    "## Backfill or create feature group"
   ]
  },
  {
   "cell_type": "code",
   "execution_count": 27,
   "metadata": {
    "metadata": {}
   },
   "outputs": [
    {
     "name": "stdout",
     "output_type": "stream",
     "text": [
      "Connected. Call `.close()` to terminate connection gracefully.\n",
      "\n",
      "Logged in to project, explore it here https://c.app.hopsworks.ai:443/p/549019\n",
      "Connected. Call `.close()` to terminate connection gracefully.\n"
     ]
    }
   ],
   "source": [
    "# Connceting to the Hopsworks project\n",
    "\n",
    "project = hopsworks.login(project=\"annikaij\")\n",
    "\n",
    "fs = project.get_feature_store()"
   ]
  },
  {
   "cell_type": "code",
   "execution_count": 28,
   "metadata": {
    "metadata": {}
   },
   "outputs": [
    {
     "name": "stdout",
     "output_type": "stream",
     "text": [
      "Feature Group created successfully, explore it at \n",
      "https://c.app.hopsworks.ai:443/p/549019/fs/544841/fg/834920\n"
     ]
    },
    {
     "data": {
      "application/vnd.jupyter.widget-view+json": {
       "model_id": "d56290687cb14da29540ca6be87e68b5",
       "version_major": 2,
       "version_minor": 0
      },
      "text/plain": [
       "Uploading Dataframe: 0.00% |          | Rows 0/1 | Elapsed Time: 00:00 | Remaining Time: ?"
      ]
     },
     "metadata": {},
     "output_type": "display_data"
    },
    {
     "name": "stdout",
     "output_type": "stream",
     "text": [
      "Launching job: api_bikelane_newest_1_offline_fg_materialization\n",
      "Job started successfully, you can follow the progress at \n",
      "https://c.app.hopsworks.ai/p/549019/jobs/named/api_bikelane_newest_1_offline_fg_materialization/executions\n"
     ]
    },
    {
     "data": {
      "text/plain": [
       "(<hsfs.core.job.Job at 0x7b76d8377400>, None)"
      ]
     },
     "execution_count": 28,
     "metadata": {},
     "output_type": "execute_result"
    }
   ],
   "source": [
    "bikelane_fg = fs.get_or_create_feature_group(name=\"api_bikelane_newest\",\n",
    "                                  version=1,\n",
    "                                  primary_key=[\"id\"],\n",
    "                                  event_time='time',\n",
    "                                  description=\"New bike lane data\",\n",
    "                                  online_enabled=True,\n",
    "                                 )\n",
    "bikelane_fg.insert(df_bikelane)"
   ]
  },
  {
   "cell_type": "code",
   "execution_count": 29,
   "metadata": {
    "metadata": {}
   },
   "outputs": [
    {
     "name": "stdout",
     "output_type": "stream",
     "text": [
      "Feature Group created successfully, explore it at \n",
      "https://c.app.hopsworks.ai:443/p/549019/fs/544841/fg/834921\n"
     ]
    },
    {
     "data": {
      "application/vnd.jupyter.widget-view+json": {
       "model_id": "5c3dff4fd15b48a0868b5a1d96371a05",
       "version_major": 2,
       "version_minor": 0
      },
      "text/plain": [
       "Uploading Dataframe: 0.00% |          | Rows 0/1 | Elapsed Time: 00:00 | Remaining Time: ?"
      ]
     },
     "metadata": {},
     "output_type": "display_data"
    },
    {
     "name": "stdout",
     "output_type": "stream",
     "text": [
      "Launching job: api_building_newest_1_offline_fg_materialization\n",
      "Job started successfully, you can follow the progress at \n",
      "https://c.app.hopsworks.ai/p/549019/jobs/named/api_building_newest_1_offline_fg_materialization/executions\n"
     ]
    },
    {
     "data": {
      "text/plain": [
       "(<hsfs.core.job.Job at 0x7b76940bd390>, None)"
      ]
     },
     "execution_count": 29,
     "metadata": {},
     "output_type": "execute_result"
    }
   ],
   "source": [
    "building_fg = fs.get_or_create_feature_group(name=\"api_building_newest\",\n",
    "                                    version=1,\n",
    "                                    primary_key=[\"id\"],\n",
    "                                    event_time='time',\n",
    "                                    description=\"New building data\",\n",
    "                                    online_enabled=True\n",
    "                                     )\n",
    "building_fg.insert(df_building)"
   ]
  },
  {
   "cell_type": "markdown",
   "metadata": {},
   "source": [
    "## **Next up:** 3: Feature view creation\n",
    "Go to the 3_featureview_creation.ipynb notebook"
   ]
  }
 ],
 "metadata": {
  "kernelspec": {
   "display_name": "Python 3",
   "language": "python",
   "name": "python3"
  },
  "language_info": {
   "codemirror_mode": {
    "name": "ipython",
    "version": 3
   },
   "file_extension": ".py",
   "mimetype": "text/x-python",
   "name": "python",
   "nbconvert_exporter": "python",
   "pygments_lexer": "ipython3",
   "version": "3.10.13"
  }
 },
 "nbformat": 4,
 "nbformat_minor": 2
}
