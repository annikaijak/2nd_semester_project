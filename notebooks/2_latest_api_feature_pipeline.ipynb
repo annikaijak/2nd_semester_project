{
 "cells": [
  {
   "cell_type": "markdown",
   "metadata": {},
   "source": [
    "\n",
    "# Latest API data\n",
    "This notebook consists of 3 parts:\n",
    "1. Get new data from the API\n",
    "2. Data preprocessing and feature engineering\n",
    "3. Creating or backfilling the feature group"
   ]
  },
  {
   "cell_type": "code",
   "execution_count": 1,
   "metadata": {
    "metadata": {}
   },
   "outputs": [
    {
     "data": {
      "text/plain": [
       "True"
      ]
     },
     "execution_count": 1,
     "metadata": {},
     "output_type": "execute_result"
    }
   ],
   "source": [
    "# Import standard Python libraries\n",
    "import pandas as pd \n",
    "import hopsworks \n",
    "import numpy as np \n",
    "import matplotlib.pyplot as plt\n",
    "import seaborn as sns\n",
    "\n",
    "# Import machine learning tools\n",
    "from sklearn.preprocessing import StandardScaler  \n",
    "from sklearn.cluster import KMeans  \n",
    "from sklearn.metrics import silhouette_score  \n",
    "\n",
    "# Import other useful libraries\n",
    "import uuid  # Unique identifier generation\n",
    "import requests  # For making API requests\n",
    "import json  \n",
    "import io \n",
    "import os\n",
    "import base64 \n",
    "from datetime import datetime, timedelta  # Date/time handling and manipulation\n",
    "import pytz  # Timezone conversions and support\n",
    "\n",
    "import openmeteo_requests\n",
    "import requests_cache\n",
    "from retry_requests import retry\n",
    "\n",
    "# Environment variable management\n",
    "from dotenv import load_dotenv\n",
    "load_dotenv()"
   ]
  },
  {
   "cell_type": "markdown",
   "metadata": {},
   "source": [
    "## 1. Get new data from the API\n",
    "\n",
    "### Sensor Data Access\n",
    "\n",
    "Here is the information given by the company so we can acces thir data.\n",
    "\n",
    "- GET request to `data.sensade.com` \n",
    "- Authentication: `Basic Auth` (user: miknie20@student.aau.dk, password: GitHub Secret)\n",
    "\n",
    "### Sensors\n",
    "\n",
    "Two sensors installed:\n",
    "\n",
    "- `0080E115003BEA91` (Hw2.0 Fw2.0) Installed towards building\n",
    "\n",
    "- `0080E115003E3597` (Hw2.0 Fw2.0) Installed towards bike lane"
   ]
  },
  {
   "cell_type": "code",
   "execution_count": 2,
   "metadata": {
    "metadata": {}
   },
   "outputs": [
    {
     "name": "stdout",
     "output_type": "stream",
     "text": [
      "2024-05-27 07:23:25.448569\n"
     ]
    }
   ],
   "source": [
    "# getting the time for now\n",
    "now = datetime.now()  # Get current time \n",
    "today = now \n",
    "yesterday = today - timedelta(days=1)\n",
    "tomorrow = today + timedelta(days=1)\n",
    "print(today)"
   ]
  },
  {
   "cell_type": "code",
   "execution_count": 3,
   "metadata": {},
   "outputs": [],
   "source": [
    "# Format 'today', 'tomorrow', and 'yesterday' as \"YYYY-MM-DD\"\n",
    "formatted_today = today.strftime('%Y-%m-%d %H:%M:%S')\n",
    "formatted_tomorrow = tomorrow.strftime('%Y-%m-%d %H:%M:%S')\n",
    "formatted_yesterday = yesterday.strftime('%Y-%m-%d %H:%M:%S')"
   ]
  },
  {
   "cell_type": "code",
   "execution_count": 4,
   "metadata": {
    "metadata": {}
   },
   "outputs": [],
   "source": [
    "# Defining API information\n",
    "dev_eui_building = \"0080E115003BEA91\"\n",
    "dev_eui_bikelane = \"0080E115003E3597\"\n",
    "url = \"https://data.sensade.com\"\n",
    "\n",
    "basic_auth = base64.b64encode(f\"{os.getenv('API_USERNAME')}:{os.getenv('API_PASSWORD')}\".encode())\n",
    "headers = {\n",
    "    'Content-Type': 'application/json',\n",
    "    'Authorization': f'Basic {basic_auth.decode(\"utf-8\")}'\n",
    "}"
   ]
  },
  {
   "cell_type": "code",
   "execution_count": 5,
   "metadata": {
    "metadata": {}
   },
   "outputs": [],
   "source": [
    "# Function to ping the API and get data in a given time interval\n",
    "def API_call(dev_eui, from_date, to_date):\n",
    "    payload = json.dumps({\n",
    "    \"dev_eui\": dev_eui,\n",
    "    \"from\": from_date,\n",
    "    \"to\": to_date\n",
    "})\n",
    "\n",
    "    API_response = requests.request(\"GET\", url, headers=headers, data=payload)\n",
    "\n",
    "    if API_response.status_code != 200:\n",
    "        exit(13)\n",
    "\n",
    "    csv_data = API_response.text\n",
    "    df = pd.read_csv(io.StringIO(csv_data))\n",
    "    return df"
   ]
  },
  {
   "cell_type": "code",
   "execution_count": 6,
   "metadata": {
    "metadata": {}
   },
   "outputs": [],
   "source": [
    "# Running the API call function with the given parameters on the building sensor\n",
    "df_building_from_api = API_call(dev_eui_building, formatted_yesterday, formatted_tomorrow)"
   ]
  },
  {
   "cell_type": "code",
   "execution_count": 7,
   "metadata": {
    "metadata": {}
   },
   "outputs": [],
   "source": [
    "# Running the API call function with the given parameters on the bikelane sensor\n",
    "df_bikelane_from_api = API_call(dev_eui_bikelane, formatted_yesterday, formatted_tomorrow)"
   ]
  },
  {
   "cell_type": "code",
   "execution_count": 8,
   "metadata": {
    "metadata": {}
   },
   "outputs": [],
   "source": [
    "# Defning the newest data from the API calls\n",
    "df_building_newest = df_building_from_api.tail(1)\n",
    "df_bikelane_newest = df_bikelane_from_api.tail(1)"
   ]
  },
  {
   "cell_type": "code",
   "execution_count": 9,
   "metadata": {},
   "outputs": [
    {
     "data": {
      "text/html": [
       "<div>\n",
       "<style scoped>\n",
       "    .dataframe tbody tr th:only-of-type {\n",
       "        vertical-align: middle;\n",
       "    }\n",
       "\n",
       "    .dataframe tbody tr th {\n",
       "        vertical-align: top;\n",
       "    }\n",
       "\n",
       "    .dataframe thead th {\n",
       "        text-align: right;\n",
       "    }\n",
       "</style>\n",
       "<table border=\"1\" class=\"dataframe\">\n",
       "  <thead>\n",
       "    <tr style=\"text-align: right;\">\n",
       "      <th></th>\n",
       "      <th>time</th>\n",
       "      <th>battery</th>\n",
       "      <th>temperature</th>\n",
       "      <th>x</th>\n",
       "      <th>y</th>\n",
       "      <th>z</th>\n",
       "      <th>0_radar</th>\n",
       "      <th>1_radar</th>\n",
       "      <th>2_radar</th>\n",
       "      <th>3_radar</th>\n",
       "      <th>4_radar</th>\n",
       "      <th>5_radar</th>\n",
       "      <th>6_radar</th>\n",
       "      <th>7_radar</th>\n",
       "      <th>package_type</th>\n",
       "      <th>f_cnt</th>\n",
       "      <th>dr</th>\n",
       "      <th>snr</th>\n",
       "      <th>rssi</th>\n",
       "      <th>hw_fw_version</th>\n",
       "    </tr>\n",
       "  </thead>\n",
       "  <tbody>\n",
       "    <tr>\n",
       "      <th>139</th>\n",
       "      <td>2024-05-27 07:10:51.256000</td>\n",
       "      <td>3.24</td>\n",
       "      <td>18.625</td>\n",
       "      <td>360</td>\n",
       "      <td>241</td>\n",
       "      <td>97</td>\n",
       "      <td>5.0</td>\n",
       "      <td>5.0</td>\n",
       "      <td>5.0</td>\n",
       "      <td>5.0</td>\n",
       "      <td>5.0</td>\n",
       "      <td>6.0</td>\n",
       "      <td>6.0</td>\n",
       "      <td>4.0</td>\n",
       "      <td>PackageType.HEART_BEAT</td>\n",
       "      <td>6023</td>\n",
       "      <td>5</td>\n",
       "      <td>-5.5</td>\n",
       "      <td>-89</td>\n",
       "      <td>DataVersion.HW_2FW2_X_X</td>\n",
       "    </tr>\n",
       "  </tbody>\n",
       "</table>\n",
       "</div>"
      ],
      "text/plain": [
       "                           time  battery  temperature    x    y   z  0_radar  \\\n",
       "139  2024-05-27 07:10:51.256000     3.24       18.625  360  241  97      5.0   \n",
       "\n",
       "     1_radar  2_radar  3_radar  4_radar  5_radar  6_radar  7_radar  \\\n",
       "139      5.0      5.0      5.0      5.0      6.0      6.0      4.0   \n",
       "\n",
       "               package_type  f_cnt  dr  snr  rssi            hw_fw_version  \n",
       "139  PackageType.HEART_BEAT   6023   5 -5.5   -89  DataVersion.HW_2FW2_X_X  "
      ]
     },
     "execution_count": 9,
     "metadata": {},
     "output_type": "execute_result"
    }
   ],
   "source": [
    "df_building_newest"
   ]
  },
  {
   "cell_type": "code",
   "execution_count": 10,
   "metadata": {},
   "outputs": [
    {
     "data": {
      "text/html": [
       "<div>\n",
       "<style scoped>\n",
       "    .dataframe tbody tr th:only-of-type {\n",
       "        vertical-align: middle;\n",
       "    }\n",
       "\n",
       "    .dataframe tbody tr th {\n",
       "        vertical-align: top;\n",
       "    }\n",
       "\n",
       "    .dataframe thead th {\n",
       "        text-align: right;\n",
       "    }\n",
       "</style>\n",
       "<table border=\"1\" class=\"dataframe\">\n",
       "  <thead>\n",
       "    <tr style=\"text-align: right;\">\n",
       "      <th></th>\n",
       "      <th>time</th>\n",
       "      <th>battery</th>\n",
       "      <th>temperature</th>\n",
       "      <th>x</th>\n",
       "      <th>y</th>\n",
       "      <th>z</th>\n",
       "      <th>0_radar</th>\n",
       "      <th>1_radar</th>\n",
       "      <th>2_radar</th>\n",
       "      <th>3_radar</th>\n",
       "      <th>4_radar</th>\n",
       "      <th>5_radar</th>\n",
       "      <th>6_radar</th>\n",
       "      <th>7_radar</th>\n",
       "      <th>package_type</th>\n",
       "      <th>f_cnt</th>\n",
       "      <th>dr</th>\n",
       "      <th>snr</th>\n",
       "      <th>rssi</th>\n",
       "      <th>hw_fw_version</th>\n",
       "    </tr>\n",
       "  </thead>\n",
       "  <tbody>\n",
       "    <tr>\n",
       "      <th>139</th>\n",
       "      <td>2024-05-27 07:05:55.362000</td>\n",
       "      <td>3.1</td>\n",
       "      <td>16.75</td>\n",
       "      <td>-239</td>\n",
       "      <td>126</td>\n",
       "      <td>-409</td>\n",
       "      <td>44.0</td>\n",
       "      <td>68.0</td>\n",
       "      <td>64.0</td>\n",
       "      <td>41.0</td>\n",
       "      <td>35.0</td>\n",
       "      <td>17.0</td>\n",
       "      <td>11.0</td>\n",
       "      <td>11.0</td>\n",
       "      <td>PackageType.HEART_BEAT</td>\n",
       "      <td>5886</td>\n",
       "      <td>5</td>\n",
       "      <td>-5.0</td>\n",
       "      <td>-89</td>\n",
       "      <td>DataVersion.HW_2FW2_X_X</td>\n",
       "    </tr>\n",
       "  </tbody>\n",
       "</table>\n",
       "</div>"
      ],
      "text/plain": [
       "                           time  battery  temperature    x    y    z  0_radar  \\\n",
       "139  2024-05-27 07:05:55.362000      3.1        16.75 -239  126 -409     44.0   \n",
       "\n",
       "     1_radar  2_radar  3_radar  4_radar  5_radar  6_radar  7_radar  \\\n",
       "139     68.0     64.0     41.0     35.0     17.0     11.0     11.0   \n",
       "\n",
       "               package_type  f_cnt  dr  snr  rssi            hw_fw_version  \n",
       "139  PackageType.HEART_BEAT   5886   5 -5.0   -89  DataVersion.HW_2FW2_X_X  "
      ]
     },
     "execution_count": 10,
     "metadata": {},
     "output_type": "execute_result"
    }
   ],
   "source": [
    "df_bikelane_newest"
   ]
  },
  {
   "cell_type": "markdown",
   "metadata": {},
   "source": [
    "## 2. Preprocessing and feature engineering\n",
    "\n",
    "We apply the same methods as in notebook 1: creating unique IDs, converting the time column, converting radar names, changing data types to floats, and finally creating an empty column for the mag_cluster, as we haven't applied our models yet."
   ]
  },
  {
   "cell_type": "code",
   "execution_count": 11,
   "metadata": {},
   "outputs": [],
   "source": [
    "df_building = df_building_newest.copy()\n",
    "df_bikelane = df_bikelane_newest.copy()"
   ]
  },
  {
   "cell_type": "code",
   "execution_count": 12,
   "metadata": {},
   "outputs": [],
   "source": [
    "# Defining a function that tries to parse the datetime with microseconds first, and if it fails, parses it without microseconds\n",
    "def parse_datetime(dt_str):\n",
    "    try:\n",
    "        return datetime.strptime(dt_str, '%Y-%m-%d %H:%M:%S.%f')\n",
    "    except ValueError:\n",
    "        return datetime.strptime(dt_str, '%Y-%m-%d %H:%M:%S')"
   ]
  },
  {
   "cell_type": "code",
   "execution_count": 13,
   "metadata": {},
   "outputs": [],
   "source": [
    "# Applying the function on the dataframes\n",
    "df_building = df_building.copy()\n",
    "df_building['time'] = df_building['time'].apply(parse_datetime)\n",
    "df_bikelane = df_bikelane.copy()\n",
    "df_bikelane['time'] = df_bikelane['time'].apply(parse_datetime)"
   ]
  },
  {
   "cell_type": "code",
   "execution_count": 14,
   "metadata": {},
   "outputs": [],
   "source": [
    "#converting the time column to datetime\n",
    "df_bikelane['time'] = pd.to_datetime(df_bikelane['time'])\n",
    "df_building['time'] = pd.to_datetime(df_building['time'])"
   ]
  },
  {
   "cell_type": "code",
   "execution_count": 15,
   "metadata": {},
   "outputs": [],
   "source": [
    "#create a column for the time in the format of \"YYYY-MM-DD HH\" to merge with weather data\n",
    "df_bikelane['time_hour'] = df_bikelane['time'].dt.strftime('%Y-%m-%d %H')\n",
    "df_building['time_hour'] = df_building['time'].dt.strftime('%Y-%m-%d %H')\n",
    "# Converting the time_hour column to datetime\n",
    "df_bikelane['time_hour'] = pd.to_datetime(df_bikelane['time_hour'])\n",
    "df_building['time_hour'] = pd.to_datetime(df_building['time_hour'])"
   ]
  },
  {
   "cell_type": "markdown",
   "metadata": {},
   "source": [
    "### Weather data column"
   ]
  },
  {
   "cell_type": "code",
   "execution_count": 16,
   "metadata": {},
   "outputs": [],
   "source": [
    "# Setup the Open-Meteo API client with cache and retry on error\n",
    "cache_session = requests_cache.CachedSession('.cache', expire_after = 3600)\n",
    "retry_session = retry(cache_session, retries = 5, backoff_factor = 0.2)\n",
    "openmeteo = openmeteo_requests.Client(session = retry_session)"
   ]
  },
  {
   "cell_type": "code",
   "execution_count": 17,
   "metadata": {},
   "outputs": [],
   "source": [
    "\n",
    "weather_url = \"https://api.open-meteo.com/v1/forecast\"\n",
    "weather_params = {\n",
    "\t\"latitude\": 57.01,\n",
    "\t\"longitude\": 9.99,\n",
    "\t\"hourly\": [\"temperature_2m\", \"relative_humidity_2m\", \"precipitation\", \"surface_pressure\", \"cloud_cover\", \"et0_fao_evapotranspiration\", \"wind_speed_10m\", \"soil_temperature_0_to_7cm\", \"soil_moisture_0_to_7cm\"],\n",
    "\t\"forecast_days\": 1\n",
    "}\n",
    "responses = openmeteo.weather_api(weather_url, params=weather_params)"
   ]
  },
  {
   "cell_type": "code",
   "execution_count": 18,
   "metadata": {},
   "outputs": [
    {
     "name": "stdout",
     "output_type": "stream",
     "text": [
      "Coordinates 57.01040267944336°N 9.992218017578125°E\n",
      "Elevation 23.0 m asl\n",
      "Timezone None None\n",
      "Timezone difference to GMT+0 0 s\n"
     ]
    },
    {
     "data": {
      "text/html": [
       "<div>\n",
       "<style scoped>\n",
       "    .dataframe tbody tr th:only-of-type {\n",
       "        vertical-align: middle;\n",
       "    }\n",
       "\n",
       "    .dataframe tbody tr th {\n",
       "        vertical-align: top;\n",
       "    }\n",
       "\n",
       "    .dataframe thead th {\n",
       "        text-align: right;\n",
       "    }\n",
       "</style>\n",
       "<table border=\"1\" class=\"dataframe\">\n",
       "  <thead>\n",
       "    <tr style=\"text-align: right;\">\n",
       "      <th></th>\n",
       "      <th>date</th>\n",
       "      <th>temperature_2m</th>\n",
       "      <th>relative_humidity_2m</th>\n",
       "      <th>precipitation</th>\n",
       "      <th>surface_pressure</th>\n",
       "      <th>cloud_cover</th>\n",
       "      <th>et0_fao_evapotranspiration</th>\n",
       "      <th>wind_speed_10m</th>\n",
       "      <th>soil_temperature_0_to_7cm</th>\n",
       "      <th>soil_moisture_0_to_7cm</th>\n",
       "    </tr>\n",
       "  </thead>\n",
       "  <tbody>\n",
       "    <tr>\n",
       "      <th>0</th>\n",
       "      <td>2024-05-27 00:00:00+00:00</td>\n",
       "      <td>16.154501</td>\n",
       "      <td>98.0</td>\n",
       "      <td>0.0</td>\n",
       "      <td>1012.247803</td>\n",
       "      <td>66.0</td>\n",
       "      <td>0.000000</td>\n",
       "      <td>7.200000</td>\n",
       "      <td>NaN</td>\n",
       "      <td>NaN</td>\n",
       "    </tr>\n",
       "    <tr>\n",
       "      <th>1</th>\n",
       "      <td>2024-05-27 01:00:00+00:00</td>\n",
       "      <td>15.954500</td>\n",
       "      <td>97.0</td>\n",
       "      <td>0.0</td>\n",
       "      <td>1012.644897</td>\n",
       "      <td>98.0</td>\n",
       "      <td>0.000000</td>\n",
       "      <td>8.640000</td>\n",
       "      <td>NaN</td>\n",
       "      <td>NaN</td>\n",
       "    </tr>\n",
       "    <tr>\n",
       "      <th>2</th>\n",
       "      <td>2024-05-27 02:00:00+00:00</td>\n",
       "      <td>15.854500</td>\n",
       "      <td>98.0</td>\n",
       "      <td>0.0</td>\n",
       "      <td>1012.145325</td>\n",
       "      <td>81.0</td>\n",
       "      <td>0.000000</td>\n",
       "      <td>14.040000</td>\n",
       "      <td>NaN</td>\n",
       "      <td>NaN</td>\n",
       "    </tr>\n",
       "    <tr>\n",
       "      <th>3</th>\n",
       "      <td>2024-05-27 03:00:00+00:00</td>\n",
       "      <td>15.804501</td>\n",
       "      <td>98.0</td>\n",
       "      <td>0.0</td>\n",
       "      <td>1011.945129</td>\n",
       "      <td>88.0</td>\n",
       "      <td>0.000000</td>\n",
       "      <td>12.599999</td>\n",
       "      <td>NaN</td>\n",
       "      <td>NaN</td>\n",
       "    </tr>\n",
       "    <tr>\n",
       "      <th>4</th>\n",
       "      <td>2024-05-27 04:00:00+00:00</td>\n",
       "      <td>15.704500</td>\n",
       "      <td>97.0</td>\n",
       "      <td>0.0</td>\n",
       "      <td>1011.545349</td>\n",
       "      <td>98.0</td>\n",
       "      <td>0.015639</td>\n",
       "      <td>12.240000</td>\n",
       "      <td>NaN</td>\n",
       "      <td>NaN</td>\n",
       "    </tr>\n",
       "  </tbody>\n",
       "</table>\n",
       "</div>"
      ],
      "text/plain": [
       "                       date  temperature_2m  relative_humidity_2m  \\\n",
       "0 2024-05-27 00:00:00+00:00       16.154501                  98.0   \n",
       "1 2024-05-27 01:00:00+00:00       15.954500                  97.0   \n",
       "2 2024-05-27 02:00:00+00:00       15.854500                  98.0   \n",
       "3 2024-05-27 03:00:00+00:00       15.804501                  98.0   \n",
       "4 2024-05-27 04:00:00+00:00       15.704500                  97.0   \n",
       "\n",
       "   precipitation  surface_pressure  cloud_cover  et0_fao_evapotranspiration  \\\n",
       "0            0.0       1012.247803         66.0                    0.000000   \n",
       "1            0.0       1012.644897         98.0                    0.000000   \n",
       "2            0.0       1012.145325         81.0                    0.000000   \n",
       "3            0.0       1011.945129         88.0                    0.000000   \n",
       "4            0.0       1011.545349         98.0                    0.015639   \n",
       "\n",
       "   wind_speed_10m  soil_temperature_0_to_7cm  soil_moisture_0_to_7cm  \n",
       "0        7.200000                        NaN                     NaN  \n",
       "1        8.640000                        NaN                     NaN  \n",
       "2       14.040000                        NaN                     NaN  \n",
       "3       12.599999                        NaN                     NaN  \n",
       "4       12.240000                        NaN                     NaN  "
      ]
     },
     "execution_count": 18,
     "metadata": {},
     "output_type": "execute_result"
    }
   ],
   "source": [
    "# Process first location. Add a for-loop for multiple locations or weather models\n",
    "response = responses[0]\n",
    "print(f\"Coordinates {response.Latitude()}°N {response.Longitude()}°E\")\n",
    "print(f\"Elevation {response.Elevation()} m asl\")\n",
    "print(f\"Timezone {response.Timezone()} {response.TimezoneAbbreviation()}\")\n",
    "print(f\"Timezone difference to GMT+0 {response.UtcOffsetSeconds()} s\")\n",
    "\n",
    "# Process hourly data. The order of variables needs to be the same as requested.\n",
    "hourly = response.Hourly()\n",
    "hourly_temperature_2m = hourly.Variables(0).ValuesAsNumpy()\n",
    "hourly_relative_humidity_2m = hourly.Variables(1).ValuesAsNumpy()\n",
    "hourly_precipitation = hourly.Variables(2).ValuesAsNumpy()\n",
    "hourly_surface_pressure = hourly.Variables(3).ValuesAsNumpy()\n",
    "hourly_cloud_cover = hourly.Variables(4).ValuesAsNumpy()\n",
    "hourly_et0_fao_evapotranspiration = hourly.Variables(5).ValuesAsNumpy()\n",
    "hourly_wind_speed_10m = hourly.Variables(6).ValuesAsNumpy()\n",
    "hourly_soil_temperature_0_to_7cm = hourly.Variables(7).ValuesAsNumpy()\n",
    "hourly_soil_moisture_0_to_7cm = hourly.Variables(8).ValuesAsNumpy()\n",
    "\n",
    "hourly_data = {\"date\": pd.date_range(\n",
    "\tstart = pd.to_datetime(hourly.Time(), unit = \"s\", utc = True),\n",
    "\tend = pd.to_datetime(hourly.TimeEnd(), unit = \"s\", utc = True),\n",
    "\tfreq = pd.Timedelta(seconds = hourly.Interval()),\n",
    "\tinclusive = \"left\"\n",
    ")}\n",
    "hourly_data[\"temperature_2m\"] = hourly_temperature_2m\n",
    "hourly_data[\"relative_humidity_2m\"] = hourly_relative_humidity_2m\n",
    "hourly_data[\"precipitation\"] = hourly_precipitation\n",
    "hourly_data[\"surface_pressure\"] = hourly_surface_pressure\n",
    "hourly_data[\"cloud_cover\"] = hourly_cloud_cover\n",
    "hourly_data[\"et0_fao_evapotranspiration\"] = hourly_et0_fao_evapotranspiration\n",
    "hourly_data[\"wind_speed_10m\"] = hourly_wind_speed_10m\n",
    "hourly_data[\"soil_temperature_0_to_7cm\"] = hourly_soil_temperature_0_to_7cm\n",
    "hourly_data[\"soil_moisture_0_to_7cm\"] = hourly_soil_moisture_0_to_7cm\n",
    "\n",
    "hourly_dataframe = pd.DataFrame(data = hourly_data)\n",
    "hourly_dataframe.head()"
   ]
  },
  {
   "cell_type": "code",
   "execution_count": 19,
   "metadata": {},
   "outputs": [],
   "source": [
    "#remove the timezone from the date column\n",
    "hourly_dataframe['date'] = hourly_dataframe['date'].dt.tz_localize(None)\n",
    "#Convert to datetime object\n",
    "hourly_dataframe['date'] = pd.to_datetime(hourly_dataframe['date'])"
   ]
  },
  {
   "cell_type": "markdown",
   "metadata": {},
   "source": [
    "# Merging weather data and sensor data"
   ]
  },
  {
   "cell_type": "code",
   "execution_count": 20,
   "metadata": {},
   "outputs": [],
   "source": [
    "# Merging the weather data with the building sensor data\n",
    "df_building = pd.merge(df_building, hourly_dataframe, left_on='time_hour', right_on='date', how='left')\n",
    "# Merging the weather data with the bikelane sensor data\n",
    "df_bikelane = pd.merge(df_bikelane, hourly_dataframe, left_on='time_hour', right_on='date', how='left')"
   ]
  },
  {
   "cell_type": "code",
   "execution_count": 21,
   "metadata": {},
   "outputs": [],
   "source": [
    "df_building = df_building.drop(columns=['date'])\n",
    "df_bikelane = df_bikelane.drop(columns=['date'])"
   ]
  },
  {
   "cell_type": "markdown",
   "metadata": {},
   "source": [
    "## Feature Engineering"
   ]
  },
  {
   "cell_type": "code",
   "execution_count": 22,
   "metadata": {},
   "outputs": [],
   "source": [
    "# Create a unique identifier for each row in the datasets\n",
    "def create_id(df, dataset_name):\n",
    "    # Assign the sensor prefix based on the dataset name\n",
    "    if dataset_name == 'df_building':\n",
    "        df['psensor'] = \"BUILDING\"\n",
    "    elif dataset_name == 'df_bikelane':\n",
    "        df['psensor'] = \"BIKELANE\"\n",
    "    else:\n",
    "        raise ValueError(\"Unknown dataset name provided\")\n",
    "\n",
    "    # Create a new column 'id' with a unique identifier for each row\n",
    "    df['id'] = df['time'].astype(str) + '_' + df['psensor']\n",
    "\n",
    "    return df"
   ]
  },
  {
   "cell_type": "code",
   "execution_count": 23,
   "metadata": {},
   "outputs": [],
   "source": [
    "# Applying the function to the datasets\n",
    "df_bikelane = create_id(df_bikelane, 'df_bikelane')\n",
    "df_building = create_id(df_building, 'df_building')"
   ]
  },
  {
   "cell_type": "code",
   "execution_count": 24,
   "metadata": {},
   "outputs": [],
   "source": [
    "#Renaming the radar columns to start with radar\n",
    "df_bikelane = df_bikelane.rename(columns={'0_radar': 'radar_0', '1_radar': 'radar_1', '2_radar': 'radar_2', '3_radar': 'radar_3', '4_radar': 'radar_4', '5_radar': 'radar_5', '6_radar': 'radar_6', '7_radar': 'radar_7'})\n",
    "df_building = df_building.rename(columns={'0_radar': 'radar_0', '1_radar': 'radar_1', '2_radar': 'radar_2', '3_radar': 'radar_3', '4_radar': 'radar_4', '5_radar': 'radar_5', '6_radar': 'radar_6', '7_radar': 'radar_7'})"
   ]
  },
  {
   "cell_type": "code",
   "execution_count": 25,
   "metadata": {},
   "outputs": [],
   "source": [
    "# Converting the columns to float\n",
    "df_bikelane[['x','y','z', 'radar_0', 'radar_1', 'radar_2', 'radar_3', 'radar_4', 'radar_5', 'radar_6', 'radar_7', 'f_cnt', 'dr', 'rssi']] = df_bikelane[['x','y','z', 'radar_0', 'radar_1', 'radar_2', 'radar_3', 'radar_4', 'radar_5', 'radar_6', 'radar_7', 'f_cnt', 'dr', 'rssi']].astype(float)\n",
    "df_building[['x','y','z', 'radar_0', 'radar_1', 'radar_2', 'radar_3', 'radar_4', 'radar_5', 'radar_6', 'radar_7', 'f_cnt', 'dr', 'rssi']] = df_building[['x','y','z', 'radar_0', 'radar_1', 'radar_2', 'radar_3', 'radar_4', 'radar_5', 'radar_6', 'radar_7', 'f_cnt', 'dr', 'rssi']].astype(float)\n"
   ]
  },
  {
   "cell_type": "code",
   "execution_count": 26,
   "metadata": {},
   "outputs": [],
   "source": [
    "#making an empty label column\n",
    "df_bikelane['radar_cluster'] = \"null\"\n",
    "df_building['radar_cluster'] = \"null\"\n",
    "df_bikelane['mag_cluster'] = \"null\"\n",
    "df_building['mag_cluster'] = \"null\""
   ]
  },
  {
   "cell_type": "code",
   "execution_count": 28,
   "metadata": {},
   "outputs": [],
   "source": [
    "#Adding two hours to datetime to match the timezone\n",
    "df_bikelane['time'] = df_bikelane['time'] + pd.Timedelta(hours=2)\n",
    "df_building['time'] = df_building['time'] + pd.Timedelta(hours=2)"
   ]
  },
  {
   "cell_type": "markdown",
   "metadata": {},
   "source": [
    "## Uploading latest data to Hopsworks"
   ]
  },
  {
   "cell_type": "code",
   "execution_count": 29,
   "metadata": {
    "metadata": {}
   },
   "outputs": [
    {
     "name": "stdout",
     "output_type": "stream",
     "text": [
      "Connected. Call `.close()` to terminate connection gracefully.\n",
      "\n",
      "Logged in to project, explore it here https://c.app.hopsworks.ai:443/p/549019\n",
      "Connected. Call `.close()` to terminate connection gracefully.\n"
     ]
    }
   ],
   "source": [
    "# Connceting to the Hopsworks project\n",
    "\n",
    "project = hopsworks.login(project=\"annikaij\")\n",
    "\n",
    "fs = project.get_feature_store()"
   ]
  },
  {
   "cell_type": "code",
   "execution_count": 30,
   "metadata": {
    "metadata": {}
   },
   "outputs": [
    {
     "data": {
      "application/vnd.jupyter.widget-view+json": {
       "model_id": "3d1210a52dce44e687ee01533b1eceb8",
       "version_major": 2,
       "version_minor": 0
      },
      "text/plain": [
       "Uploading Dataframe: 0.00% |          | Rows 0/1 | Elapsed Time: 00:00 | Remaining Time: ?"
      ]
     },
     "metadata": {},
     "output_type": "display_data"
    },
    {
     "name": "stdout",
     "output_type": "stream",
     "text": [
      "Launching job: new_bikelane_fg_1_offline_fg_materialization\n",
      "Job started successfully, you can follow the progress at \n",
      "https://c.app.hopsworks.ai/p/549019/jobs/named/new_bikelane_fg_1_offline_fg_materialization/executions\n"
     ]
    },
    {
     "data": {
      "text/plain": [
       "(<hsfs.core.job.Job at 0x718517766d40>, None)"
      ]
     },
     "execution_count": 30,
     "metadata": {},
     "output_type": "execute_result"
    }
   ],
   "source": [
    "bikelane_fg = fs.get_or_create_feature_group(name=\"new_bikelane_fg\",\n",
    "                                  version=1,\n",
    "                                  primary_key=[\"id\"],\n",
    "                                  event_time='time',\n",
    "                                  description=\"New bike lane data\",\n",
    "                                  online_enabled=True,\n",
    "                                 )\n",
    "bikelane_fg.insert(df_bikelane)"
   ]
  },
  {
   "cell_type": "code",
   "execution_count": 31,
   "metadata": {
    "metadata": {}
   },
   "outputs": [
    {
     "data": {
      "application/vnd.jupyter.widget-view+json": {
       "model_id": "6271d1db5bb347fea487c7c21f428d0b",
       "version_major": 2,
       "version_minor": 0
      },
      "text/plain": [
       "Uploading Dataframe: 0.00% |          | Rows 0/1 | Elapsed Time: 00:00 | Remaining Time: ?"
      ]
     },
     "metadata": {},
     "output_type": "display_data"
    },
    {
     "name": "stdout",
     "output_type": "stream",
     "text": [
      "Launching job: new_building_fg_1_offline_fg_materialization\n",
      "Job started successfully, you can follow the progress at \n",
      "https://c.app.hopsworks.ai/p/549019/jobs/named/new_building_fg_1_offline_fg_materialization/executions\n"
     ]
    },
    {
     "data": {
      "text/plain": [
       "(<hsfs.core.job.Job at 0x7185177526e0>, None)"
      ]
     },
     "execution_count": 31,
     "metadata": {},
     "output_type": "execute_result"
    }
   ],
   "source": [
    "building_fg = fs.get_or_create_feature_group(name=\"new_building_fg\",\n",
    "                                    version=1,\n",
    "                                    primary_key=[\"id\"],\n",
    "                                    event_time='time',\n",
    "                                    description=\"New building data\",\n",
    "                                    online_enabled=True\n",
    "                                     )\n",
    "building_fg.insert(df_building)"
   ]
  },
  {
   "cell_type": "markdown",
   "metadata": {},
   "source": [
    "## **Next up:** 3: Feature view creation\n",
    "Go to the 3_featureview_creation.ipynb notebook"
   ]
  }
 ],
 "metadata": {
  "kernelspec": {
   "display_name": "Python 3",
   "language": "python",
   "name": "python3"
  },
  "language_info": {
   "codemirror_mode": {
    "name": "ipython",
    "version": 3
   },
   "file_extension": ".py",
   "mimetype": "text/x-python",
   "name": "python",
   "nbconvert_exporter": "python",
   "pygments_lexer": "ipython3",
   "version": "3.10.13"
  }
 },
 "nbformat": 4,
 "nbformat_minor": 2
}
