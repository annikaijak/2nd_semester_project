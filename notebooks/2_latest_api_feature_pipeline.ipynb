{
 "cells": [
  {
   "cell_type": "markdown",
   "metadata": {},
   "source": [
    "\n",
    "# Latest API data\n",
    "This notebook consists of 3 parts:\n",
    "1. Get new data from the API\n",
    "2. Data preprocessing and feature engineering\n",
    "3. Creating or backfilling the feature group"
   ]
  },
  {
   "cell_type": "code",
   "execution_count": 1,
   "metadata": {
    "metadata": {}
   },
   "outputs": [],
   "source": [
    "# Standard library imports for utilities and data manipulation\n",
    "import uuid\n",
    "import os\n",
    "from datetime import datetime, timedelta\n",
    "import io\n",
    "import base64\n",
    "\n",
    "# External libraries for data handling, networking, and time zones\n",
    "import pandas as pd\n",
    "import requests\n",
    "import json\n",
    "import pytz\n",
    "\n",
    "# Environment variable management\n",
    "from dotenv import load_dotenv\n",
    "load_dotenv()\n",
    "\n",
    "# Hopsworks\n",
    "import hopsworks                "
   ]
  },
  {
   "cell_type": "markdown",
   "metadata": {},
   "source": [
    "## 1. Get new data from the API\n",
    "\n",
    "### Sensor Data Access\n",
    "\n",
    "Here is the information given by the company so we can acces thir data.\n",
    "\n",
    "- GET request to `data.sensade.com` \n",
    "- Authentication: `Basic Auth` (user: miknie20@student.aau.dk, password: GitHub Secret)\n",
    "\n",
    "### Sensors\n",
    "\n",
    "Two sensors installed:\n",
    "\n",
    "- `0080E115003BEA91` (Hw2.0 Fw2.0) Installed towards building\n",
    "\n",
    "- `0080E115003E3597` (Hw2.0 Fw2.0) Installed towards bike lane"
   ]
  },
  {
   "cell_type": "code",
   "execution_count": 52,
   "metadata": {
    "metadata": {}
   },
   "outputs": [],
   "source": [
    "# Create a timezone object for GMT+2\n",
    "timezone = pytz.timezone('Europe/Copenhagen')\n",
    "now = datetime.now(timezone)  # Get current time \n",
    "today = now \n",
    "yesterday = today - timedelta(days=1)\n",
    "tomorrow = today + timedelta(days=1)\n",
    "#Defining two hours ago\n",
    "two_hours_ago = now - timedelta(hours=2)"
   ]
  },
  {
   "cell_type": "code",
   "execution_count": 53,
   "metadata": {
    "metadata": {}
   },
   "outputs": [],
   "source": [
    "# Format 'today', 'tomorrow', and 'yesterday' as \"YYYY-MM-DD\"\n",
    "formatted_today = today.strftime('%Y-%m-%d %H:%M:%S')\n",
    "formatted_tomorrow = tomorrow.strftime('%Y-%m-%d %H:%M:%S')\n",
    "formatted_yesterday = yesterday.strftime('%Y-%m-%d %H:%M:%S')\n",
    "formatted_two_hours_ago = two_hours_ago.strftime('%Y-%m-%d %H:%M:%S')\n",
    "dev_eui_building = \"0080E115003BEA91\"\n",
    "dev_eui_bikelane = \"0080E115003E3597\"\n",
    "url = \"https://data.sensade.com\"\n",
    "\n",
    "basic_auth = base64.b64encode(f\"{os.getenv('API_USER')}:{os.getenv('API_PASSWORD')}\".encode())\n",
    "headers = {\n",
    "    'Content-Type': 'application/json',\n",
    "    'Authorization': f'Basic {basic_auth.decode(\"utf-8\")}'\n",
    "}"
   ]
  },
  {
   "cell_type": "code",
   "execution_count": 50,
   "metadata": {
    "metadata": {}
   },
   "outputs": [],
   "source": [
    "# API call that takes the data from given sensor from yesterday until tomorrow\n",
    "def API_call(dev_eui, from_date, to_date):\n",
    "    payload = json.dumps({\n",
    "    \"dev_eui\": dev_eui,\n",
    "    \"from\": from_date,\n",
    "    \"to\": to_date\n",
    "})\n",
    "\n",
    "    response = requests.request(\"GET\", url, headers=headers, data=payload)\n",
    "\n",
    "    if response.status_code != 200:\n",
    "     print(\"Failed to fetch data: Status code\", response.status_code)     \n",
    "     print(\"Response:\", response.text)     \n",
    "     exit(13)\n",
    "\n",
    "    csv_data = response.text\n",
    "    df = pd.read_csv(io.StringIO(csv_data))\n",
    "    return df"
   ]
  },
  {
   "cell_type": "code",
   "execution_count": 55,
   "metadata": {
    "metadata": {}
   },
   "outputs": [],
   "source": [
    "# Running the API call function with the given parameters on the building sensor\n",
    "df_building_from_api = API_call(dev_eui_building, formatted_yesterday, formatted_tomorrow)"
   ]
  },
  {
   "cell_type": "code",
   "execution_count": 56,
   "metadata": {
    "metadata": {}
   },
   "outputs": [],
   "source": [
    "# Running the API call function with the given parameters on the bikelane sensor\n",
    "df_bikelane_from_api = API_call(dev_eui_bikelane, formatted_yesterday, formatted_tomorrow)"
   ]
  },
  {
   "cell_type": "code",
   "execution_count": 57,
   "metadata": {
    "metadata": {}
   },
   "outputs": [],
   "source": [
    "# Defning the newest data from the API calls\n",
    "df_building_newest = df_building_from_api.tail(1)\n",
    "df_bikelane_newest = df_bikelane_from_api.tail(1)"
   ]
  },
  {
   "cell_type": "code",
   "execution_count": 58,
   "metadata": {},
   "outputs": [
    {
     "data": {
      "text/html": [
       "<div>\n",
       "<style scoped>\n",
       "    .dataframe tbody tr th:only-of-type {\n",
       "        vertical-align: middle;\n",
       "    }\n",
       "\n",
       "    .dataframe tbody tr th {\n",
       "        vertical-align: top;\n",
       "    }\n",
       "\n",
       "    .dataframe thead th {\n",
       "        text-align: right;\n",
       "    }\n",
       "</style>\n",
       "<table border=\"1\" class=\"dataframe\">\n",
       "  <thead>\n",
       "    <tr style=\"text-align: right;\">\n",
       "      <th></th>\n",
       "      <th>time</th>\n",
       "      <th>battery</th>\n",
       "      <th>temperature</th>\n",
       "      <th>x</th>\n",
       "      <th>y</th>\n",
       "      <th>z</th>\n",
       "      <th>0_radar</th>\n",
       "      <th>1_radar</th>\n",
       "      <th>2_radar</th>\n",
       "      <th>3_radar</th>\n",
       "      <th>4_radar</th>\n",
       "      <th>5_radar</th>\n",
       "      <th>6_radar</th>\n",
       "      <th>7_radar</th>\n",
       "      <th>package_type</th>\n",
       "      <th>f_cnt</th>\n",
       "      <th>dr</th>\n",
       "      <th>snr</th>\n",
       "      <th>rssi</th>\n",
       "      <th>hw_fw_version</th>\n",
       "    </tr>\n",
       "  </thead>\n",
       "  <tbody>\n",
       "    <tr>\n",
       "      <th>121</th>\n",
       "      <td>2024-05-17 07:56:02.483000</td>\n",
       "      <td>3.2</td>\n",
       "      <td>16.875</td>\n",
       "      <td>388</td>\n",
       "      <td>233</td>\n",
       "      <td>65</td>\n",
       "      <td>25.0</td>\n",
       "      <td>44.0</td>\n",
       "      <td>43.0</td>\n",
       "      <td>44.0</td>\n",
       "      <td>44.0</td>\n",
       "      <td>28.0</td>\n",
       "      <td>14.0</td>\n",
       "      <td>8.0</td>\n",
       "      <td>PackageType.HEART_BEAT</td>\n",
       "      <td>5510</td>\n",
       "      <td>5</td>\n",
       "      <td>-3.8</td>\n",
       "      <td>-89</td>\n",
       "      <td>DataVersion.HW_2FW2_X_X</td>\n",
       "    </tr>\n",
       "  </tbody>\n",
       "</table>\n",
       "</div>"
      ],
      "text/plain": [
       "                           time  battery  temperature    x    y   z  0_radar  \\\n",
       "121  2024-05-17 07:56:02.483000      3.2       16.875  388  233  65     25.0   \n",
       "\n",
       "     1_radar  2_radar  3_radar  4_radar  5_radar  6_radar  7_radar  \\\n",
       "121     44.0     43.0     44.0     44.0     28.0     14.0      8.0   \n",
       "\n",
       "               package_type  f_cnt  dr  snr  rssi            hw_fw_version  \n",
       "121  PackageType.HEART_BEAT   5510   5 -3.8   -89  DataVersion.HW_2FW2_X_X  "
      ]
     },
     "execution_count": 58,
     "metadata": {},
     "output_type": "execute_result"
    }
   ],
   "source": [
    "df_building_newest"
   ]
  },
  {
   "cell_type": "code",
   "execution_count": 59,
   "metadata": {},
   "outputs": [
    {
     "data": {
      "text/html": [
       "<div>\n",
       "<style scoped>\n",
       "    .dataframe tbody tr th:only-of-type {\n",
       "        vertical-align: middle;\n",
       "    }\n",
       "\n",
       "    .dataframe tbody tr th {\n",
       "        vertical-align: top;\n",
       "    }\n",
       "\n",
       "    .dataframe thead th {\n",
       "        text-align: right;\n",
       "    }\n",
       "</style>\n",
       "<table border=\"1\" class=\"dataframe\">\n",
       "  <thead>\n",
       "    <tr style=\"text-align: right;\">\n",
       "      <th></th>\n",
       "      <th>time</th>\n",
       "      <th>battery</th>\n",
       "      <th>temperature</th>\n",
       "      <th>x</th>\n",
       "      <th>y</th>\n",
       "      <th>z</th>\n",
       "      <th>0_radar</th>\n",
       "      <th>1_radar</th>\n",
       "      <th>2_radar</th>\n",
       "      <th>3_radar</th>\n",
       "      <th>4_radar</th>\n",
       "      <th>5_radar</th>\n",
       "      <th>6_radar</th>\n",
       "      <th>7_radar</th>\n",
       "      <th>package_type</th>\n",
       "      <th>f_cnt</th>\n",
       "      <th>dr</th>\n",
       "      <th>snr</th>\n",
       "      <th>rssi</th>\n",
       "      <th>hw_fw_version</th>\n",
       "    </tr>\n",
       "  </thead>\n",
       "  <tbody>\n",
       "    <tr>\n",
       "      <th>128</th>\n",
       "      <td>2024-05-17 07:37:16.564000</td>\n",
       "      <td>3.1</td>\n",
       "      <td>14.625</td>\n",
       "      <td>-233</td>\n",
       "      <td>158</td>\n",
       "      <td>-388</td>\n",
       "      <td>44.0</td>\n",
       "      <td>63.0</td>\n",
       "      <td>67.0</td>\n",
       "      <td>88.0</td>\n",
       "      <td>51.0</td>\n",
       "      <td>36.0</td>\n",
       "      <td>29.0</td>\n",
       "      <td>14.0</td>\n",
       "      <td>PackageType.HEART_BEAT</td>\n",
       "      <td>5382</td>\n",
       "      <td>5</td>\n",
       "      <td>0.2</td>\n",
       "      <td>-89</td>\n",
       "      <td>DataVersion.HW_2FW2_X_X</td>\n",
       "    </tr>\n",
       "  </tbody>\n",
       "</table>\n",
       "</div>"
      ],
      "text/plain": [
       "                           time  battery  temperature    x    y    z  0_radar  \\\n",
       "128  2024-05-17 07:37:16.564000      3.1       14.625 -233  158 -388     44.0   \n",
       "\n",
       "     1_radar  2_radar  3_radar  4_radar  5_radar  6_radar  7_radar  \\\n",
       "128     63.0     67.0     88.0     51.0     36.0     29.0     14.0   \n",
       "\n",
       "               package_type  f_cnt  dr  snr  rssi            hw_fw_version  \n",
       "128  PackageType.HEART_BEAT   5382   5  0.2   -89  DataVersion.HW_2FW2_X_X  "
      ]
     },
     "execution_count": 59,
     "metadata": {},
     "output_type": "execute_result"
    }
   ],
   "source": [
    "df_bikelane_newest"
   ]
  },
  {
   "cell_type": "markdown",
   "metadata": {},
   "source": [
    "## 2. Preprocessing and feature engineering\n",
    "\n",
    "We apply the same methods as in notebook 1: creating unique IDs, converting the time column, converting radar names, changing data types to floats, and finally creating an empty column for the mag_cluster, as we haven't applied our models yet."
   ]
  },
  {
   "cell_type": "code",
   "execution_count": 8,
   "metadata": {
    "metadata": {}
   },
   "outputs": [],
   "source": [
    "# Create a unique identifier for each row in the datasets\n",
    "def create_id(df, dataset_name):\n",
    "    # Assign the sensor prefix based on the dataset name\n",
    "    if dataset_name == 'df_building_newest':\n",
    "        df['psensor'] = \"BUILDING\"\n",
    "    elif dataset_name == 'df_bikelane_newest':\n",
    "        df['psensor'] = \"BIKELANE\"\n",
    "    else:\n",
    "        raise ValueError(\"Unknown dataset name provided\")\n",
    "\n",
    "    # Create a new column 'id' with a unique identifier for each row\n",
    "    df['id'] = [str(uuid.uuid4()) for _ in df.index]\n",
    "\n",
    "    return df"
   ]
  },
  {
   "cell_type": "code",
   "execution_count": 9,
   "metadata": {
    "metadata": {}
   },
   "outputs": [],
   "source": [
    "# Applying the function to the datasets\n",
    "df_bikelane_newest = df_bikelane_newest.copy()\n",
    "df_bikelane = create_id(df_bikelane_newest, 'df_bikelane_newest')\n",
    "df_building_newest = df_building_newest.copy()\n",
    "df_building = create_id(df_building_newest, 'df_building_newest')"
   ]
  },
  {
   "cell_type": "code",
   "execution_count": 10,
   "metadata": {
    "metadata": {}
   },
   "outputs": [],
   "source": [
    "#converting the time column to datetime\n",
    "df_bikelane['time'] = pd.to_datetime(df_bikelane['time'])\n",
    "df_building['time'] = pd.to_datetime(df_building['time'])"
   ]
  },
  {
   "cell_type": "code",
   "execution_count": 11,
   "metadata": {
    "metadata": {}
   },
   "outputs": [],
   "source": [
    "#Renaming the radar columns to start with radar\n",
    "df_bikelane = df_bikelane.rename(columns={'0_radar': 'radar_0', '1_radar': 'radar_1', '2_radar': 'radar_2', '3_radar': 'radar_3', '4_radar': 'radar_4', '5_radar': 'radar_5', '6_radar': 'radar_6', '7_radar': 'radar_7'})\n",
    "df_building = df_building.rename(columns={'0_radar': 'radar_0', '1_radar': 'radar_1', '2_radar': 'radar_2', '3_radar': 'radar_3', '4_radar': 'radar_4', '5_radar': 'radar_5', '6_radar': 'radar_6', '7_radar': 'radar_7'})\n"
   ]
  },
  {
   "cell_type": "code",
   "execution_count": 12,
   "metadata": {
    "metadata": {}
   },
   "outputs": [],
   "source": [
    "# Converting the columns to float\n",
    "df_bikelane[['x','y','z', 'radar_0', 'radar_1', 'radar_2', 'radar_3', 'radar_4', 'radar_5', 'radar_6', 'radar_7', 'f_cnt', 'dr', 'rssi']] = df_bikelane[['x','y','z', 'radar_0', 'radar_1', 'radar_2', 'radar_3', 'radar_4', 'radar_5', 'radar_6', 'radar_7', 'f_cnt', 'dr', 'rssi']].astype(float)\n",
    "df_building[['x','y','z', 'radar_0', 'radar_1', 'radar_2', 'radar_3', 'radar_4', 'radar_5', 'radar_6', 'radar_7', 'f_cnt', 'dr', 'rssi']] = df_building[['x','y','z', 'radar_0', 'radar_1', 'radar_2', 'radar_3', 'radar_4', 'radar_5', 'radar_6', 'radar_7', 'f_cnt', 'dr', 'rssi']].astype(float)\n"
   ]
  },
  {
   "cell_type": "code",
   "execution_count": 13,
   "metadata": {},
   "outputs": [],
   "source": [
    "#making an empty label column\n",
    "df_bikelane['mag_cluster'] = \"null\"\n",
    "df_building['mag_cluster'] = \"null\""
   ]
  },
  {
   "cell_type": "markdown",
   "metadata": {},
   "source": [
    "## Backfill or create feature group"
   ]
  },
  {
   "cell_type": "code",
   "execution_count": 26,
   "metadata": {
    "metadata": {}
   },
   "outputs": [
    {
     "name": "stdout",
     "output_type": "stream",
     "text": [
      "Copy your Api Key (first register/login): https://c.app.hopsworks.ai/account/api/generated\n",
      "Connected. Call `.close()` to terminate connection gracefully.\n",
      "\n",
      "Logged in to project, explore it here https://c.app.hopsworks.ai:443/p/549019\n",
      "Connected. Call `.close()` to terminate connection gracefully.\n"
     ]
    }
   ],
   "source": [
    "# Connceting to the Hopsworks project\n",
    "\n",
    "project = hopsworks.login(project=\"annikaij\")\n",
    "\n",
    "fs = project.get_feature_store()"
   ]
  },
  {
   "cell_type": "code",
   "execution_count": 15,
   "metadata": {
    "metadata": {}
   },
   "outputs": [
    {
     "name": "stderr",
     "output_type": "stream",
     "text": [
      "Uploading Dataframe: 100.00% |██████████| Rows 1/1 | Elapsed Time: 00:05 | Remaining Time: 00:00\n"
     ]
    },
    {
     "name": "stdout",
     "output_type": "stream",
     "text": [
      "Launching job: api_bikelane_newest_1_offline_fg_materialization\n",
      "Job started successfully, you can follow the progress at \n",
      "https://c.app.hopsworks.ai/p/549014/jobs/named/api_bikelane_newest_1_offline_fg_materialization/executions\n"
     ]
    },
    {
     "data": {
      "text/plain": [
       "(<hsfs.core.job.Job at 0x759c599f7550>, None)"
      ]
     },
     "execution_count": 15,
     "metadata": {},
     "output_type": "execute_result"
    }
   ],
   "source": [
    "bikelane_fg = fs.get_or_create_feature_group(name=\"api_bikelane_newest\",\n",
    "                                  version=1,\n",
    "                                  primary_key=[\"id\"],\n",
    "                                  event_time='time',\n",
    "                                  description=\"New bike lane data\",\n",
    "                                  online_enabled=True,\n",
    "                                 )\n",
    "bikelane_fg.insert(df_bikelane)"
   ]
  },
  {
   "cell_type": "code",
   "execution_count": 16,
   "metadata": {
    "metadata": {}
   },
   "outputs": [
    {
     "name": "stderr",
     "output_type": "stream",
     "text": [
      "Uploading Dataframe: 100.00% |██████████| Rows 1/1 | Elapsed Time: 00:05 | Remaining Time: 00:00\n"
     ]
    },
    {
     "name": "stdout",
     "output_type": "stream",
     "text": [
      "Launching job: api_building_newest_1_offline_fg_materialization\n",
      "Job started successfully, you can follow the progress at \n",
      "https://c.app.hopsworks.ai/p/549014/jobs/named/api_building_newest_1_offline_fg_materialization/executions\n"
     ]
    },
    {
     "data": {
      "text/plain": [
       "(<hsfs.core.job.Job at 0x759c58e5f250>, None)"
      ]
     },
     "execution_count": 16,
     "metadata": {},
     "output_type": "execute_result"
    }
   ],
   "source": [
    "building_fg = fs.get_or_create_feature_group(name=\"api_building_newest\",\n",
    "                                    version=1,\n",
    "                                    primary_key=[\"id\"],\n",
    "                                    event_time='time',\n",
    "                                    description=\"New building data\",\n",
    "                                    online_enabled=True\n",
    "                                     )\n",
    "building_fg.insert(df_building)"
   ]
  },
  {
   "cell_type": "markdown",
   "metadata": {},
   "source": [
    "## **Next up:** 3: Feature view creation\n",
    "Go to the 3_featureview_creation.ipynb notebook"
   ]
  }
 ],
 "metadata": {
  "kernelspec": {
   "display_name": "Python 3",
   "language": "python",
   "name": "python3"
  },
  "language_info": {
   "codemirror_mode": {
    "name": "ipython",
    "version": 3
   },
   "file_extension": ".py",
   "mimetype": "text/x-python",
   "name": "python",
   "nbconvert_exporter": "python",
   "pygments_lexer": "ipython3",
   "version": "3.10.13"
  }
 },
 "nbformat": 4,
 "nbformat_minor": 2
}
